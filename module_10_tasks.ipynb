{
 "cells": [
  {
   "cell_type": "code",
   "execution_count": 1,
   "id": "49e42b9d",
   "metadata": {},
   "outputs": [],
   "source": [
    "import pandas as pd\n",
    "import seaborn as sns\n",
    "\n",
    "from math import floor\n",
    "from copy import deepcopy\n",
    "\n",
    "import random"
   ]
  },
  {
   "cell_type": "code",
   "execution_count": 2,
   "id": "88d6f367",
   "metadata": {},
   "outputs": [],
   "source": [
    "# Настройка для более красивого отображения графиков с помощью seaborn.\n",
    "sns.set(rc={'figure.figsize': (11.7, 8.27)})"
   ]
  },
  {
   "cell_type": "code",
   "execution_count": 3,
   "id": "c3e1ffeb",
   "metadata": {},
   "outputs": [],
   "source": [
    "def custom_compare(x, y):\n",
    "    if str(x) != str(y):\n",
    "        raise RuntimeError(f'Ожидаемое значение: {y}. Фактическое: {x}')"
   ]
  },
  {
   "cell_type": "code",
   "execution_count": 4,
   "id": "b17fa6ff",
   "metadata": {},
   "outputs": [],
   "source": [
    "class ShuffleOnceRandom():\n",
    "    \"\"\"\n",
    "    Генератор случайных чисел, который запрещает использовать\n",
    "    функцию shuffle больше одного раза.\n",
    "    \"\"\"\n",
    "    \n",
    "    def __init__(self, seed=None):\n",
    "        import random\n",
    "        \n",
    "        self._random_gen = random.Random(seed)\n",
    "        self._shuffle_cnt = 0\n",
    "        \n",
    "    def shuffle(self, l):\n",
    "        if self._shuffle_cnt > 0:\n",
    "            raise RuntimeError('Нельзя использовать функцию shuffle больше одного раза')\n",
    "            \n",
    "        self._shuffle_cnt += 1\n",
    "        self._random_gen.shuffle(l)"
   ]
  },
  {
   "cell_type": "code",
   "execution_count": 5,
   "id": "2b37de9e",
   "metadata": {},
   "outputs": [],
   "source": [
    "class ShuffleNRandom():\n",
    "    \"\"\"\n",
    "    Генератор случайных чисел, который запрещает использовать\n",
    "    функцию shuffle больше n раз.\n",
    "    \"\"\"\n",
    "    \n",
    "    def __init__(self, n, seed=None):\n",
    "        import random\n",
    "        \n",
    "        self._n = n\n",
    "        self._random_gen = random.Random(seed)\n",
    "        self._shuffle_cnt = 0\n",
    "        \n",
    "    def shuffle(self, l):\n",
    "        if self._shuffle_cnt > self._n:\n",
    "            raise RuntimeError('Нельзя использовать функцию shuffle больше одного раза')\n",
    "            \n",
    "        self._shuffle_cnt += 1\n",
    "        self._random_gen.shuffle(l)"
   ]
  },
  {
   "cell_type": "markdown",
   "id": "cca9636e",
   "metadata": {},
   "source": [
    "# Лекция 3. Как разбить пользователей на группы"
   ]
  },
  {
   "cell_type": "markdown",
   "id": "7ba1addb",
   "metadata": {},
   "source": [
    "## Задание 1"
   ]
  },
  {
   "cell_type": "code",
   "execution_count": 24,
   "id": "67534ca9",
   "metadata": {},
   "outputs": [],
   "source": [
    "def split_solution(data, \n",
    "                   frac,\n",
    "                   random_gen):\n",
    "    \"\"\"\n",
    "    Разбивает переданный список объектов на две выборки.\n",
    "    \n",
    "    Аргументы:\n",
    "        data: Список объектов, который нужно разделить на выборки.\n",
    "        frac: Доля объектов, которые нужно отправить в первую выборку.\n",
    "        random_gen: Генератор случайных чисел.\n",
    "        \n",
    "    Возвращаемое значение:\n",
    "        Пара списков: первая выборка, вторая выборка.\n",
    "    \"\"\"\n",
    "    \n",
    "    lst = deepcopy(data)\n",
    "    random_gen.shuffle(lst)\n",
    "    boundary = floor(len(lst) * frac)\n",
    "    return lst[:boundary], lst[boundary:]"
   ]
  },
  {
   "cell_type": "code",
   "execution_count": 25,
   "id": "578fef89",
   "metadata": {},
   "outputs": [],
   "source": [
    "def split_tests():\n",
    "    example_1_data = [1, 2, 3, 4, 5, 6, 7, 8, 9, 10]\n",
    "    example_1_frac = 0.7\n",
    "    example_1_random_gen = ShuffleOnceRandom(0)\n",
    "    \n",
    "    example_1_res = [8, 9, 2, 6, 4, 5, 3], [1, 10, 7]\n",
    "    \n",
    "    custom_compare(split_solution(example_1_data, \n",
    "                                  example_1_frac, \n",
    "                                  example_1_random_gen),\n",
    "                   example_1_res)\n",
    "    \n",
    "    \n",
    "    example_2_data = [i % 5 for i in range(100)]\n",
    "    example_2_frac = 0.9\n",
    "    example_2_random_gen = ShuffleOnceRandom(0)\n",
    "    \n",
    "    example_2_res = [3, 3, 1, 2, 3, 3, 1, 1, 4, 4, 1, 3, 2, 1, 0, 2, 2, 2, 3, 1, 4, 1, 4, 0, 4, 0, 2, 4, 3, 2, 3, 1, 3, 4, 1, 3, 4, 3, 4, 4, 4, 0, 4, 0, 0, 1, 1, 1, 2, 2, 3, 0, 4, 0, 3, 1, 1, 0, 2, 0, 3, 2, 3, 0, 1, 0, 1, 0, 0, 4, 0, 1, 0, 2, 4, 2, 4, 3, 2, 3, 2, 4, 2, 0, 1, 2, 4, 2, 4, 0], [1, 3, 1, 2, 0, 3, 0, 3, 2, 4]\n",
    "    \n",
    "    custom_compare(split_solution(example_2_data, \n",
    "                                  example_2_frac, \n",
    "                                  example_2_random_gen),\n",
    "                   example_2_res)\n",
    "    \n",
    "    print('Все тесты прошли успешно!')"
   ]
  },
  {
   "cell_type": "code",
   "execution_count": 26,
   "id": "835decd7",
   "metadata": {},
   "outputs": [
    {
     "name": "stdout",
     "output_type": "stream",
     "text": [
      "Все тесты прошли успешно!\n"
     ]
    }
   ],
   "source": [
    "split_tests()"
   ]
  },
  {
   "cell_type": "markdown",
   "id": "42ce6c6b",
   "metadata": {},
   "source": [
    "# Лекция 4. Элементы математической статистики"
   ]
  },
  {
   "cell_type": "code",
   "execution_count": null,
   "id": "9c24ec30",
   "metadata": {},
   "outputs": [],
   "source": [
    "general_vals = pd.read_csv('general_vals.csv')"
   ]
  },
  {
   "cell_type": "markdown",
   "id": "292a2f66",
   "metadata": {},
   "source": [
    "## Задание 1"
   ]
  },
  {
   "cell_type": "markdown",
   "id": "8748225e",
   "metadata": {},
   "source": [
    "Постройте график распределения значений из колонки `metric` и вычислите среднее значение в колонке."
   ]
  },
  {
   "cell_type": "markdown",
   "id": "c60b3599",
   "metadata": {},
   "source": [
    "## Задание 2"
   ]
  },
  {
   "cell_type": "markdown",
   "id": "0b4fe18c",
   "metadata": {},
   "source": [
    "Будем рассматривать значения из колонки `metric` как некоторую генеральную совокупность.\n",
    "\n",
    "Используя реализованную в рамках предыдущих заданий модуля функцию `split_solution`, создайте случайную выборку, размер которой равен `0.03` от размера всей генеральной совокупности. Для этого воспользуйтесь данным в блокноте генератором случайных чисел — `task_2_random_gen`. В качестве искомой выборки возьмите первую выборку из результата работы функции `split_solution`.\n",
    "\n",
    "Вычислите разность выборочного среднего и среднего в генеральной совокупности. В качестве ответа укажите модуль этой разности, округлённый до $2$ знаков после запятой. В процессе вычисления средние не округляйте.\n",
    "\n",
    "**Рекомендации по решению**\n",
    "\n",
    "Важно, что значения из генеральной совокупности удобно поместить из колонки в список. Сделать это можно с помощью функции `list`:\n",
    "```\n",
    "metric_l = list(general_vals.metric)\n",
    "```"
   ]
  },
  {
   "cell_type": "code",
   "execution_count": null,
   "id": "209cf86f",
   "metadata": {},
   "outputs": [],
   "source": [
    "task_2_random_gen = ShuffleOnceRandom(0)"
   ]
  },
  {
   "cell_type": "markdown",
   "id": "518cdc7d",
   "metadata": {},
   "source": [
    "## Задание 3"
   ]
  },
  {
   "cell_type": "markdown",
   "id": "9e1fd2ca",
   "metadata": {},
   "source": [
    "Сгенерируйте $1000$ случайных выборок из генеральной совокупности размера $0.03$ от её размера, воспользовавшись заготовкой ниже.\n",
    "\n",
    "Постройте график распределения выборочных средних и вычислите разность среднего в полученном распределении выборочных средних и среднего в генеральной совокупности."
   ]
  },
  {
   "cell_type": "code",
   "execution_count": null,
   "id": "08166067",
   "metadata": {},
   "outputs": [],
   "source": [
    "N = 1000\n",
    "frac = 0.03"
   ]
  },
  {
   "cell_type": "code",
   "execution_count": null,
   "id": "00ceab5b",
   "metadata": {},
   "outputs": [],
   "source": [
    "task_3_random_gen = ShuffleNRandom(N, seed=1)"
   ]
  },
  {
   "cell_type": "code",
   "execution_count": null,
   "id": "b0c78041",
   "metadata": {},
   "outputs": [],
   "source": [
    "random_samples = []\n",
    "\n",
    "for i in range(N):\n",
    "    random_sample, _ = split_solution(metric_l, frac, task_3_random_gen)\n",
    "    random_samples.append(random_sample)"
   ]
  },
  {
   "cell_type": "markdown",
   "id": "c8f2b4bc",
   "metadata": {},
   "source": [
    "# Лекция 7. Статистическая проверка гипотез на практике"
   ]
  },
  {
   "cell_type": "code",
   "execution_count": null,
   "id": "8456bd18",
   "metadata": {},
   "outputs": [],
   "source": [
    "!pip3 install scipy"
   ]
  },
  {
   "cell_type": "code",
   "execution_count": null,
   "id": "a4d5a975",
   "metadata": {},
   "outputs": [],
   "source": [
    "ab_data = pd.read_csv('ab_data.csv')"
   ]
  },
  {
   "cell_type": "markdown",
   "id": "74703fda",
   "metadata": {},
   "source": [
    "## Задание 1"
   ]
  },
  {
   "cell_type": "markdown",
   "id": "737c9149",
   "metadata": {},
   "source": [
    "Как вы узнали из лекции, одним из условий использования t-теста является то, что дисперсии в сравниваемых группах должны быть равны. Проверить равенство дисперсий в генеральных совокупностях, соответствующих конкретным выборкам, можно с помощью отдельного статистического теста — теста Левена, который проверяет нулевую гипотезу о равенстве дисперсий в двух распределениях.\n",
    "\n",
    "Проверьте гипотезу о равенстве дисперсий в контрольной и экспериментальной группах. Для этого импортируйте из библиотеки `scipy` тест Левена:\n",
    "```\n",
    "from scipy.stats import levene\n",
    "```\n",
    "\n",
    "После этого запустите функцию `levene`, передав в качестве первого её аргумента список значений метрики из выборки, соответствующей контрольной группе, а в качестве второго аргумента — список значений метрики из выборки, соответствующей экспериментальной группе.\n",
    "\n",
    "В результате работы функция вернёт пару чисел: значение статистики теста, рассчитанной для наших данных, а также значение p-value для наших данных."
   ]
  },
  {
   "cell_type": "code",
   "execution_count": null,
   "id": "eaf76c47",
   "metadata": {},
   "outputs": [],
   "source": [
    "from scipy.stats import levene"
   ]
  },
  {
   "cell_type": "markdown",
   "id": "023abf43",
   "metadata": {},
   "source": [
    "## Задание 2"
   ]
  },
  {
   "cell_type": "markdown",
   "id": "4b1798f7",
   "metadata": {},
   "source": [
    "Теперь можно переходить к сравнению средних значений метрики в двух группах с помощью t-теста.\n",
    "\n",
    "Чтобы импортировать его из библиотеки `scipy`, воспользуйтесь следующим кодом:\n",
    "```\n",
    "from scipy.stats import ttest_ind\n",
    "```\n",
    "\n",
    "Аналогично функции `levene` функция `ttest_ind` принимает на вход списки значений метрики для двух выборок, а возвращает пару значений — статистику теста и значение p-value.\n",
    "\n",
    "У функции `ttest_ind` есть дополнительный аргумент `equal_var`, который по умолчанию равен `True`. Этот аргумент отвечает за то, будет ли использоваться при сравнении двух выборок t-тест Уэлча, учитывающий возможную разницу между дисперсиями распределений. В случае, если значение `equal_var = True`, используется обычный вариант t-теста, в случае, если значение равно `False`, используется t-тест Уэлча.\n",
    "\n",
    "В рамках задания установите параметр `equal_var = False` в случае, если тест Левена в предыдущем задании позволил вам отклонить нулевую гипотезу о равенстве дисперсий на заданном уровне значимости $\\alpha = 0.01$."
   ]
  },
  {
   "cell_type": "code",
   "execution_count": null,
   "id": "960f7b7d",
   "metadata": {},
   "outputs": [],
   "source": [
    "from scipy.stats import ttest_ind"
   ]
  }
 ],
 "metadata": {
  "kernelspec": {
   "display_name": "Python 3",
   "language": "python",
   "name": "python3"
  },
  "language_info": {
   "codemirror_mode": {
    "name": "ipython",
    "version": 3
   },
   "file_extension": ".py",
   "mimetype": "text/x-python",
   "name": "python",
   "nbconvert_exporter": "python",
   "pygments_lexer": "ipython3",
   "version": "3.8.8"
  }
 },
 "nbformat": 4,
 "nbformat_minor": 5
}
