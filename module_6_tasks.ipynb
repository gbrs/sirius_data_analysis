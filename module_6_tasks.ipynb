{
 "cells": [
  {
   "cell_type": "code",
   "execution_count": 1,
   "id": "f88eac22",
   "metadata": {},
   "outputs": [],
   "source": [
    "import pandas as pd"
   ]
  },
  {
   "cell_type": "code",
   "execution_count": 2,
   "id": "70980fe1",
   "metadata": {},
   "outputs": [],
   "source": [
    "def compare_dataframes(df_actual, df_expected):\n",
    "    if not df_actual.reset_index(drop=True).equals(df_expected.reset_index(drop=True)):\n",
    "        raise RuntimeError(f'\\nОжидаемое значение:\\n {df_expected} \\nФактическое:\\n {df_actual}')\n",
    "        \n",
    "def compare_series(ser_actual, ser_expected):\n",
    "    if not ser_actual.equals(ser_expected):\n",
    "        raise RuntimeError(f'\\nОжидаемое значение:\\n {ser_expected} \\nФактическое:\\n {ser_actual}')\n",
    "        \n",
    "def calculate_lines_of_code(f):\n",
    "    import inspect\n",
    "    \n",
    "    counting = True\n",
    "    counter = 0\n",
    "    \n",
    "    for line in inspect.getsourcelines(f)[0]:\n",
    "        if line.strip() == '\"\"\"':\n",
    "            counting = not counting\n",
    "            continue\n",
    "            \n",
    "        if line.strip() == '':\n",
    "            continue\n",
    "            \n",
    "        if counting:\n",
    "            counter += 1\n",
    "            \n",
    "    return counter - 1"
   ]
  },
  {
   "cell_type": "markdown",
   "id": "1127f643",
   "metadata": {},
   "source": [
    "## Цепочки методов"
   ]
  },
  {
   "cell_type": "code",
   "execution_count": 27,
   "id": "f9e25ba7",
   "metadata": {},
   "outputs": [],
   "source": [
    "def modify_columns_solution(df, column_to_drop, column_to_change):\n",
    "    \"\"\"\n",
    "    Преобразует заданную таблицу типа DataFrame с помощью цепочки методов.\n",
    "\n",
    "    Аргументы:\n",
    "        df: Исходная таблица.\n",
    "        column_to_drop: Название колонки, которую нужно удалить.\n",
    "        column_to_change: Название колонки, которую нужно изменить.\n",
    "        \n",
    "    Возвращаемое значение:\n",
    "        Таблица, преобразованная с помощью цепочки методов:\n",
    "            1. Добавление в исходную таблицу новой колонки с названием new,\n",
    "               которая получена на основе колонки column_to_change с помощью прибавления 1.\n",
    "            2. Удаление колонки column_to_drop.\n",
    "            3. Переименование колонки column_to_change в колонку с названием renamed.\n",
    "    \"\"\"\n",
    "    return df.assign(new = lambda x: x[column_to_change] + 1).drop(column_to_drop, axis=1).rename(columns={column_to_change: 'renamed'})"
   ]
  },
  {
   "cell_type": "code",
   "execution_count": 28,
   "id": "a929f0b0",
   "metadata": {},
   "outputs": [],
   "source": [
    "def _test_modify_columns(df, column_to_drop, column_to_change, expected_df):\n",
    "    compare_dataframes(modify_columns_solution(df, column_to_drop, column_to_change), expected_df)\n",
    "\n",
    "def test_modify_columns_1():\n",
    "    df = pd.DataFrame({\n",
    "        'column1': [1, 2, 3, 4],\n",
    "        'column2': [5, 6, 7, 8],\n",
    "        'column3': [None, None, None, None]\n",
    "    })\n",
    "    column_to_drop = 'column3'\n",
    "    column_to_change = 'column1'\n",
    "    expected_df = pd.DataFrame({\n",
    "        'renamed': [1, 2, 3, 4],\n",
    "        'column2': [5, 6, 7, 8],\n",
    "        'new': [2, 3, 4, 5]\n",
    "    })\n",
    "    _test_modify_columns(df, column_to_drop, column_to_change, expected_df)\n",
    "    \n",
    "def test_modify_columns_2():\n",
    "    df = pd.DataFrame({\n",
    "        'column1': [1, 2, 3, 4]\n",
    "    })\n",
    "    column_to_drop = 'column1'\n",
    "    column_to_change = 'column1'\n",
    "    expected_df = pd.DataFrame({\n",
    "        'new': [2, 3, 4, 5]\n",
    "    })\n",
    "    _test_modify_columns(df, column_to_drop, column_to_change, expected_df)\n",
    "    \n",
    "def modify_columns_test():\n",
    "    if calculate_lines_of_code(modify_columns_solution) != 1:\n",
    "        raise RuntimeError('В теле функции должна быть ровно одна строка!')\n",
    "        \n",
    "    test_modify_columns_1()\n",
    "    test_modify_columns_2()\n",
    "    \n",
    "    print('Все тесты прошли успешно!')"
   ]
  },
  {
   "cell_type": "code",
   "execution_count": 29,
   "id": "0d56d8b0",
   "metadata": {},
   "outputs": [
    {
     "name": "stdout",
     "output_type": "stream",
     "text": [
      "Все тесты прошли успешно!\n"
     ]
    }
   ],
   "source": [
    "modify_columns_test()"
   ]
  },
  {
   "cell_type": "code",
   "execution_count": 45,
   "id": "bb41643e",
   "metadata": {},
   "outputs": [],
   "source": [
    "def filter_group_aggregate_sort_solution(df, column_to_filter, filter_set, column_to_group, column_to_aggregate):\n",
    "    \"\"\"\n",
    "    Преобразует заданную таблицу типа DataFrame с помощью цепочки методов.\n",
    "\n",
    "    Аргументы:\n",
    "        df: Исходная таблица.\n",
    "        column_to_filter: Название колонки, по которой нужно провести фильтрацию.\n",
    "        filter_set: Множество значений, согласно которому нужно провести фильтрацию.\n",
    "        column_to_group: Название колонки, по которой нужно произвести группировку.\n",
    "        column_to_aggregate: Название колонки, по которой нужно произвести агрегацию.\n",
    "        \n",
    "    Возвращаемое значение:\n",
    "        Таблица, преобразованная с помощью цепочки методов:\n",
    "            1. Фильтрация исходной таблицы по следующему принципу: необходимо оставить строки,\n",
    "               для которых значение в колонке column_to_filter содержится во множестве filter_set.\n",
    "            2. Группировка строчек в таблице по значениям в колонке column_to_group\n",
    "               (группировку нужно проводить со значением аргумента as_index=False).\n",
    "            3. Агрегация по колонке column_to_aggregate с функцией агрегации sum.\n",
    "            4. Сортировка строчек в таблице в порядке убывания значений\n",
    "               в колонке column_to_aggregate.\n",
    "    \"\"\"\n",
    "    return df[df[column_to_filter].isin(filter_set)].groupby(column_to_group, as_index=False).agg({column_to_aggregate: 'sum'}).sort_values(column_to_aggregate, ascending=False)"
   ]
  },
  {
   "cell_type": "code",
   "execution_count": 46,
   "id": "22e0b53c",
   "metadata": {},
   "outputs": [],
   "source": [
    "def _test_filter_group_aggregate_sort(df, column_to_filter, filter_set, column_to_group, column_to_aggregate, expected_df):\n",
    "    compare_dataframes(filter_group_aggregate_sort_solution(df, column_to_filter, filter_set, column_to_group, column_to_aggregate), expected_df)\n",
    "\n",
    "def test_filter_group_aggregate_sort_1():\n",
    "    df = pd.DataFrame({\n",
    "        'column1': ['a', 'a', 'b', 'b'],\n",
    "        'column2': [1, 2, 3, 4],\n",
    "        'column3': [10, -1, 6, 8]\n",
    "    })\n",
    "    column_to_filter = 'column3'\n",
    "    filter_set = {1, 2, 3, 4, 5, 6, 7, 8, 9, 10}\n",
    "    column_to_group = 'column1'\n",
    "    column_to_aggregate = 'column2'\n",
    "    expected_df = pd.DataFrame({\n",
    "        'column1': ['b', 'a'],\n",
    "        'column2': [7, 1]\n",
    "    })\n",
    "    _test_filter_group_aggregate_sort(df, column_to_filter, filter_set, column_to_group, column_to_aggregate, expected_df)\n",
    "    \n",
    "def test_filter_group_aggregate_sort_2():\n",
    "    df = pd.DataFrame({\n",
    "        'column1': [1, 2, 3, 4, 1]\n",
    "    })\n",
    "    column_to_filter = 'column1'\n",
    "    filter_set = {1, 4}\n",
    "    column_to_group = 'column1'\n",
    "    column_to_aggregate = 'column1'\n",
    "    expected_df = pd.DataFrame({\n",
    "        'column1': [4, 2]\n",
    "    })\n",
    "    _test_filter_group_aggregate_sort(df, column_to_filter, filter_set, column_to_group, column_to_aggregate, expected_df)\n",
    "    \n",
    "def filter_group_aggregate_sort_test():\n",
    "    if calculate_lines_of_code(filter_group_aggregate_sort_solution) != 1:\n",
    "        raise RuntimeError('В теле функции должна быть ровно одна строка!')\n",
    "        \n",
    "    test_filter_group_aggregate_sort_1()\n",
    "    test_filter_group_aggregate_sort_2()\n",
    "    \n",
    "    print('Все тесты прошли успешно!')"
   ]
  },
  {
   "cell_type": "code",
   "execution_count": 47,
   "id": "8ba0a31c",
   "metadata": {},
   "outputs": [
    {
     "name": "stdout",
     "output_type": "stream",
     "text": [
      "Все тесты прошли успешно!\n"
     ]
    }
   ],
   "source": [
    "filter_group_aggregate_sort_test()"
   ]
  },
  {
   "cell_type": "markdown",
   "id": "d9fb1158",
   "metadata": {},
   "source": [
    "## Полезные функции и методы"
   ]
  },
  {
   "cell_type": "code",
   "execution_count": 20,
   "id": "839f1b89",
   "metadata": {},
   "outputs": [],
   "source": [
    "def pivot_table_solution(df, index_column, columns_column, values_column):\n",
    "    \"\"\"\n",
    "    Преобразует заданную таблицу типа `DataFrame` в сводную таблицу.\n",
    "    \n",
    "    Аргументы:\n",
    "        df: Исходная таблица.\n",
    "        index_column: Название колонки, значения из которой должны стать индексом в сводной таблице.\n",
    "        columns_column: Название колонки, значения из которой должны стать колонками в сводной таблице;\n",
    "        values_column: Название колонки, значения из которой должны стать колонками в сводной таблице.\n",
    "        \n",
    "    Возвращаемое значение:\n",
    "        Сводная таблица, в которой строчки и столбцы упорядочены по возрастанию индекса.\n",
    "    \"\"\"\n",
    "    \n",
    "    return pd.pivot_table(df, values_column, index_column, columns_column).sort_index(axis=0).sort_index(axis=1)"
   ]
  },
  {
   "cell_type": "code",
   "execution_count": 21,
   "id": "1ffd8eac",
   "metadata": {},
   "outputs": [],
   "source": [
    "def _test_pivot_table(df, index_column, columns_column, values_column, expected_df):\n",
    "    compare_dataframes(pivot_table_solution(df, index_column, columns_column, values_column), expected_df)\n",
    "\n",
    "def test_pivot_table_1():\n",
    "    df = pd.DataFrame({\n",
    "        'subject': ['Биология', 'Химия', 'Математика', 'Математика', 'Химия', 'Математика', 'Математика', 'Химия', 'Биология'],\n",
    "        'grade': [9, 8, 5, 7, 9, 6, 10, 10, 8],\n",
    "        'count': [183, 109, 534, 340, 129, 402, 173, 144, 197]\n",
    "    })\n",
    "    index_column = 'subject'\n",
    "    columns_column = 'grade'\n",
    "    values_column = 'count'\n",
    "    expected_df = pd.DataFrame([\n",
    "            [None, None, None, 197, 183, None],\n",
    "            [534, 402, 340, None, None, 173],\n",
    "            [None, None, None, 109, 129, 144]\n",
    "        ],\n",
    "        index=['Биология', 'Математика', 'Химия'],\n",
    "        columns=[5, 6, 7, 8, 9, 10]\n",
    "    )\n",
    "    expected_df.index.name = 'subject'\n",
    "    expected_df.columns.name = 'grade'\n",
    "    _test_pivot_table(df, index_column, columns_column, values_column, expected_df)\n",
    "    \n",
    "def pivot_table_test():\n",
    "    if calculate_lines_of_code(pivot_table_solution) != 1:\n",
    "        raise RuntimeError('В теле функции должна быть ровно одна строка!')\n",
    "        \n",
    "    test_pivot_table_1()\n",
    "    \n",
    "    print('Все тесты прошли успешно!')"
   ]
  },
  {
   "cell_type": "code",
   "execution_count": 22,
   "id": "c6df71f7",
   "metadata": {},
   "outputs": [
    {
     "name": "stdout",
     "output_type": "stream",
     "text": [
      "Все тесты прошли успешно!\n"
     ]
    }
   ],
   "source": [
    "pivot_table_test()"
   ]
  },
  {
   "cell_type": "code",
   "execution_count": null,
   "id": "4cec2996-f5c6-4104-8ae8-b7325e579e39",
   "metadata": {},
   "outputs": [],
   "source": []
  },
  {
   "cell_type": "code",
   "execution_count": 42,
   "id": "89eb4274",
   "metadata": {},
   "outputs": [],
   "source": [
    "def count_courses_solution(df):\n",
    "    \"\"\"\n",
    "    Преобразует заданную таблицу типа DataFrame с помощью цепочки методов.\n",
    "\n",
    "    Аргументы:\n",
    "        df: Исходная таблица.\n",
    "        \n",
    "    Возвращаемое значение:\n",
    "        Таблица, преобразованная с помощью цепочки методов:\n",
    "            1. Изменение колонки courses: разбиение значений в колонке\n",
    "               с помощью функции split по разделителю «, ».\n",
    "            2. Приведение с помощью функции explode таблицы к виду, когда в каждой\n",
    "               строке в колонке courses записано ровно одно значение идентификатора курса.\n",
    "            3. Подсчёт с помощью функции value_counts частоты встречаемости курсов в колонке courses.\n",
    "    \"\"\"\n",
    "    return df.courses.str.split(', ').explode().value_counts()"
   ]
  },
  {
   "cell_type": "code",
   "execution_count": 43,
   "id": "d97aba60",
   "metadata": {},
   "outputs": [],
   "source": [
    "def _test_count_courses(ser, expected_ser):\n",
    "    compare_series(ser, expected_ser)\n",
    "\n",
    "def test_count_courses_1():\n",
    "    df = pd.read_csv('courses_test1.csv')\n",
    "    expected_ser = pd.Series([12, 12, 11, 8])\n",
    "    expected_ser.index = ['1235', '1236', '1237', '1234']\n",
    "    expected_ser.index.name = 'courses'\n",
    "    _test_count_courses(count_courses_solution(df), expected_ser)\n",
    "    \n",
    "def count_courses_test():\n",
    "    if calculate_lines_of_code(count_courses_solution) != 1:\n",
    "        raise RuntimeError('В теле функции должна быть ровно одна строка!')\n",
    "        \n",
    "    test_count_courses_1()\n",
    "    \n",
    "    print('Все тесты прошли успешно!')"
   ]
  },
  {
   "cell_type": "code",
   "execution_count": 44,
   "id": "e60cdb4d",
   "metadata": {},
   "outputs": [
    {
     "name": "stdout",
     "output_type": "stream",
     "text": [
      "Все тесты прошли успешно!\n"
     ]
    }
   ],
   "source": [
    "count_courses_test()"
   ]
  },
  {
   "cell_type": "markdown",
   "id": "cd18eb79",
   "metadata": {},
   "source": [
    "## Заготовки для вычислительных задач"
   ]
  },
  {
   "cell_type": "markdown",
   "id": "0867515b",
   "metadata": {},
   "source": [
    "В файле `user.csv` (<a class=\"ui-file-link\" href=\"https://edu.sirius.online/noo-back/files/ac515a3d068d43bcd3fb4c9b98cba21970ae6b83.csv\" download=\"user.csv\">user.csv</a>) содержится таблица `user` с полями `id`, `grade` и `region`.\n",
    "\n",
    "С помощью функции `sample` сделайте случайную выборку из этой таблицы, содержащую $100$ строк. В качестве зерна (параметр `random_state`) используйте число $42$. Вычислите сумму значений в колонке `grade` получившейся выборки."
   ]
  },
  {
   "cell_type": "code",
   "execution_count": 23,
   "id": "de26252b",
   "metadata": {},
   "outputs": [],
   "source": [
    "user_df = pd.read_csv('user_6.csv')"
   ]
  },
  {
   "cell_type": "code",
   "execution_count": 24,
   "id": "d6d6da9c-1dcb-42e7-9e07-c3b8f07303e0",
   "metadata": {},
   "outputs": [
    {
     "data": {
      "text/html": [
       "<div>\n",
       "<style scoped>\n",
       "    .dataframe tbody tr th:only-of-type {\n",
       "        vertical-align: middle;\n",
       "    }\n",
       "\n",
       "    .dataframe tbody tr th {\n",
       "        vertical-align: top;\n",
       "    }\n",
       "\n",
       "    .dataframe thead th {\n",
       "        text-align: right;\n",
       "    }\n",
       "</style>\n",
       "<table border=\"1\" class=\"dataframe\">\n",
       "  <thead>\n",
       "    <tr style=\"text-align: right;\">\n",
       "      <th></th>\n",
       "      <th>id</th>\n",
       "      <th>gender</th>\n",
       "      <th>birthday</th>\n",
       "      <th>grade</th>\n",
       "      <th>region</th>\n",
       "      <th>last_visited</th>\n",
       "    </tr>\n",
       "  </thead>\n",
       "  <tbody>\n",
       "    <tr>\n",
       "      <th>0</th>\n",
       "      <td>1</td>\n",
       "      <td>М</td>\n",
       "      <td>02.11.2007</td>\n",
       "      <td>9.0</td>\n",
       "      <td>Город Санкт-Петербург</td>\n",
       "      <td>23.08.2023 03:04:14</td>\n",
       "    </tr>\n",
       "    <tr>\n",
       "      <th>1</th>\n",
       "      <td>2</td>\n",
       "      <td>Ж</td>\n",
       "      <td>29.01.2009</td>\n",
       "      <td>8.0</td>\n",
       "      <td>Город Москва</td>\n",
       "      <td>07.09.2023 09:21:35</td>\n",
       "    </tr>\n",
       "    <tr>\n",
       "      <th>2</th>\n",
       "      <td>3</td>\n",
       "      <td>М</td>\n",
       "      <td>09.05.2007</td>\n",
       "      <td>NaN</td>\n",
       "      <td>Город Санкт-Петербург</td>\n",
       "      <td>23.08.2023 18:32:18</td>\n",
       "    </tr>\n",
       "    <tr>\n",
       "      <th>3</th>\n",
       "      <td>4</td>\n",
       "      <td>Ж</td>\n",
       "      <td>27.09.2007</td>\n",
       "      <td>9.0</td>\n",
       "      <td>Город Москва</td>\n",
       "      <td>18.08.2023 07:34:11</td>\n",
       "    </tr>\n",
       "    <tr>\n",
       "      <th>4</th>\n",
       "      <td>5</td>\n",
       "      <td>Ж</td>\n",
       "      <td>04.08.2007</td>\n",
       "      <td>NaN</td>\n",
       "      <td>Город Москва</td>\n",
       "      <td>02.09.2023 18:31:30</td>\n",
       "    </tr>\n",
       "  </tbody>\n",
       "</table>\n",
       "</div>"
      ],
      "text/plain": [
       "   id gender    birthday  grade                 region         last_visited\n",
       "0   1      М  02.11.2007    9.0  Город Санкт-Петербург  23.08.2023 03:04:14\n",
       "1   2      Ж  29.01.2009    8.0           Город Москва  07.09.2023 09:21:35\n",
       "2   3      М  09.05.2007    NaN  Город Санкт-Петербург  23.08.2023 18:32:18\n",
       "3   4      Ж  27.09.2007    9.0           Город Москва  18.08.2023 07:34:11\n",
       "4   5      Ж  04.08.2007    NaN           Город Москва  02.09.2023 18:31:30"
      ]
     },
     "execution_count": 24,
     "metadata": {},
     "output_type": "execute_result"
    }
   ],
   "source": [
    "user_df.head()"
   ]
  },
  {
   "cell_type": "code",
   "execution_count": 25,
   "id": "ee5ca13b-c9a2-4b82-ab19-562f32b3054a",
   "metadata": {},
   "outputs": [
    {
     "data": {
      "text/plain": [
       "756.0"
      ]
     },
     "execution_count": 25,
     "metadata": {},
     "output_type": "execute_result"
    }
   ],
   "source": [
    "user_df.sample(100, random_state=42).grade.sum()"
   ]
  },
  {
   "cell_type": "code",
   "execution_count": null,
   "id": "68597f08-6b8e-4733-8953-70381feaf132",
   "metadata": {},
   "outputs": [],
   "source": []
  },
  {
   "cell_type": "markdown",
   "id": "908185fb",
   "metadata": {},
   "source": [
    "В файле `temperature.csv` (<a class=\"ui-file-link\" href=\"https://edu.sirius.online/noo-back/files/75dfda35914787f4e8dff30a1e01e020b25dea1e.csv\" download=\"temperature.csv\">temperature.csv</a>) содержится таблица с единственным полем `temperature` — значением температуры. У таблицы имеется отсортированный по возрастанию индекс, содержащий ежеминутные моменты времени. Температура записывается только в том случае, если она изменилась по сравнению с предыдущим моментом времени, поэтому в таблице присутствуют пропуски.\n",
    "\n",
    "Заполните пропуски в данных с помощью функции `ffill`. Вычислите среднюю температуру за весь период с учетом заполненных пропусков. Ответ округлите до двух знаков после запятой."
   ]
  },
  {
   "cell_type": "code",
   "execution_count": 26,
   "id": "c1f95e61",
   "metadata": {},
   "outputs": [],
   "source": [
    "temperature_df = pd.read_csv('temperature.csv', index_col=0)"
   ]
  },
  {
   "cell_type": "code",
   "execution_count": 28,
   "id": "2297a540-38d1-4a2b-99e5-aa9ee8f81424",
   "metadata": {},
   "outputs": [
    {
     "data": {
      "text/plain": [
       "temperature    0.095634\n",
       "dtype: float64"
      ]
     },
     "execution_count": 28,
     "metadata": {},
     "output_type": "execute_result"
    }
   ],
   "source": [
    "temperature_df.isna().mean()"
   ]
  },
  {
   "cell_type": "code",
   "execution_count": 29,
   "id": "604cf13e-69d3-4bc5-a260-a35e5197a665",
   "metadata": {},
   "outputs": [],
   "source": [
    "temperature_df = temperature_df.ffill()"
   ]
  },
  {
   "cell_type": "code",
   "execution_count": 30,
   "id": "2dfbc7de-f3ec-44a4-b091-6013fb5cc603",
   "metadata": {},
   "outputs": [
    {
     "data": {
      "text/plain": [
       "temperature    0.0\n",
       "dtype: float64"
      ]
     },
     "execution_count": 30,
     "metadata": {},
     "output_type": "execute_result"
    }
   ],
   "source": [
    "temperature_df.isna().mean()"
   ]
  },
  {
   "cell_type": "code",
   "execution_count": 31,
   "id": "a79bb04e-fb29-430c-b4ec-c20c15f2e121",
   "metadata": {
    "tags": []
   },
   "outputs": [
    {
     "data": {
      "text/plain": [
       "temperature    19.77\n",
       "dtype: float64"
      ]
     },
     "execution_count": 31,
     "metadata": {},
     "output_type": "execute_result"
    }
   ],
   "source": [
    "temperature_df.mean().round(2)"
   ]
  },
  {
   "cell_type": "code",
   "execution_count": null,
   "id": "828958fa-a75a-440e-8f8e-eb44936f3640",
   "metadata": {},
   "outputs": [],
   "source": []
  },
  {
   "cell_type": "markdown",
   "id": "271cb630",
   "metadata": {},
   "source": [
    "В файле `courses.csv` (<a class=\"ui-file-link\" href=\"https://edu.sirius.online/noo-back/files/3a181a08998d025dc24ea6d0a0bca312b53bf34d.csv\" download=\"courses.csv\">courses.csv</a>) содержится таблица с двумя колонками:\n",
    "1. `id` – идентификатор ученика;\n",
    "2. `courses` – список идентификаторов курсов, на которые записан ученик.\n",
    "\n",
    "Значения в колонке `courses` представляют собой строки, содержащие идентификаторы курсов, разделенные запятой с пробелом («`, `»). Гарантируется, что значения в поле `id` уникальны.\n",
    "\n",
    "Последовательно применяя функции `split`, `explode` и `value_counts`, определите, на какой курс записано больше всего учеников.\n"
   ]
  },
  {
   "cell_type": "code",
   "execution_count": 32,
   "id": "8200157c",
   "metadata": {},
   "outputs": [],
   "source": [
    "courses = pd.read_csv('courses.csv')"
   ]
  },
  {
   "cell_type": "code",
   "execution_count": 33,
   "id": "6cf55d35-cb53-465e-93f3-b0ef45250151",
   "metadata": {},
   "outputs": [
    {
     "data": {
      "text/html": [
       "<div>\n",
       "<style scoped>\n",
       "    .dataframe tbody tr th:only-of-type {\n",
       "        vertical-align: middle;\n",
       "    }\n",
       "\n",
       "    .dataframe tbody tr th {\n",
       "        vertical-align: top;\n",
       "    }\n",
       "\n",
       "    .dataframe thead th {\n",
       "        text-align: right;\n",
       "    }\n",
       "</style>\n",
       "<table border=\"1\" class=\"dataframe\">\n",
       "  <thead>\n",
       "    <tr style=\"text-align: right;\">\n",
       "      <th></th>\n",
       "      <th>id</th>\n",
       "      <th>courses</th>\n",
       "    </tr>\n",
       "  </thead>\n",
       "  <tbody>\n",
       "    <tr>\n",
       "      <th>0</th>\n",
       "      <td>0</td>\n",
       "      <td>1236, 1241</td>\n",
       "    </tr>\n",
       "    <tr>\n",
       "      <th>1</th>\n",
       "      <td>1</td>\n",
       "      <td>1240</td>\n",
       "    </tr>\n",
       "    <tr>\n",
       "      <th>2</th>\n",
       "      <td>2</td>\n",
       "      <td>1238</td>\n",
       "    </tr>\n",
       "    <tr>\n",
       "      <th>3</th>\n",
       "      <td>3</td>\n",
       "      <td>1240</td>\n",
       "    </tr>\n",
       "    <tr>\n",
       "      <th>4</th>\n",
       "      <td>4</td>\n",
       "      <td>1241, 1237, 1239</td>\n",
       "    </tr>\n",
       "  </tbody>\n",
       "</table>\n",
       "</div>"
      ],
      "text/plain": [
       "   id           courses\n",
       "0   0        1236, 1241\n",
       "1   1              1240\n",
       "2   2              1238\n",
       "3   3              1240\n",
       "4   4  1241, 1237, 1239"
      ]
     },
     "execution_count": 33,
     "metadata": {},
     "output_type": "execute_result"
    }
   ],
   "source": [
    "courses.head()"
   ]
  },
  {
   "cell_type": "code",
   "execution_count": 41,
   "id": "4ebf0641-62ec-45ae-b029-ed36314263ca",
   "metadata": {},
   "outputs": [
    {
     "data": {
      "text/plain": [
       "1240    130\n",
       "1241    126\n",
       "1236    124\n",
       "1238    114\n",
       "1234    112\n",
       "1242    110\n",
       "1239    107\n",
       "1235    101\n",
       "1237     96\n",
       "Name: courses, dtype: int64"
      ]
     },
     "execution_count": 41,
     "metadata": {},
     "output_type": "execute_result"
    }
   ],
   "source": [
    "courses.courses.str.split(', ').explode().value_counts()"
   ]
  },
  {
   "cell_type": "code",
   "execution_count": null,
   "id": "cc107463-0c3e-4368-ab7c-a3099917fd2d",
   "metadata": {},
   "outputs": [],
   "source": []
  },
  {
   "cell_type": "code",
   "execution_count": null,
   "id": "372b1aae-d376-4e6b-a4c2-2428deeb3c1a",
   "metadata": {},
   "outputs": [],
   "source": []
  }
 ],
 "metadata": {
  "kernelspec": {
   "display_name": "Python 3 (ipykernel)",
   "language": "python",
   "name": "python3"
  },
  "language_info": {
   "codemirror_mode": {
    "name": "ipython",
    "version": 3
   },
   "file_extension": ".py",
   "mimetype": "text/x-python",
   "name": "python",
   "nbconvert_exporter": "python",
   "pygments_lexer": "ipython3",
   "version": "3.7.15"
  }
 },
 "nbformat": 4,
 "nbformat_minor": 5
}
