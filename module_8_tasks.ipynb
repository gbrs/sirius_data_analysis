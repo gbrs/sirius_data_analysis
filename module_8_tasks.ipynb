{
 "cells": [
  {
   "cell_type": "code",
   "execution_count": 1,
   "id": "4d5b85fd",
   "metadata": {},
   "outputs": [],
   "source": [
    "import pandas as pd"
   ]
  },
  {
   "cell_type": "code",
   "execution_count": 2,
   "id": "1ea6aa7c",
   "metadata": {},
   "outputs": [],
   "source": [
    "def custom_compare(x, y):\n",
    "    if str(x) != str(y):\n",
    "        raise RuntimeError(f'Ожидаемое значение: {y}. Фактическое: {x}')"
   ]
  },
  {
   "cell_type": "markdown",
   "id": "1e9486f6",
   "metadata": {},
   "source": [
    "# Предобработка данных"
   ]
  },
  {
   "cell_type": "code",
   "execution_count": 3,
   "id": "e2937d41",
   "metadata": {},
   "outputs": [],
   "source": [
    "def parse_user_action_solution(line):\n",
    "    \"\"\"\n",
    "    Принимает строку в обозначенном формате, а возвращает словарь.\n",
    "    Ключами в словаре являются строки 'id', 'action' и 'time',\n",
    "    а значениями — соответствующие ключам значения из обрабатываемой строки.\n",
    "    \n",
    "    Аргументы:\n",
    "        line: Строка, которую необходимо превратить в словарь.\n",
    "        \n",
    "    Возвращаемое значение:\n",
    "        Словарь в обозначенном формате.\n",
    "    \"\"\"\n",
    "    \n",
    "    pairs = line.strip('() ').split(', ')\n",
    "    pairs = [x.split(': ') for x in pairs]\n",
    "    pairs = {key.strip(\"'\"): val.strip(\"'\") for key, val in pairs}\n",
    "    pairs['time'] = pd.to_datetime(pairs['time'], format='%Y-%m-%d %H:%M:%S')\n",
    "    pairs['id'] = int(pairs['id'])\n",
    "    return pairs"
   ]
  },
  {
   "cell_type": "code",
   "execution_count": 4,
   "id": "b70ea4a2",
   "metadata": {},
   "outputs": [],
   "source": [
    "def parse_user_action_test():\n",
    "    example_1_line = \"('id': 7281910, 'action': 'click', 'time': '2023-01-01 12:23:54')\"\n",
    "    example_1_res = {\n",
    "        'id': 7281910,\n",
    "        'action': 'click',\n",
    "        'time': pd.Timestamp(year=2023, month=1, day=1, hour=12, minute=23, second=54),\n",
    "    }\n",
    "    \n",
    "    custom_compare(parse_user_action_solution(example_1_line), example_1_res)\n",
    "    \n",
    "    example_2_line = \"('id': 1, 'action': 'search', 'time': '1997-12-31 23:23:59')\"\n",
    "    example_2_res = {\n",
    "        'id': 1,\n",
    "        'action': 'search',\n",
    "        'time': pd.Timestamp(year=1997, month=12, day=31, hour=23, minute=23, second=59),\n",
    "    }\n",
    "    \n",
    "    custom_compare(parse_user_action_solution(example_2_line), example_2_res)\n",
    "    \n",
    "    print('Все тесты прошли успешно!')"
   ]
  },
  {
   "cell_type": "code",
   "execution_count": 5,
   "id": "9cc87fd3",
   "metadata": {},
   "outputs": [
    {
     "name": "stdout",
     "output_type": "stream",
     "text": [
      "Все тесты прошли успешно!\n"
     ]
    }
   ],
   "source": [
    "parse_user_action_test()"
   ]
  },
  {
   "cell_type": "markdown",
   "id": "f8d806b9",
   "metadata": {},
   "source": [
    "# Предобработка данных в pandas"
   ]
  },
  {
   "cell_type": "code",
   "execution_count": 6,
   "id": "66c6008b",
   "metadata": {},
   "outputs": [],
   "source": [
    "user_session = pd.read_csv('user_session_sample.csv')"
   ]
  },
  {
   "cell_type": "code",
   "execution_count": 6,
   "id": "5761efd0-98c8-45b1-9f8f-c9ad10bbe081",
   "metadata": {},
   "outputs": [
    {
     "name": "stdout",
     "output_type": "stream",
     "text": [
      "<class 'pandas.core.frame.DataFrame'>\n",
      "RangeIndex: 100261 entries, 0 to 100260\n",
      "Data columns (total 5 columns):\n",
      " #   Column       Non-Null Count   Dtype  \n",
      "---  ------       --------------   -----  \n",
      " 0   id           100261 non-null  int64  \n",
      " 1   user_id      33890 non-null   float64\n",
      " 2   ip           100261 non-null  object \n",
      " 3   action_time  86339 non-null   object \n",
      " 4   action       100261 non-null  object \n",
      "dtypes: float64(1), int64(1), object(3)\n",
      "memory usage: 3.8+ MB\n"
     ]
    }
   ],
   "source": [
    "user_session.info()"
   ]
  },
  {
   "cell_type": "code",
   "execution_count": null,
   "id": "1882033b-2245-4e8a-bf0a-0f6a3fe046c4",
   "metadata": {},
   "outputs": [],
   "source": []
  },
  {
   "cell_type": "markdown",
   "id": "84e62448",
   "metadata": {},
   "source": [
    "## Задание 1"
   ]
  },
  {
   "cell_type": "markdown",
   "id": "bb2f2d07",
   "metadata": {},
   "source": [
    "Подсчитайте, сколько пропущенных значений содержится в каждой из колонок таблицы."
   ]
  },
  {
   "cell_type": "code",
   "execution_count": 7,
   "id": "b9ad7bc9-055e-4c90-9596-341cd6c76ba1",
   "metadata": {},
   "outputs": [
    {
     "data": {
      "text/plain": [
       "id                 0\n",
       "user_id        66371\n",
       "ip                 0\n",
       "action_time    13922\n",
       "action             0\n",
       "dtype: int64"
      ]
     },
     "execution_count": 7,
     "metadata": {},
     "output_type": "execute_result"
    }
   ],
   "source": [
    "user_session.isna().sum()"
   ]
  },
  {
   "cell_type": "code",
   "execution_count": null,
   "id": "12948f54-9b12-43fb-83f5-b08e4672fa6f",
   "metadata": {},
   "outputs": [],
   "source": []
  },
  {
   "cell_type": "markdown",
   "id": "2323ece1",
   "metadata": {},
   "source": [
    "## Задание 2"
   ]
  },
  {
   "cell_type": "markdown",
   "id": "5e9d6165",
   "metadata": {},
   "source": [
    "Известно, что значение в колонке «action_time» должно совпадать со значением `action_time`, которое хранится внутри значений характеристики «action».\n",
    "\n",
    "Воспользуйтесь реализованной ранее функцией `parse_user_action_solution`, чтобы восстановить на основе значений из колонки «action» отсутствующую информацию о моментах времени, когда пользователи совершали соответствующие действия.\n",
    "\n",
    "В качестве ответа укажите число пользовательских действий, которые были совершены в августе 2023-го года, рассчитанное по таблице с восстановленными данными."
   ]
  },
  {
   "cell_type": "code",
   "execution_count": 7,
   "id": "3d287f8d-26bd-440a-895d-c7b8e8ed2831",
   "metadata": {},
   "outputs": [],
   "source": [
    "user_session.action_time = user_session.action_time.fillna(user_session.action.apply(lambda x: parse_user_action_solution(x)['time']).dt.date)"
   ]
  },
  {
   "cell_type": "code",
   "execution_count": 8,
   "id": "57515da4-3906-4bd8-bd81-f023174c5776",
   "metadata": {},
   "outputs": [],
   "source": [
    "user_session.action_time = pd.to_datetime(user_session.action_time)"
   ]
  },
  {
   "cell_type": "code",
   "execution_count": 10,
   "id": "7d610c41-820c-44de-8fae-af48787327f0",
   "metadata": {},
   "outputs": [
    {
     "data": {
      "text/plain": [
       "id                 0\n",
       "user_id        66371\n",
       "ip                 0\n",
       "action_time        0\n",
       "action             0\n",
       "dtype: int64"
      ]
     },
     "execution_count": 10,
     "metadata": {},
     "output_type": "execute_result"
    }
   ],
   "source": [
    "user_session.isna().sum()"
   ]
  },
  {
   "cell_type": "code",
   "execution_count": 11,
   "id": "b8001548-56bd-442f-a72d-2134c1cb4f5f",
   "metadata": {},
   "outputs": [
    {
     "name": "stdout",
     "output_type": "stream",
     "text": [
      "<class 'pandas.core.frame.DataFrame'>\n",
      "RangeIndex: 100261 entries, 0 to 100260\n",
      "Data columns (total 5 columns):\n",
      " #   Column       Non-Null Count   Dtype         \n",
      "---  ------       --------------   -----         \n",
      " 0   id           100261 non-null  int64         \n",
      " 1   user_id      33890 non-null   float64       \n",
      " 2   ip           100261 non-null  object        \n",
      " 3   action_time  100261 non-null  datetime64[ns]\n",
      " 4   action       100261 non-null  object        \n",
      "dtypes: datetime64[ns](1), float64(1), int64(1), object(2)\n",
      "memory usage: 3.8+ MB\n"
     ]
    }
   ],
   "source": [
    "user_session.info()"
   ]
  },
  {
   "cell_type": "code",
   "execution_count": 12,
   "id": "b59e20e5-4999-4a0b-99c0-55faf1717fed",
   "metadata": {},
   "outputs": [
    {
     "data": {
      "text/plain": [
       "8395"
      ]
     },
     "execution_count": 12,
     "metadata": {},
     "output_type": "execute_result"
    }
   ],
   "source": [
    "(user_session.action_time.dt.to_period('M') == '2023-08').sum()"
   ]
  },
  {
   "cell_type": "code",
   "execution_count": null,
   "id": "76080e07-f47d-4810-af1a-062d44c2e0f3",
   "metadata": {},
   "outputs": [],
   "source": []
  },
  {
   "cell_type": "markdown",
   "id": "931f1b70",
   "metadata": {},
   "source": [
    "# Исследование данных"
   ]
  },
  {
   "cell_type": "markdown",
   "id": "ef87dc16",
   "metadata": {},
   "source": [
    "## Задание 1"
   ]
  },
  {
   "cell_type": "code",
   "execution_count": 9,
   "id": "59169a78",
   "metadata": {},
   "outputs": [],
   "source": [
    "def round_to_2(x):\n",
    "    \"\"\"\n",
    "    Принимает число и возвращает результат его округления\n",
    "    до 2 знаков после запятой.\n",
    "    \n",
    "    Аргументы:\n",
    "        x: Число.\n",
    "        \n",
    "    Возвращаемое значение:\n",
    "        Результат округления числа до 2 знаков после запятой.\n",
    "    \"\"\"\n",
    "    \n",
    "    return round(x, 2)"
   ]
  },
  {
   "cell_type": "code",
   "execution_count": 10,
   "id": "e6bc9bf2",
   "metadata": {},
   "outputs": [],
   "source": [
    "def get_sessions(action_times, max_delta=40 * 60):\n",
    "    \"\"\"\n",
    "    Разбивает список моментов времени, когда пользователь проявлял активность,\n",
    "    на пользовательские сессии. \n",
    "    \n",
    "    Аргументы:\n",
    "        action_times: Список моментов времени, когда пользователь проявлял активность.\n",
    "                      Гарантируется, что моменты времени упорядочены в порядке возрастания.\n",
    "           max_delta: Максимальное значение (в секундах) промежутка между двумя активностями пользователя,\n",
    "                      при котором они считаются относящимися к одной сессии.\n",
    "                      \n",
    "    Возвращаемое значение:\n",
    "        Список пользовательских сессий. Каждая сессия представляется упорядоченным по возрастанию\n",
    "        списком моментов времени для действий, которые были совершены в эту сессию.\n",
    "    \"\"\"\n",
    "    \n",
    "    sessions = []\n",
    "    cur_session = []\n",
    "    \n",
    "    prev_time = None\n",
    "    \n",
    "    for time in action_times:\n",
    "        if prev_time is None or (time - prev_time).total_seconds() > max_delta:\n",
    "            if len(cur_session) > 0:\n",
    "                sessions.append(cur_session)\n",
    "                \n",
    "            cur_session = [time]\n",
    "        else:\n",
    "            cur_session.append(time)\n",
    "            \n",
    "        prev_time = time\n",
    "        \n",
    "    sessions.append(cur_session)\n",
    "    \n",
    "    return sessions"
   ]
  },
  {
   "cell_type": "code",
   "execution_count": 11,
   "id": "744383df",
   "metadata": {},
   "outputs": [],
   "source": [
    "def get_avg_session_time(action_times):\n",
    "    \"\"\"\n",
    "    По списку моментов времени, когда пользователь проявлял активность,\n",
    "    вычисляет среднюю продолжительность его пользовательской сессии\n",
    "    с точки зрения времени.\n",
    "    \n",
    "    Аргументы:\n",
    "        action_times: Список моментов времени, когда пользователь проявлял активность.\n",
    "                      Гарантируется, что моменты времени упорядочены в порядке возрастания.\n",
    "                      \n",
    "    Возвращаемое значение:\n",
    "        Средняя продолжительность пользовательской сессии **в секундах**,\n",
    "        округлённая до $2$-х знаков после запятой.\n",
    "    \"\"\"\n",
    "    \n",
    "    session_durations = []\n",
    "    \n",
    "    for session_times in get_sessions(action_times):\n",
    "        if len(session_times) > 1:\n",
    "            session_durations.append((session_times[-1] - session_times[0]).total_seconds())\n",
    "    \n",
    "    if not(session_durations):\n",
    "         return 0\n",
    "    else:\n",
    "        return round_to_2(pd.Series(session_durations).mean() / 60)"
   ]
  },
  {
   "cell_type": "code",
   "execution_count": 71,
   "id": "b064b864",
   "metadata": {},
   "outputs": [],
   "source": [
    "def get_avg_session_time_test():\n",
    "    example_1_action_times = [\n",
    "        pd.Timestamp(year=2023, month=1, day=12, hour=15, minute=17, second=35),\n",
    "        pd.Timestamp(year=2023, month=1, day=12, hour=15, minute=41, second=21),\n",
    "        pd.Timestamp(year=2023, month=1, day=13, hour=15, minute=41, second=21),\n",
    "    ]\n",
    "    \n",
    "    example_1_res = 23.77\n",
    "    \n",
    "    custom_compare(get_avg_session_time(example_1_action_times), example_1_res)\n",
    "    \n",
    "    example_2_action_times = [\n",
    "        pd.Timestamp(year=2023, month=1, day=12, hour=15, minute=17, second=35),\n",
    "        pd.Timestamp(year=2023, month=1, day=13, hour=15, minute=41, second=21),\n",
    "    ]\n",
    "    \n",
    "    example_2_res = 0\n",
    "    \n",
    "    custom_compare(get_avg_session_time(example_2_action_times), example_2_res)\n",
    "    \n",
    "    example_3_action_times = [\n",
    "        pd.Timestamp(year=2023, month=1, day=12, hour=15, minute=17, second=35),\n",
    "        pd.Timestamp(year=2023, month=1, day=12, hour=15, minute=18, second=24),\n",
    "        pd.Timestamp(year=2023, month=2, day=21, hour=9, minute=42, second=31),\n",
    "        pd.Timestamp(year=2023, month=2, day=21, hour=10, minute=21, second=9),\n",
    "        pd.Timestamp(year=2023, month=2, day=21, hour=10, minute=37, second=46),\n",
    "        pd.Timestamp(year=2023, month=2, day=27, hour=17, minute=37, second=46),\n",
    "        pd.Timestamp(year=2023, month=2, day=27, hour=18, minute=12, second=46),\n",
    "        pd.Timestamp(year=2023, month=2, day=27, hour=18, minute=44, second=53),\n",
    "        pd.Timestamp(year=2023, month=2, day=27, hour=19, minute=2, second=11),\n",
    "        pd.Timestamp(year=2023, month=8, day=21, hour=10, minute=37, second=46),\n",
    "    ]\n",
    "    \n",
    "    example_3_res = 46.83\n",
    "    \n",
    "    custom_compare(get_avg_session_time(example_3_action_times), example_3_res)\n",
    "    \n",
    "    example_4_action_times = [\n",
    "        pd.Timestamp(year=2023, month=1, day=12, hour=15, minute=17, second=35)\n",
    "    ]\n",
    "    \n",
    "    example_4_res = 0\n",
    "    \n",
    "    custom_compare(get_avg_session_time(example_4_action_times), example_4_res)\n",
    "    \n",
    "    print('Все тесты прошли успешно!')"
   ]
  },
  {
   "cell_type": "code",
   "execution_count": 72,
   "id": "2c111d1c",
   "metadata": {},
   "outputs": [
    {
     "name": "stdout",
     "output_type": "stream",
     "text": [
      "Все тесты прошли успешно!\n"
     ]
    }
   ],
   "source": [
    "get_avg_session_time_test()"
   ]
  },
  {
   "cell_type": "code",
   "execution_count": null,
   "id": "db0cddc8-bc55-49e2-be02-49919baf5308",
   "metadata": {},
   "outputs": [],
   "source": []
  },
  {
   "cell_type": "code",
   "execution_count": null,
   "id": "8300885b-f503-4cf9-b911-b50672c513ce",
   "metadata": {},
   "outputs": [],
   "source": []
  },
  {
   "cell_type": "markdown",
   "id": "cd29f5e9",
   "metadata": {},
   "source": [
    "## Задание 2"
   ]
  },
  {
   "cell_type": "markdown",
   "id": "504c7061",
   "metadata": {},
   "source": [
    "Используя функцию `get_avg_session_time`, вычислите среднюю продолжительность пользовательской сессии для пользователей из таблицы `user_session`, с которой вы работали в рамках предыдущих упражнений. Для этого усредните значения средней продолжительности пользовательских сессий по всем пользователям.\n",
    "\n",
    "**Обратите внимание**, что среднее можно вычислять как по всем пользователям вообще, так и по тем, у кого среднее время пользовательской сессии больше $0$. В рамках задания вычислите значение по всему множеству пользователей.\n",
    "\n",
    "Аналогично лекции нужно считать, что пользователя уникальным образом идентифицирует IP-адрес, с которого он совершал действия.\n",
    "\n",
    "Ответ округлите до $2$-х знаков после запятой."
   ]
  },
  {
   "cell_type": "code",
   "execution_count": null,
   "id": "9a5d130e-4f24-4637-8b2a-4c7a6473dcd3",
   "metadata": {},
   "outputs": [],
   "source": []
  },
  {
   "cell_type": "code",
   "execution_count": 28,
   "id": "70e65d59-dbdc-4b31-bbe3-c7aea1124a71",
   "metadata": {},
   "outputs": [
    {
     "name": "stderr",
     "output_type": "stream",
     "text": [
      "C:\\ProgramData\\Anaconda3\\lib\\site-packages\\ipykernel_launcher.py:1: DeprecationWarning: The default dtype for empty Series will be 'object' instead of 'float64' in a future version. Specify a dtype explicitly to silence this warning.\n",
      "  \"\"\"Entry point for launching an IPython kernel.\n"
     ]
    }
   ],
   "source": [
    "s = pd.Series()"
   ]
  },
  {
   "cell_type": "code",
   "execution_count": 29,
   "id": "17f6d8bd-c4f2-4ef5-a1ed-43c07a19ed49",
   "metadata": {},
   "outputs": [],
   "source": [
    "from tqdm import tqdm"
   ]
  },
  {
   "cell_type": "code",
   "execution_count": 30,
   "id": "e62447a2-ab58-4429-b7a3-e63080d95e70",
   "metadata": {},
   "outputs": [
    {
     "name": "stderr",
     "output_type": "stream",
     "text": [
      "100%|████████████████████████████████████████████████████████████████████████████| 11624/11624 [03:01<00:00, 64.14it/s]\n"
     ]
    }
   ],
   "source": [
    "for user in tqdm(user_session.ip.unique()):\n",
    "    lst = []\n",
    "    for action_time in user_session[user_session.ip == user].action_time:\n",
    "        lst.append(action_time)\n",
    "    lst.sort()\n",
    "    s.loc[user] = lst"
   ]
  },
  {
   "cell_type": "code",
   "execution_count": 32,
   "id": "f76bca83-affe-42dd-944e-4ee313dac58b",
   "metadata": {},
   "outputs": [],
   "source": [
    "df = s.to_frame(name='action_times')"
   ]
  },
  {
   "cell_type": "code",
   "execution_count": 56,
   "id": "cdb2f67b-82df-4162-b59b-b35912e9cd35",
   "metadata": {},
   "outputs": [],
   "source": [
    "df['avg_time'] = df.action_times.map(lambda x: get_avg_session_time(x))"
   ]
  },
  {
   "cell_type": "code",
   "execution_count": 63,
   "id": "1c94aba0-e309-4e68-bf69-d07976119175",
   "metadata": {},
   "outputs": [
    {
     "data": {
      "text/html": [
       "<div>\n",
       "<style scoped>\n",
       "    .dataframe tbody tr th:only-of-type {\n",
       "        vertical-align: middle;\n",
       "    }\n",
       "\n",
       "    .dataframe tbody tr th {\n",
       "        vertical-align: top;\n",
       "    }\n",
       "\n",
       "    .dataframe thead th {\n",
       "        text-align: right;\n",
       "    }\n",
       "</style>\n",
       "<table border=\"1\" class=\"dataframe\">\n",
       "  <thead>\n",
       "    <tr style=\"text-align: right;\">\n",
       "      <th></th>\n",
       "      <th>action_times</th>\n",
       "      <th>avg_time</th>\n",
       "    </tr>\n",
       "  </thead>\n",
       "  <tbody>\n",
       "    <tr>\n",
       "      <th>88.225.35.163</th>\n",
       "      <td>[2023-10-19 00:00:00, 2023-10-19 11:26:17]</td>\n",
       "      <td>0.00</td>\n",
       "    </tr>\n",
       "    <tr>\n",
       "      <th>34.217.106.128</th>\n",
       "      <td>[2023-01-09 06:37:12, 2023-01-12 13:20:05, 202...</td>\n",
       "      <td>4.52</td>\n",
       "    </tr>\n",
       "    <tr>\n",
       "      <th>125.127.22.227</th>\n",
       "      <td>[2023-03-03 04:22:48, 2023-03-08 02:10:54, 202...</td>\n",
       "      <td>0.00</td>\n",
       "    </tr>\n",
       "    <tr>\n",
       "      <th>167.122.179.89</th>\n",
       "      <td>[2023-07-04 11:57:03]</td>\n",
       "      <td>0.00</td>\n",
       "    </tr>\n",
       "    <tr>\n",
       "      <th>186.104.141.71</th>\n",
       "      <td>[2023-07-29 21:39:21, 2023-07-30 19:07:41, 202...</td>\n",
       "      <td>0.00</td>\n",
       "    </tr>\n",
       "    <tr>\n",
       "      <th>249.91.146.81</th>\n",
       "      <td>[2023-09-29 17:06:06, 2023-10-02 00:34:45, 202...</td>\n",
       "      <td>0.77</td>\n",
       "    </tr>\n",
       "    <tr>\n",
       "      <th>208.143.180.141</th>\n",
       "      <td>[2023-10-04 21:38:15]</td>\n",
       "      <td>0.00</td>\n",
       "    </tr>\n",
       "    <tr>\n",
       "      <th>73.149.2.20</th>\n",
       "      <td>[2023-03-25 04:03:47]</td>\n",
       "      <td>0.00</td>\n",
       "    </tr>\n",
       "    <tr>\n",
       "      <th>48.220.230.8</th>\n",
       "      <td>[2023-03-29 00:00:00, 2023-04-03 15:40:22, 202...</td>\n",
       "      <td>3.55</td>\n",
       "    </tr>\n",
       "    <tr>\n",
       "      <th>109.11.233.182</th>\n",
       "      <td>[2023-12-27 10:42:41]</td>\n",
       "      <td>0.00</td>\n",
       "    </tr>\n",
       "  </tbody>\n",
       "</table>\n",
       "</div>"
      ],
      "text/plain": [
       "                                                      action_times  avg_time\n",
       "88.225.35.163           [2023-10-19 00:00:00, 2023-10-19 11:26:17]      0.00\n",
       "34.217.106.128   [2023-01-09 06:37:12, 2023-01-12 13:20:05, 202...      4.52\n",
       "125.127.22.227   [2023-03-03 04:22:48, 2023-03-08 02:10:54, 202...      0.00\n",
       "167.122.179.89                               [2023-07-04 11:57:03]      0.00\n",
       "186.104.141.71   [2023-07-29 21:39:21, 2023-07-30 19:07:41, 202...      0.00\n",
       "249.91.146.81    [2023-09-29 17:06:06, 2023-10-02 00:34:45, 202...      0.77\n",
       "208.143.180.141                              [2023-10-04 21:38:15]      0.00\n",
       "73.149.2.20                                  [2023-03-25 04:03:47]      0.00\n",
       "48.220.230.8     [2023-03-29 00:00:00, 2023-04-03 15:40:22, 202...      3.55\n",
       "109.11.233.182                               [2023-12-27 10:42:41]      0.00"
      ]
     },
     "execution_count": 63,
     "metadata": {},
     "output_type": "execute_result"
    }
   ],
   "source": [
    "df.sample(10)"
   ]
  },
  {
   "cell_type": "code",
   "execution_count": 49,
   "id": "27e79ac4-67c5-4103-accf-52901aeb48eb",
   "metadata": {},
   "outputs": [
    {
     "data": {
      "text/plain": [
       "3.09"
      ]
     },
     "execution_count": 49,
     "metadata": {},
     "output_type": "execute_result"
    }
   ],
   "source": [
    "round_to_2(df['avg_time'].mean())"
   ]
  },
  {
   "cell_type": "code",
   "execution_count": null,
   "id": "cbb4f4e8-b64d-4b9d-a4c4-51105c7b992a",
   "metadata": {},
   "outputs": [],
   "source": []
  },
  {
   "cell_type": "code",
   "execution_count": 12,
   "id": "a5786d54-7e86-4195-a1da-cdd0296cc31f",
   "metadata": {},
   "outputs": [
    {
     "data": {
      "text/html": [
       "<div>\n",
       "<style scoped>\n",
       "    .dataframe tbody tr th:only-of-type {\n",
       "        vertical-align: middle;\n",
       "    }\n",
       "\n",
       "    .dataframe tbody tr th {\n",
       "        vertical-align: top;\n",
       "    }\n",
       "\n",
       "    .dataframe thead th {\n",
       "        text-align: right;\n",
       "    }\n",
       "</style>\n",
       "<table border=\"1\" class=\"dataframe\">\n",
       "  <thead>\n",
       "    <tr style=\"text-align: right;\">\n",
       "      <th></th>\n",
       "      <th>id</th>\n",
       "      <th>user_id</th>\n",
       "      <th>ip</th>\n",
       "      <th>action_time</th>\n",
       "      <th>action</th>\n",
       "    </tr>\n",
       "  </thead>\n",
       "  <tbody>\n",
       "    <tr>\n",
       "      <th>0</th>\n",
       "      <td>619</td>\n",
       "      <td>NaN</td>\n",
       "      <td>244.143.138.0</td>\n",
       "      <td>2021-01-20 18:36:32</td>\n",
       "      <td>('id': 234676, 'action': 'search', 'time': '20...</td>\n",
       "    </tr>\n",
       "    <tr>\n",
       "      <th>1</th>\n",
       "      <td>919428</td>\n",
       "      <td>30083.0</td>\n",
       "      <td>157.169.233.89</td>\n",
       "      <td>2023-12-10 04:13:50</td>\n",
       "      <td>('id': 541654, 'action': 'search', 'time': '20...</td>\n",
       "    </tr>\n",
       "    <tr>\n",
       "      <th>2</th>\n",
       "      <td>630539</td>\n",
       "      <td>NaN</td>\n",
       "      <td>160.111.52.224</td>\n",
       "      <td>2023-09-26 04:09:44</td>\n",
       "      <td>('id': 230556, 'action': 'click', 'time': '202...</td>\n",
       "    </tr>\n",
       "    <tr>\n",
       "      <th>3</th>\n",
       "      <td>963478</td>\n",
       "      <td>NaN</td>\n",
       "      <td>247.14.235.202</td>\n",
       "      <td>2023-12-19 21:02:47</td>\n",
       "      <td>('id': 838067, 'action': 'click', 'time': '202...</td>\n",
       "    </tr>\n",
       "    <tr>\n",
       "      <th>4</th>\n",
       "      <td>421566</td>\n",
       "      <td>NaN</td>\n",
       "      <td>255.2.67.154</td>\n",
       "      <td>2023-07-20 16:04:14</td>\n",
       "      <td>('id': 924754, 'action': 'search', 'time': '20...</td>\n",
       "    </tr>\n",
       "  </tbody>\n",
       "</table>\n",
       "</div>"
      ],
      "text/plain": [
       "       id  user_id              ip         action_time  \\\n",
       "0     619      NaN   244.143.138.0 2021-01-20 18:36:32   \n",
       "1  919428  30083.0  157.169.233.89 2023-12-10 04:13:50   \n",
       "2  630539      NaN  160.111.52.224 2023-09-26 04:09:44   \n",
       "3  963478      NaN  247.14.235.202 2023-12-19 21:02:47   \n",
       "4  421566      NaN    255.2.67.154 2023-07-20 16:04:14   \n",
       "\n",
       "                                              action  \n",
       "0  ('id': 234676, 'action': 'search', 'time': '20...  \n",
       "1  ('id': 541654, 'action': 'search', 'time': '20...  \n",
       "2  ('id': 230556, 'action': 'click', 'time': '202...  \n",
       "3  ('id': 838067, 'action': 'click', 'time': '202...  \n",
       "4  ('id': 924754, 'action': 'search', 'time': '20...  "
      ]
     },
     "execution_count": 12,
     "metadata": {},
     "output_type": "execute_result"
    }
   ],
   "source": [
    "user_session.head()"
   ]
  },
  {
   "cell_type": "code",
   "execution_count": null,
   "id": "5e489f89-6322-4eb4-aa93-2b0c1ec01509",
   "metadata": {},
   "outputs": [],
   "source": []
  },
  {
   "cell_type": "code",
   "execution_count": null,
   "id": "4fd04734-0cc7-4980-8f87-f52fb7db93c8",
   "metadata": {},
   "outputs": [],
   "source": []
  },
  {
   "cell_type": "markdown",
   "id": "a8dcfea6",
   "metadata": {},
   "source": [
    "## Задание 3"
   ]
  },
  {
   "cell_type": "markdown",
   "id": "3515e3c1",
   "metadata": {},
   "source": [
    "### Вопрос 1"
   ]
  },
  {
   "cell_type": "markdown",
   "id": "888492ef",
   "metadata": {},
   "source": [
    "У какой доли пользователей среднее значение пользовательской сессии равно $0$?\n",
    "\n",
    "Ответ округлите до $2$-х знаков после запятой."
   ]
  },
  {
   "cell_type": "code",
   "execution_count": 54,
   "id": "76c53224-42dc-4fd2-b767-d15d6307abf8",
   "metadata": {},
   "outputs": [
    {
     "data": {
      "text/plain": [
       "44.98"
      ]
     },
     "execution_count": 54,
     "metadata": {},
     "output_type": "execute_result"
    }
   ],
   "source": [
    "round_to_2(100 * (df.avg_time == 0.0).sum() / df.shape[0])"
   ]
  },
  {
   "cell_type": "code",
   "execution_count": null,
   "id": "d7fed225-dd83-44aa-9820-2163da9fc2a5",
   "metadata": {},
   "outputs": [],
   "source": []
  },
  {
   "cell_type": "markdown",
   "id": "55572d1c",
   "metadata": {},
   "source": [
    "### Вопрос 2"
   ]
  },
  {
   "cell_type": "markdown",
   "id": "7713a591",
   "metadata": {},
   "source": [
    "Рассчитайте средннюю продолжительность пользовательской сессии только по пользователям, у которых средняя продолжительность пользовательской сессии больше $0$.\n",
    "\n",
    "Ответ округлите до $2$-х знаков после запятой."
   ]
  },
  {
   "cell_type": "code",
   "execution_count": null,
   "id": "8e72be3b-4898-45eb-808f-2741b9cb9622",
   "metadata": {},
   "outputs": [],
   "source": []
  },
  {
   "cell_type": "code",
   "execution_count": 77,
   "id": "566d84bb-eb85-49f4-9913-2d2ad599ffdb",
   "metadata": {},
   "outputs": [
    {
     "data": {
      "text/plain": [
       "5.62"
      ]
     },
     "execution_count": 77,
     "metadata": {},
     "output_type": "execute_result"
    }
   ],
   "source": [
    "round_to_2(df[df.avg_time > 0.0]['avg_time'].mean())"
   ]
  },
  {
   "cell_type": "code",
   "execution_count": null,
   "id": "21c14817-cde2-4d79-804f-e4b5984c37cf",
   "metadata": {},
   "outputs": [],
   "source": []
  },
  {
   "cell_type": "code",
   "execution_count": 40,
   "id": "33b7f1dc-f974-4e85-9cae-7ccfa1437f73",
   "metadata": {},
   "outputs": [
    {
     "name": "stderr",
     "output_type": "stream",
     "text": [
      "C:\\ProgramData\\Anaconda3\\lib\\site-packages\\ipykernel_launcher.py:1: DeprecationWarning: The default dtype for empty Series will be 'object' instead of 'float64' in a future version. Specify a dtype explicitly to silence this warning.\n",
      "  \"\"\"Entry point for launching an IPython kernel.\n"
     ]
    }
   ],
   "source": [
    "a = pd.Series()"
   ]
  },
  {
   "cell_type": "code",
   "execution_count": 41,
   "id": "bd0d264d-09f6-416e-9701-9da15eb634b3",
   "metadata": {},
   "outputs": [
    {
     "data": {
      "text/plain": [
       "0    2.266667\n",
       "dtype: float64"
      ]
     },
     "execution_count": 41,
     "metadata": {},
     "output_type": "execute_result"
    }
   ],
   "source": [
    "a.append(pd.Series(136 / 60))"
   ]
  },
  {
   "cell_type": "code",
   "execution_count": 42,
   "id": "4ca28cf6-027c-4646-8a40-b40479eb2b4f",
   "metadata": {},
   "outputs": [
    {
     "data": {
      "text/plain": [
       "Series([], dtype: float64)"
      ]
     },
     "execution_count": 42,
     "metadata": {},
     "output_type": "execute_result"
    }
   ],
   "source": [
    "a"
   ]
  },
  {
   "cell_type": "code",
   "execution_count": null,
   "id": "b32e996f-692f-4be2-ad66-927103158c16",
   "metadata": {},
   "outputs": [],
   "source": []
  },
  {
   "cell_type": "code",
   "execution_count": null,
   "id": "79f5d0d4-8c9f-4b9b-a260-1380cc886db3",
   "metadata": {},
   "outputs": [],
   "source": []
  },
  {
   "cell_type": "code",
   "execution_count": null,
   "id": "cbd089ca",
   "metadata": {},
   "outputs": [],
   "source": []
  }
 ],
 "metadata": {
  "kernelspec": {
   "display_name": "Python 3 (ipykernel)",
   "language": "python",
   "name": "python3"
  },
  "language_info": {
   "codemirror_mode": {
    "name": "ipython",
    "version": 3
   },
   "file_extension": ".py",
   "mimetype": "text/x-python",
   "name": "python",
   "nbconvert_exporter": "python",
   "pygments_lexer": "ipython3",
   "version": "3.7.15"
  }
 },
 "nbformat": 4,
 "nbformat_minor": 5
}
