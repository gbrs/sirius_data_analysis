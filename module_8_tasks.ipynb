{
 "cells": [
  {
   "cell_type": "code",
   "execution_count": 1,
   "id": "4d5b85fd",
   "metadata": {},
   "outputs": [],
   "source": [
    "import pandas as pd"
   ]
  },
  {
   "cell_type": "code",
   "execution_count": 2,
   "id": "1ea6aa7c",
   "metadata": {},
   "outputs": [],
   "source": [
    "def custom_compare(x, y):\n",
    "    if str(x) != str(y):\n",
    "        raise RuntimeError(f'Ожидаемое значение: {y}. Фактическое: {x}')"
   ]
  },
  {
   "cell_type": "markdown",
   "id": "1e9486f6",
   "metadata": {},
   "source": [
    "# Предобработка данных"
   ]
  },
  {
   "cell_type": "code",
   "execution_count": 15,
   "id": "e2937d41",
   "metadata": {},
   "outputs": [],
   "source": [
    "def parse_user_action_solution(line):\n",
    "    \"\"\"\n",
    "    Принимает строку в обозначенном формате, а возвращает словарь.\n",
    "    Ключами в словаре являются строки 'id', 'action' и 'time',\n",
    "    а значениями — соответствующие ключам значения из обрабатываемой строки.\n",
    "    \n",
    "    Аргументы:\n",
    "        line: Строка, которую необходимо превратить в словарь.\n",
    "        \n",
    "    Возвращаемое значение:\n",
    "        Словарь в обозначенном формате.\n",
    "    \"\"\"\n",
    "    \n",
    "    pairs = line.strip('() ').split(', ')\n",
    "    pairs = [x.split(': ') for x in pairs]\n",
    "    pairs = {key.strip(\"'\"): val.strip(\"'\") for key, val in pairs}\n",
    "    pairs['time'] = pd.to_datetime(pairs['time'], format='%Y-%m-%d %H:%M:%S')\n",
    "    pairs['id'] = int(pairs['id'])\n",
    "    return pairs"
   ]
  },
  {
   "cell_type": "code",
   "execution_count": 16,
   "id": "b70ea4a2",
   "metadata": {},
   "outputs": [],
   "source": [
    "def parse_user_action_test():\n",
    "    example_1_line = \"('id': 7281910, 'action': 'click', 'time': '2023-01-01 12:23:54')\"\n",
    "    example_1_res = {\n",
    "        'id': 7281910,\n",
    "        'action': 'click',\n",
    "        'time': pd.Timestamp(year=2023, month=1, day=1, hour=12, minute=23, second=54),\n",
    "    }\n",
    "    \n",
    "    custom_compare(parse_user_action_solution(example_1_line), example_1_res)\n",
    "    \n",
    "    example_2_line = \"('id': 1, 'action': 'search', 'time': '1997-12-31 23:23:59')\"\n",
    "    example_2_res = {\n",
    "        'id': 1,\n",
    "        'action': 'search',\n",
    "        'time': pd.Timestamp(year=1997, month=12, day=31, hour=23, minute=23, second=59),\n",
    "    }\n",
    "    \n",
    "    custom_compare(parse_user_action_solution(example_2_line), example_2_res)\n",
    "    \n",
    "    print('Все тесты прошли успешно!')"
   ]
  },
  {
   "cell_type": "code",
   "execution_count": 17,
   "id": "9cc87fd3",
   "metadata": {},
   "outputs": [
    {
     "name": "stdout",
     "output_type": "stream",
     "text": [
      "Все тесты прошли успешно!\n"
     ]
    }
   ],
   "source": [
    "parse_user_action_test()"
   ]
  },
  {
   "cell_type": "markdown",
   "id": "f8d806b9",
   "metadata": {},
   "source": [
    "# Предобработка данных в pandas"
   ]
  },
  {
   "cell_type": "code",
   "execution_count": 3,
   "id": "66c6008b",
   "metadata": {},
   "outputs": [],
   "source": [
    "user_session = pd.read_csv('user_session_sample.csv')"
   ]
  },
  {
   "cell_type": "code",
   "execution_count": 13,
   "id": "5761efd0-98c8-45b1-9f8f-c9ad10bbe081",
   "metadata": {},
   "outputs": [
    {
     "name": "stdout",
     "output_type": "stream",
     "text": [
      "<class 'pandas.core.frame.DataFrame'>\n",
      "RangeIndex: 100261 entries, 0 to 100260\n",
      "Data columns (total 5 columns):\n",
      " #   Column       Non-Null Count   Dtype  \n",
      "---  ------       --------------   -----  \n",
      " 0   id           100261 non-null  int64  \n",
      " 1   user_id      33890 non-null   float64\n",
      " 2   ip           100261 non-null  object \n",
      " 3   action_time  86339 non-null   object \n",
      " 4   action       100261 non-null  object \n",
      "dtypes: float64(1), int64(1), object(3)\n",
      "memory usage: 3.8+ MB\n"
     ]
    }
   ],
   "source": [
    "user_session.info()"
   ]
  },
  {
   "cell_type": "code",
   "execution_count": null,
   "id": "1882033b-2245-4e8a-bf0a-0f6a3fe046c4",
   "metadata": {},
   "outputs": [],
   "source": []
  },
  {
   "cell_type": "markdown",
   "id": "84e62448",
   "metadata": {},
   "source": [
    "## Задание 1"
   ]
  },
  {
   "cell_type": "markdown",
   "id": "bb2f2d07",
   "metadata": {},
   "source": [
    "Подсчитайте, сколько пропущенных значений содержится в каждой из колонок таблицы."
   ]
  },
  {
   "cell_type": "code",
   "execution_count": 4,
   "id": "b9ad7bc9-055e-4c90-9596-341cd6c76ba1",
   "metadata": {},
   "outputs": [
    {
     "data": {
      "text/plain": [
       "id                 0\n",
       "user_id        66371\n",
       "ip                 0\n",
       "action_time    13922\n",
       "action             0\n",
       "dtype: int64"
      ]
     },
     "execution_count": 4,
     "metadata": {},
     "output_type": "execute_result"
    }
   ],
   "source": [
    "user_session.isna().sum()"
   ]
  },
  {
   "cell_type": "code",
   "execution_count": null,
   "id": "12948f54-9b12-43fb-83f5-b08e4672fa6f",
   "metadata": {},
   "outputs": [],
   "source": []
  },
  {
   "cell_type": "markdown",
   "id": "2323ece1",
   "metadata": {},
   "source": [
    "## Задание 2"
   ]
  },
  {
   "cell_type": "markdown",
   "id": "5e9d6165",
   "metadata": {},
   "source": [
    "Известно, что значение в колонке «action_time» должно совпадать со значением `action_time`, которое хранится внутри значений характеристики «action».\n",
    "\n",
    "Воспользуйтесь реализованной ранее функцией `parse_user_action_solution`, чтобы восстановить на основе значений из колонки «action» отсутствующую информацию о моментах времени, когда пользователи совершали соответствующие действия.\n",
    "\n",
    "В качестве ответа укажите число пользовательских действий, которые были совершены в августе 2023-го года, рассчитанное по таблице с восстановленными данными."
   ]
  },
  {
   "cell_type": "code",
   "execution_count": 7,
   "id": "3d287f8d-26bd-440a-895d-c7b8e8ed2831",
   "metadata": {},
   "outputs": [],
   "source": [
    "user_session.action_time = user_session.action_time.fillna(user_session.action.apply(lambda x: parse_user_action_solution(x)['time']).dt.date)"
   ]
  },
  {
   "cell_type": "code",
   "execution_count": 8,
   "id": "57515da4-3906-4bd8-bd81-f023174c5776",
   "metadata": {},
   "outputs": [],
   "source": [
    "user_session.action_time = pd.to_datetime(user_session.action_time)"
   ]
  },
  {
   "cell_type": "code",
   "execution_count": 21,
   "id": "7d610c41-820c-44de-8fae-af48787327f0",
   "metadata": {},
   "outputs": [
    {
     "data": {
      "text/plain": [
       "id                 0\n",
       "user_id        66371\n",
       "ip                 0\n",
       "action_time        0\n",
       "action             0\n",
       "dtype: int64"
      ]
     },
     "execution_count": 21,
     "metadata": {},
     "output_type": "execute_result"
    }
   ],
   "source": [
    "user_session.isna().sum()"
   ]
  },
  {
   "cell_type": "code",
   "execution_count": 22,
   "id": "b8001548-56bd-442f-a72d-2134c1cb4f5f",
   "metadata": {},
   "outputs": [
    {
     "name": "stdout",
     "output_type": "stream",
     "text": [
      "<class 'pandas.core.frame.DataFrame'>\n",
      "RangeIndex: 100261 entries, 0 to 100260\n",
      "Data columns (total 5 columns):\n",
      " #   Column       Non-Null Count   Dtype         \n",
      "---  ------       --------------   -----         \n",
      " 0   id           100261 non-null  int64         \n",
      " 1   user_id      33890 non-null   float64       \n",
      " 2   ip           100261 non-null  object        \n",
      " 3   action_time  100261 non-null  datetime64[ns]\n",
      " 4   action       100261 non-null  object        \n",
      "dtypes: datetime64[ns](1), float64(1), int64(1), object(2)\n",
      "memory usage: 3.8+ MB\n"
     ]
    }
   ],
   "source": [
    "user_session.info()"
   ]
  },
  {
   "cell_type": "code",
   "execution_count": 24,
   "id": "b59e20e5-4999-4a0b-99c0-55faf1717fed",
   "metadata": {},
   "outputs": [
    {
     "data": {
      "text/plain": [
       "8395"
      ]
     },
     "execution_count": 24,
     "metadata": {},
     "output_type": "execute_result"
    }
   ],
   "source": [
    "(user_session.action_time.dt.to_period('M') == '2023-08').sum()"
   ]
  },
  {
   "cell_type": "code",
   "execution_count": null,
   "id": "76080e07-f47d-4810-af1a-062d44c2e0f3",
   "metadata": {},
   "outputs": [],
   "source": []
  },
  {
   "cell_type": "markdown",
   "id": "931f1b70",
   "metadata": {},
   "source": [
    "# Исследование данных"
   ]
  },
  {
   "cell_type": "markdown",
   "id": "ef87dc16",
   "metadata": {},
   "source": [
    "## Задание 1"
   ]
  },
  {
   "cell_type": "code",
   "execution_count": 12,
   "id": "59169a78",
   "metadata": {},
   "outputs": [],
   "source": [
    "def round_to_2(x):\n",
    "    \"\"\"\n",
    "    Принимает число и возвращает результат его округления\n",
    "    до 2 знаков после запятой.\n",
    "    \n",
    "    Аргументы:\n",
    "        x: Число.\n",
    "        \n",
    "    Возвращаемое значение:\n",
    "        Результат округления числа до 2 знаков после запятой.\n",
    "    \"\"\"\n",
    "    \n",
    "    return round(x, 2)"
   ]
  },
  {
   "cell_type": "code",
   "execution_count": 78,
   "id": "e6bc9bf2",
   "metadata": {},
   "outputs": [],
   "source": [
    "def get_sessions(action_times, max_delta=40 * 60):\n",
    "    \"\"\"\n",
    "    Разбивает список моментов времени, когда пользователь проявлял активность,\n",
    "    на пользовательские сессии. \n",
    "    \n",
    "    Аргументы:\n",
    "        action_times: Список моментов времени, когда пользователь проявлял активность.\n",
    "                      Гарантируется, что моменты времени упорядочены в порядке возрастания.\n",
    "           max_delta: Максимальное значение (в секундах) промежутка между двумя активностями пользователя,\n",
    "                      при котором они считаются относящимися к одной сессии.\n",
    "                      \n",
    "    Возвращаемое значение:\n",
    "        Список пользовательских сессий. Каждая сессия представляется упорядоченным по возрастанию\n",
    "        списком моментов времени для действий, которые были совершены в эту сессию.\n",
    "    \"\"\"\n",
    "    \n",
    "    sessions = []\n",
    "    cur_session = []\n",
    "    \n",
    "    prev_time = None\n",
    "    \n",
    "    for time in action_times:\n",
    "        if prev_time is None or (time - prev_time).total_seconds() > max_delta:\n",
    "            if len(cur_session) > 0:\n",
    "                sessions.append(cur_session)\n",
    "                \n",
    "            cur_session = [time]\n",
    "        else:\n",
    "            cur_session.append(time)\n",
    "            \n",
    "        prev_time = time\n",
    "        \n",
    "    sessions.append(cur_session)\n",
    "    \n",
    "    return sessions"
   ]
  },
  {
   "cell_type": "code",
   "execution_count": 79,
   "id": "744383df",
   "metadata": {},
   "outputs": [],
   "source": [
    "def get_avg_session_time(action_times):\n",
    "    \"\"\"\n",
    "    По списку моментов времени, когда пользователь проявлял активность,\n",
    "    вычисляет среднюю продолжительность его пользовательской сессии\n",
    "    с точки зрения времени.\n",
    "    \n",
    "    Аргументы:\n",
    "        action_times: Список моментов времени, когда пользователь проявлял активность.\n",
    "                      Гарантируется, что моменты времени упорядочены в порядке возрастания.\n",
    "                      \n",
    "    Возвращаемое значение:\n",
    "        Средняя продолжительность пользовательской сессии **в секундах**,\n",
    "        округлённая до $2$-х знаков после запятой.\n",
    "    \"\"\"\n",
    "    \n",
    "    session_durations = pd.Series()\n",
    "    \n",
    "    for session_times in get_sessions(action_times):\n",
    "        print((session_times[-1] - session_times[0]).total_seconds())\n",
    "        session_durations.append(pd.Series((session_times[-1] - session_times[0]).total_seconds()))\n",
    "        print(*session_durations)\n",
    "    \n",
    "    return round_to_2(session_durations.mean())\n",
    "    \n",
    "    # pass"
   ]
  },
  {
   "cell_type": "code",
   "execution_count": 80,
   "id": "b064b864",
   "metadata": {},
   "outputs": [],
   "source": [
    "def get_avg_session_time_test():\n",
    "    example_1_action_times = [\n",
    "        pd.Timestamp(year=2023, month=1, day=12, hour=15, minute=17, second=35),\n",
    "        pd.Timestamp(year=2023, month=1, day=12, hour=15, minute=41, second=21),\n",
    "        pd.Timestamp(year=2023, month=1, day=13, hour=15, minute=41, second=21),\n",
    "    ]\n",
    "    \n",
    "    example_1_res = 23.77\n",
    "    \n",
    "    custom_compare(get_avg_session_time(example_1_action_times), example_1_res)\n",
    "    \n",
    "    example_2_action_times = [\n",
    "        pd.Timestamp(year=2023, month=1, day=12, hour=15, minute=17, second=35),\n",
    "        pd.Timestamp(year=2023, month=1, day=13, hour=15, minute=41, second=21),\n",
    "    ]\n",
    "    \n",
    "    example_2_res = 0\n",
    "    \n",
    "    custom_compare(get_avg_session_time(example_2_action_times), example_2_res)\n",
    "    \n",
    "    example_3_action_times = [\n",
    "        pd.Timestamp(year=2023, month=1, day=12, hour=15, minute=17, second=35),\n",
    "        pd.Timestamp(year=2023, month=1, day=12, hour=15, minute=18, second=24),\n",
    "        pd.Timestamp(year=2023, month=2, day=21, hour=9, minute=42, second=31),\n",
    "        pd.Timestamp(year=2023, month=2, day=21, hour=10, minute=21, second=9),\n",
    "        pd.Timestamp(year=2023, month=2, day=21, hour=10, minute=37, second=46),\n",
    "        pd.Timestamp(year=2023, month=2, day=27, hour=17, minute=37, second=46),\n",
    "        pd.Timestamp(year=2023, month=2, day=27, hour=18, minute=12, second=46),\n",
    "        pd.Timestamp(year=2023, month=2, day=27, hour=18, minute=44, second=53),\n",
    "        pd.Timestamp(year=2023, month=2, day=27, hour=19, minute=2, second=11),\n",
    "        pd.Timestamp(year=2023, month=8, day=21, hour=10, minute=37, second=46),\n",
    "    ]\n",
    "    \n",
    "    example_3_res = 46.83\n",
    "    \n",
    "    custom_compare(get_avg_session_time(example_3_action_times), example_3_res)\n",
    "    \n",
    "    print('Все тесты прошли успешно!')"
   ]
  },
  {
   "cell_type": "code",
   "execution_count": 81,
   "id": "2c111d1c",
   "metadata": {},
   "outputs": [
    {
     "name": "stdout",
     "output_type": "stream",
     "text": [
      "1426.0\n",
      "\n",
      "0.0\n",
      "\n"
     ]
    },
    {
     "name": "stderr",
     "output_type": "stream",
     "text": [
      "C:\\ProgramData\\Anaconda3\\lib\\site-packages\\ipykernel_launcher.py:16: DeprecationWarning: The default dtype for empty Series will be 'object' instead of 'float64' in a future version. Specify a dtype explicitly to silence this warning.\n",
      "  \n"
     ]
    },
    {
     "ename": "RuntimeError",
     "evalue": "Ожидаемое значение: 23.77. Фактическое: nan",
     "output_type": "error",
     "traceback": [
      "\u001b[1;31m---------------------------------------------------------------------------\u001b[0m",
      "\u001b[1;31mRuntimeError\u001b[0m                              Traceback (most recent call last)",
      "\u001b[1;32m~\\AppData\\Local\\Temp\\ipykernel_9720\\586096003.py\u001b[0m in \u001b[0;36m<module>\u001b[1;34m\u001b[0m\n\u001b[1;32m----> 1\u001b[1;33m \u001b[0mget_avg_session_time_test\u001b[0m\u001b[1;33m(\u001b[0m\u001b[1;33m)\u001b[0m\u001b[1;33m\u001b[0m\u001b[1;33m\u001b[0m\u001b[0m\n\u001b[0m",
      "\u001b[1;32m~\\AppData\\Local\\Temp\\ipykernel_9720\\1679805059.py\u001b[0m in \u001b[0;36mget_avg_session_time_test\u001b[1;34m()\u001b[0m\n\u001b[0;32m      8\u001b[0m     \u001b[0mexample_1_res\u001b[0m \u001b[1;33m=\u001b[0m \u001b[1;36m23.77\u001b[0m\u001b[1;33m\u001b[0m\u001b[1;33m\u001b[0m\u001b[0m\n\u001b[0;32m      9\u001b[0m \u001b[1;33m\u001b[0m\u001b[0m\n\u001b[1;32m---> 10\u001b[1;33m     \u001b[0mcustom_compare\u001b[0m\u001b[1;33m(\u001b[0m\u001b[0mget_avg_session_time\u001b[0m\u001b[1;33m(\u001b[0m\u001b[0mexample_1_action_times\u001b[0m\u001b[1;33m)\u001b[0m\u001b[1;33m,\u001b[0m \u001b[0mexample_1_res\u001b[0m\u001b[1;33m)\u001b[0m\u001b[1;33m\u001b[0m\u001b[1;33m\u001b[0m\u001b[0m\n\u001b[0m\u001b[0;32m     11\u001b[0m \u001b[1;33m\u001b[0m\u001b[0m\n\u001b[0;32m     12\u001b[0m     example_2_action_times = [\n",
      "\u001b[1;32m~\\AppData\\Local\\Temp\\ipykernel_9720\\860453372.py\u001b[0m in \u001b[0;36mcustom_compare\u001b[1;34m(x, y)\u001b[0m\n\u001b[0;32m      1\u001b[0m \u001b[1;32mdef\u001b[0m \u001b[0mcustom_compare\u001b[0m\u001b[1;33m(\u001b[0m\u001b[0mx\u001b[0m\u001b[1;33m,\u001b[0m \u001b[0my\u001b[0m\u001b[1;33m)\u001b[0m\u001b[1;33m:\u001b[0m\u001b[1;33m\u001b[0m\u001b[1;33m\u001b[0m\u001b[0m\n\u001b[0;32m      2\u001b[0m     \u001b[1;32mif\u001b[0m \u001b[0mstr\u001b[0m\u001b[1;33m(\u001b[0m\u001b[0mx\u001b[0m\u001b[1;33m)\u001b[0m \u001b[1;33m!=\u001b[0m \u001b[0mstr\u001b[0m\u001b[1;33m(\u001b[0m\u001b[0my\u001b[0m\u001b[1;33m)\u001b[0m\u001b[1;33m:\u001b[0m\u001b[1;33m\u001b[0m\u001b[1;33m\u001b[0m\u001b[0m\n\u001b[1;32m----> 3\u001b[1;33m         \u001b[1;32mraise\u001b[0m \u001b[0mRuntimeError\u001b[0m\u001b[1;33m(\u001b[0m\u001b[1;34mf'Ожидаемое значение: {y}. Фактическое: {x}'\u001b[0m\u001b[1;33m)\u001b[0m\u001b[1;33m\u001b[0m\u001b[1;33m\u001b[0m\u001b[0m\n\u001b[0m",
      "\u001b[1;31mRuntimeError\u001b[0m: Ожидаемое значение: 23.77. Фактическое: nan"
     ]
    }
   ],
   "source": [
    "get_avg_session_time_test()"
   ]
  },
  {
   "cell_type": "code",
   "execution_count": null,
   "id": "db0cddc8-bc55-49e2-be02-49919baf5308",
   "metadata": {},
   "outputs": [],
   "source": []
  },
  {
   "cell_type": "code",
   "execution_count": 9,
   "id": "a5379bc3-e362-497e-b7d5-a8412bebc830",
   "metadata": {},
   "outputs": [
    {
     "data": {
      "text/html": [
       "<div>\n",
       "<style scoped>\n",
       "    .dataframe tbody tr th:only-of-type {\n",
       "        vertical-align: middle;\n",
       "    }\n",
       "\n",
       "    .dataframe tbody tr th {\n",
       "        vertical-align: top;\n",
       "    }\n",
       "\n",
       "    .dataframe thead th {\n",
       "        text-align: right;\n",
       "    }\n",
       "</style>\n",
       "<table border=\"1\" class=\"dataframe\">\n",
       "  <thead>\n",
       "    <tr style=\"text-align: right;\">\n",
       "      <th></th>\n",
       "      <th>id</th>\n",
       "      <th>user_id</th>\n",
       "      <th>ip</th>\n",
       "      <th>action_time</th>\n",
       "      <th>action</th>\n",
       "    </tr>\n",
       "  </thead>\n",
       "  <tbody>\n",
       "    <tr>\n",
       "      <th>0</th>\n",
       "      <td>619</td>\n",
       "      <td>NaN</td>\n",
       "      <td>244.143.138.0</td>\n",
       "      <td>2021-01-20 18:36:32</td>\n",
       "      <td>('id': 234676, 'action': 'search', 'time': '20...</td>\n",
       "    </tr>\n",
       "    <tr>\n",
       "      <th>1</th>\n",
       "      <td>919428</td>\n",
       "      <td>30083.0</td>\n",
       "      <td>157.169.233.89</td>\n",
       "      <td>2023-12-10 04:13:50</td>\n",
       "      <td>('id': 541654, 'action': 'search', 'time': '20...</td>\n",
       "    </tr>\n",
       "    <tr>\n",
       "      <th>2</th>\n",
       "      <td>630539</td>\n",
       "      <td>NaN</td>\n",
       "      <td>160.111.52.224</td>\n",
       "      <td>2023-09-26 04:09:44</td>\n",
       "      <td>('id': 230556, 'action': 'click', 'time': '202...</td>\n",
       "    </tr>\n",
       "    <tr>\n",
       "      <th>3</th>\n",
       "      <td>963478</td>\n",
       "      <td>NaN</td>\n",
       "      <td>247.14.235.202</td>\n",
       "      <td>2023-12-19 21:02:47</td>\n",
       "      <td>('id': 838067, 'action': 'click', 'time': '202...</td>\n",
       "    </tr>\n",
       "    <tr>\n",
       "      <th>4</th>\n",
       "      <td>421566</td>\n",
       "      <td>NaN</td>\n",
       "      <td>255.2.67.154</td>\n",
       "      <td>2023-07-20 16:04:14</td>\n",
       "      <td>('id': 924754, 'action': 'search', 'time': '20...</td>\n",
       "    </tr>\n",
       "    <tr>\n",
       "      <th>...</th>\n",
       "      <td>...</td>\n",
       "      <td>...</td>\n",
       "      <td>...</td>\n",
       "      <td>...</td>\n",
       "      <td>...</td>\n",
       "    </tr>\n",
       "    <tr>\n",
       "      <th>100256</th>\n",
       "      <td>787682</td>\n",
       "      <td>NaN</td>\n",
       "      <td>235.213.10.189</td>\n",
       "      <td>2023-11-08 03:26:14</td>\n",
       "      <td>('id': 611537, 'action': 'click', 'time': '202...</td>\n",
       "    </tr>\n",
       "    <tr>\n",
       "      <th>100257</th>\n",
       "      <td>467742</td>\n",
       "      <td>95044.0</td>\n",
       "      <td>11.197.24.55</td>\n",
       "      <td>2023-08-07 18:09:05</td>\n",
       "      <td>('id': 105315, 'action': 'search', 'time': '20...</td>\n",
       "    </tr>\n",
       "    <tr>\n",
       "      <th>100258</th>\n",
       "      <td>756486</td>\n",
       "      <td>NaN</td>\n",
       "      <td>25.201.68.226</td>\n",
       "      <td>2023-10-30 11:55:48</td>\n",
       "      <td>('id': 736403, 'action': 'search', 'time': '20...</td>\n",
       "    </tr>\n",
       "    <tr>\n",
       "      <th>100259</th>\n",
       "      <td>585901</td>\n",
       "      <td>NaN</td>\n",
       "      <td>185.35.134.140</td>\n",
       "      <td>2023-09-14 19:06:45</td>\n",
       "      <td>('id': 614891, 'action': 'search', 'time': '20...</td>\n",
       "    </tr>\n",
       "    <tr>\n",
       "      <th>100260</th>\n",
       "      <td>698800</td>\n",
       "      <td>77851.0</td>\n",
       "      <td>12.90.148.105</td>\n",
       "      <td>2023-10-14 05:17:23</td>\n",
       "      <td>('id': 145174, 'action': 'search', 'time': '20...</td>\n",
       "    </tr>\n",
       "  </tbody>\n",
       "</table>\n",
       "<p>100261 rows × 5 columns</p>\n",
       "</div>"
      ],
      "text/plain": [
       "            id  user_id              ip         action_time  \\\n",
       "0          619      NaN   244.143.138.0 2021-01-20 18:36:32   \n",
       "1       919428  30083.0  157.169.233.89 2023-12-10 04:13:50   \n",
       "2       630539      NaN  160.111.52.224 2023-09-26 04:09:44   \n",
       "3       963478      NaN  247.14.235.202 2023-12-19 21:02:47   \n",
       "4       421566      NaN    255.2.67.154 2023-07-20 16:04:14   \n",
       "...        ...      ...             ...                 ...   \n",
       "100256  787682      NaN  235.213.10.189 2023-11-08 03:26:14   \n",
       "100257  467742  95044.0    11.197.24.55 2023-08-07 18:09:05   \n",
       "100258  756486      NaN   25.201.68.226 2023-10-30 11:55:48   \n",
       "100259  585901      NaN  185.35.134.140 2023-09-14 19:06:45   \n",
       "100260  698800  77851.0   12.90.148.105 2023-10-14 05:17:23   \n",
       "\n",
       "                                                   action  \n",
       "0       ('id': 234676, 'action': 'search', 'time': '20...  \n",
       "1       ('id': 541654, 'action': 'search', 'time': '20...  \n",
       "2       ('id': 230556, 'action': 'click', 'time': '202...  \n",
       "3       ('id': 838067, 'action': 'click', 'time': '202...  \n",
       "4       ('id': 924754, 'action': 'search', 'time': '20...  \n",
       "...                                                   ...  \n",
       "100256  ('id': 611537, 'action': 'click', 'time': '202...  \n",
       "100257  ('id': 105315, 'action': 'search', 'time': '20...  \n",
       "100258  ('id': 736403, 'action': 'search', 'time': '20...  \n",
       "100259  ('id': 614891, 'action': 'search', 'time': '20...  \n",
       "100260  ('id': 145174, 'action': 'search', 'time': '20...  \n",
       "\n",
       "[100261 rows x 5 columns]"
      ]
     },
     "execution_count": 9,
     "metadata": {},
     "output_type": "execute_result"
    }
   ],
   "source": [
    "user_session"
   ]
  },
  {
   "cell_type": "code",
   "execution_count": 11,
   "id": "593405a5-f63c-467d-8a98-72c9e4161492",
   "metadata": {},
   "outputs": [
    {
     "data": {
      "text/plain": [
       "\"('id': 234676, 'action': 'search', 'time': '2021-01-20 18:36:32')\""
      ]
     },
     "execution_count": 11,
     "metadata": {},
     "output_type": "execute_result"
    }
   ],
   "source": [
    "user_session.iloc[0].action"
   ]
  },
  {
   "cell_type": "code",
   "execution_count": null,
   "id": "8300885b-f503-4cf9-b911-b50672c513ce",
   "metadata": {},
   "outputs": [],
   "source": []
  },
  {
   "cell_type": "markdown",
   "id": "cd29f5e9",
   "metadata": {},
   "source": [
    "## Задание 2"
   ]
  },
  {
   "cell_type": "markdown",
   "id": "504c7061",
   "metadata": {},
   "source": [
    "Используя функцию `get_avg_session_time`, вычислите среднюю продолжительность пользовательской сессии для пользователей из таблицы `user_session`, с которой вы работали в рамках предыдущих упражнений. Для этого усредните значения средней продолжительности пользовательских сессий по всем пользователям.\n",
    "\n",
    "**Обратите внимание**, что среднее можно вычислять как по всем пользователям вообще, так и по тем, у кого среднее время пользовательской сессии больше $0$. В рамках задания вычислите значение по всему множеству пользователей.\n",
    "\n",
    "Аналогично лекции нужно считать, что пользователя уникальным образом идентифицирует IP-адрес, с которого он совершал действия.\n",
    "\n",
    "Ответ округлите до $2$-х знаков после запятой."
   ]
  },
  {
   "cell_type": "code",
   "execution_count": null,
   "id": "9a5d130e-4f24-4637-8b2a-4c7a6473dcd3",
   "metadata": {},
   "outputs": [],
   "source": []
  },
  {
   "cell_type": "code",
   "execution_count": 7,
   "id": "a5786d54-7e86-4195-a1da-cdd0296cc31f",
   "metadata": {},
   "outputs": [
    {
     "data": {
      "text/html": [
       "<div>\n",
       "<style scoped>\n",
       "    .dataframe tbody tr th:only-of-type {\n",
       "        vertical-align: middle;\n",
       "    }\n",
       "\n",
       "    .dataframe tbody tr th {\n",
       "        vertical-align: top;\n",
       "    }\n",
       "\n",
       "    .dataframe thead th {\n",
       "        text-align: right;\n",
       "    }\n",
       "</style>\n",
       "<table border=\"1\" class=\"dataframe\">\n",
       "  <thead>\n",
       "    <tr style=\"text-align: right;\">\n",
       "      <th></th>\n",
       "      <th>id</th>\n",
       "      <th>user_id</th>\n",
       "      <th>ip</th>\n",
       "      <th>action_time</th>\n",
       "      <th>action</th>\n",
       "    </tr>\n",
       "  </thead>\n",
       "  <tbody>\n",
       "    <tr>\n",
       "      <th>0</th>\n",
       "      <td>619</td>\n",
       "      <td>NaN</td>\n",
       "      <td>244.143.138.0</td>\n",
       "      <td>2021-01-20 18:36:32</td>\n",
       "      <td>('id': 234676, 'action': 'search', 'time': '20...</td>\n",
       "    </tr>\n",
       "    <tr>\n",
       "      <th>1</th>\n",
       "      <td>919428</td>\n",
       "      <td>30083.0</td>\n",
       "      <td>157.169.233.89</td>\n",
       "      <td>2023-12-10 04:13:50</td>\n",
       "      <td>('id': 541654, 'action': 'search', 'time': '20...</td>\n",
       "    </tr>\n",
       "    <tr>\n",
       "      <th>2</th>\n",
       "      <td>630539</td>\n",
       "      <td>NaN</td>\n",
       "      <td>160.111.52.224</td>\n",
       "      <td>2023-09-26 04:09:44</td>\n",
       "      <td>('id': 230556, 'action': 'click', 'time': '202...</td>\n",
       "    </tr>\n",
       "    <tr>\n",
       "      <th>3</th>\n",
       "      <td>963478</td>\n",
       "      <td>NaN</td>\n",
       "      <td>247.14.235.202</td>\n",
       "      <td>2023-12-19 21:02:47</td>\n",
       "      <td>('id': 838067, 'action': 'click', 'time': '202...</td>\n",
       "    </tr>\n",
       "    <tr>\n",
       "      <th>4</th>\n",
       "      <td>421566</td>\n",
       "      <td>NaN</td>\n",
       "      <td>255.2.67.154</td>\n",
       "      <td>2023-07-20 16:04:14</td>\n",
       "      <td>('id': 924754, 'action': 'search', 'time': '20...</td>\n",
       "    </tr>\n",
       "  </tbody>\n",
       "</table>\n",
       "</div>"
      ],
      "text/plain": [
       "       id  user_id              ip          action_time  \\\n",
       "0     619      NaN   244.143.138.0  2021-01-20 18:36:32   \n",
       "1  919428  30083.0  157.169.233.89  2023-12-10 04:13:50   \n",
       "2  630539      NaN  160.111.52.224  2023-09-26 04:09:44   \n",
       "3  963478      NaN  247.14.235.202  2023-12-19 21:02:47   \n",
       "4  421566      NaN    255.2.67.154  2023-07-20 16:04:14   \n",
       "\n",
       "                                              action  \n",
       "0  ('id': 234676, 'action': 'search', 'time': '20...  \n",
       "1  ('id': 541654, 'action': 'search', 'time': '20...  \n",
       "2  ('id': 230556, 'action': 'click', 'time': '202...  \n",
       "3  ('id': 838067, 'action': 'click', 'time': '202...  \n",
       "4  ('id': 924754, 'action': 'search', 'time': '20...  "
      ]
     },
     "execution_count": 7,
     "metadata": {},
     "output_type": "execute_result"
    }
   ],
   "source": [
    "user_session.head()"
   ]
  },
  {
   "cell_type": "code",
   "execution_count": null,
   "id": "4fd04734-0cc7-4980-8f87-f52fb7db93c8",
   "metadata": {},
   "outputs": [],
   "source": []
  },
  {
   "cell_type": "markdown",
   "id": "a8dcfea6",
   "metadata": {},
   "source": [
    "## Задание 3"
   ]
  },
  {
   "cell_type": "markdown",
   "id": "3515e3c1",
   "metadata": {},
   "source": [
    "### Вопрос 1"
   ]
  },
  {
   "cell_type": "markdown",
   "id": "888492ef",
   "metadata": {},
   "source": [
    "У какой доли пользователей среднее значение пользовательской сессии равно $0$?\n",
    "\n",
    "Ответ округлите до $2$-х знаков после запятой."
   ]
  },
  {
   "cell_type": "markdown",
   "id": "55572d1c",
   "metadata": {},
   "source": [
    "### Вопрос 2"
   ]
  },
  {
   "cell_type": "markdown",
   "id": "7713a591",
   "metadata": {},
   "source": [
    "Рассчитайте средннюю продолжительность пользовательской сессии только по пользователям, у которых средняя продолжительность пользовательской сессии больше $0$.\n",
    "\n",
    "Ответ округлите до $2$-х знаков после запятой."
   ]
  },
  {
   "cell_type": "code",
   "execution_count": null,
   "id": "cbd089ca",
   "metadata": {},
   "outputs": [],
   "source": []
  }
 ],
 "metadata": {
  "kernelspec": {
   "display_name": "Python 3 (ipykernel)",
   "language": "python",
   "name": "python3"
  },
  "language_info": {
   "codemirror_mode": {
    "name": "ipython",
    "version": 3
   },
   "file_extension": ".py",
   "mimetype": "text/x-python",
   "name": "python",
   "nbconvert_exporter": "python",
   "pygments_lexer": "ipython3",
   "version": "3.7.15"
  }
 },
 "nbformat": 4,
 "nbformat_minor": 5
}
