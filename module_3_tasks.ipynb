{
 "cells": [
  {
   "cell_type": "markdown",
   "id": "8b5551e4",
   "metadata": {},
   "source": [
    "## Установка pandas"
   ]
  },
  {
   "cell_type": "code",
   "execution_count": 1,
   "id": "d45712c2",
   "metadata": {},
   "outputs": [],
   "source": [
    "### !pip3 install pandas"
   ]
  },
  {
   "cell_type": "code",
   "execution_count": 1,
   "id": "0f2bde54",
   "metadata": {},
   "outputs": [],
   "source": [
    "import pandas as pd"
   ]
  },
  {
   "cell_type": "markdown",
   "id": "bb177a51",
   "metadata": {},
   "source": [
    "## Чтение данных и фильтрация таблиц"
   ]
  },
  {
   "cell_type": "code",
   "execution_count": 18,
   "id": "df4621ba-4f85-407c-9668-1fe0c0cfd587",
   "metadata": {},
   "outputs": [],
   "source": [
    "user = pd.read_csv('user.csv')"
   ]
  },
  {
   "cell_type": "code",
   "execution_count": 19,
   "id": "ff4c7aab-a780-4484-a5c6-6d6961c3f587",
   "metadata": {},
   "outputs": [],
   "source": [
    "user.birthday = pd.to_datetime(user.birthday, format='%d.%m.%Y')\n",
    "user.last_visited = pd.to_datetime(user.last_visited, format='%d.%m.%Y %H:%M:%S')"
   ]
  },
  {
   "cell_type": "code",
   "execution_count": 20,
   "id": "26fe61ed-6a50-476a-b723-a22fefea5c05",
   "metadata": {},
   "outputs": [
    {
     "data": {
      "text/html": [
       "<div>\n",
       "<style scoped>\n",
       "    .dataframe tbody tr th:only-of-type {\n",
       "        vertical-align: middle;\n",
       "    }\n",
       "\n",
       "    .dataframe tbody tr th {\n",
       "        vertical-align: top;\n",
       "    }\n",
       "\n",
       "    .dataframe thead th {\n",
       "        text-align: right;\n",
       "    }\n",
       "</style>\n",
       "<table border=\"1\" class=\"dataframe\">\n",
       "  <thead>\n",
       "    <tr style=\"text-align: right;\">\n",
       "      <th></th>\n",
       "      <th>id</th>\n",
       "      <th>gender</th>\n",
       "      <th>birthday</th>\n",
       "      <th>grade</th>\n",
       "      <th>region</th>\n",
       "      <th>last_visited</th>\n",
       "    </tr>\n",
       "  </thead>\n",
       "  <tbody>\n",
       "    <tr>\n",
       "      <th>0</th>\n",
       "      <td>1</td>\n",
       "      <td>М</td>\n",
       "      <td>2007-11-02</td>\n",
       "      <td>9.0</td>\n",
       "      <td>Город Санкт-Петербург</td>\n",
       "      <td>2023-08-23 03:04:14</td>\n",
       "    </tr>\n",
       "    <tr>\n",
       "      <th>1</th>\n",
       "      <td>2</td>\n",
       "      <td>Ж</td>\n",
       "      <td>2009-01-29</td>\n",
       "      <td>8.0</td>\n",
       "      <td>Город Москва</td>\n",
       "      <td>2023-09-07 09:21:35</td>\n",
       "    </tr>\n",
       "    <tr>\n",
       "      <th>2</th>\n",
       "      <td>3</td>\n",
       "      <td>М</td>\n",
       "      <td>2007-05-09</td>\n",
       "      <td>NaN</td>\n",
       "      <td>Город Санкт-Петербург</td>\n",
       "      <td>2023-08-23 18:32:18</td>\n",
       "    </tr>\n",
       "    <tr>\n",
       "      <th>3</th>\n",
       "      <td>4</td>\n",
       "      <td>Ж</td>\n",
       "      <td>2007-09-27</td>\n",
       "      <td>9.0</td>\n",
       "      <td>Город Москва</td>\n",
       "      <td>2023-08-18 07:34:11</td>\n",
       "    </tr>\n",
       "    <tr>\n",
       "      <th>4</th>\n",
       "      <td>5</td>\n",
       "      <td>Ж</td>\n",
       "      <td>2007-08-04</td>\n",
       "      <td>NaN</td>\n",
       "      <td>Город Москва</td>\n",
       "      <td>2023-09-02 18:31:30</td>\n",
       "    </tr>\n",
       "  </tbody>\n",
       "</table>\n",
       "</div>"
      ],
      "text/plain": [
       "   id gender   birthday  grade                 region        last_visited\n",
       "0   1      М 2007-11-02    9.0  Город Санкт-Петербург 2023-08-23 03:04:14\n",
       "1   2      Ж 2009-01-29    8.0           Город Москва 2023-09-07 09:21:35\n",
       "2   3      М 2007-05-09    NaN  Город Санкт-Петербург 2023-08-23 18:32:18\n",
       "3   4      Ж 2007-09-27    9.0           Город Москва 2023-08-18 07:34:11\n",
       "4   5      Ж 2007-08-04    NaN           Город Москва 2023-09-02 18:31:30"
      ]
     },
     "execution_count": 20,
     "metadata": {},
     "output_type": "execute_result"
    }
   ],
   "source": [
    "user.head()"
   ]
  },
  {
   "cell_type": "code",
   "execution_count": 21,
   "id": "ef15cda2-29d9-4be8-a317-b68082243d19",
   "metadata": {},
   "outputs": [
    {
     "name": "stdout",
     "output_type": "stream",
     "text": [
      "<class 'pandas.core.frame.DataFrame'>\n",
      "RangeIndex: 1000 entries, 0 to 999\n",
      "Data columns (total 6 columns):\n",
      " #   Column        Non-Null Count  Dtype         \n",
      "---  ------        --------------  -----         \n",
      " 0   id            1000 non-null   int64         \n",
      " 1   gender        1000 non-null   object        \n",
      " 2   birthday      1000 non-null   datetime64[ns]\n",
      " 3   grade         831 non-null    float64       \n",
      " 4   region        1000 non-null   object        \n",
      " 5   last_visited  1000 non-null   datetime64[ns]\n",
      "dtypes: datetime64[ns](2), float64(1), int64(1), object(2)\n",
      "memory usage: 47.0+ KB\n"
     ]
    }
   ],
   "source": [
    "user.info()"
   ]
  },
  {
   "cell_type": "code",
   "execution_count": null,
   "id": "8deacbfb-cd2b-417e-9b81-406f81b421e4",
   "metadata": {},
   "outputs": [],
   "source": []
  },
  {
   "cell_type": "markdown",
   "id": "b5539d87",
   "metadata": {},
   "source": [
    "### Задание 1"
   ]
  },
  {
   "cell_type": "markdown",
   "id": "ae00c5b8",
   "metadata": {},
   "source": [
    "Сколько в таблице `user` представлено учеников, родившихся в сентябре?"
   ]
  },
  {
   "cell_type": "markdown",
   "id": "0fc16194-bea6-43fd-9989-127016652f9f",
   "metadata": {},
   "source": [
    "## НЕВЕРНО!!!   \n",
    "Правильный ответ - 73. Получил в экселе"
   ]
  },
  {
   "cell_type": "code",
   "execution_count": 22,
   "id": "a9eb3869-dec3-44ee-a0b5-cdedccbd4d6e",
   "metadata": {
    "tags": []
   },
   "outputs": [
    {
     "data": {
      "text/plain": [
       "73"
      ]
     },
     "execution_count": 22,
     "metadata": {},
     "output_type": "execute_result"
    }
   ],
   "source": [
    "(user.birthday.dt.month == 9).sum()"
   ]
  },
  {
   "cell_type": "code",
   "execution_count": 13,
   "id": "f5f737bd-aa34-4fc3-84a8-977292c2efa5",
   "metadata": {},
   "outputs": [
    {
     "data": {
      "text/html": [
       "<div>\n",
       "<style scoped>\n",
       "    .dataframe tbody tr th:only-of-type {\n",
       "        vertical-align: middle;\n",
       "    }\n",
       "\n",
       "    .dataframe tbody tr th {\n",
       "        vertical-align: top;\n",
       "    }\n",
       "\n",
       "    .dataframe thead th {\n",
       "        text-align: right;\n",
       "    }\n",
       "</style>\n",
       "<table border=\"1\" class=\"dataframe\">\n",
       "  <thead>\n",
       "    <tr style=\"text-align: right;\">\n",
       "      <th></th>\n",
       "      <th>id</th>\n",
       "      <th>gender</th>\n",
       "      <th>birthday</th>\n",
       "      <th>grade</th>\n",
       "      <th>region</th>\n",
       "      <th>last_visited</th>\n",
       "    </tr>\n",
       "  </thead>\n",
       "  <tbody>\n",
       "    <tr>\n",
       "      <th>2</th>\n",
       "      <td>3</td>\n",
       "      <td>М</td>\n",
       "      <td>2007-09-05</td>\n",
       "      <td>NaN</td>\n",
       "      <td>Город Санкт-Петербург</td>\n",
       "      <td>2023-08-23 18:32:18</td>\n",
       "    </tr>\n",
       "    <tr>\n",
       "      <th>3</th>\n",
       "      <td>4</td>\n",
       "      <td>Ж</td>\n",
       "      <td>2007-09-27</td>\n",
       "      <td>9.0</td>\n",
       "      <td>Город Москва</td>\n",
       "      <td>2023-08-18 07:34:11</td>\n",
       "    </tr>\n",
       "    <tr>\n",
       "      <th>9</th>\n",
       "      <td>10</td>\n",
       "      <td>Ж</td>\n",
       "      <td>2009-09-28</td>\n",
       "      <td>7.0</td>\n",
       "      <td>Город Москва</td>\n",
       "      <td>2023-10-09 04:36:52</td>\n",
       "    </tr>\n",
       "    <tr>\n",
       "      <th>19</th>\n",
       "      <td>20</td>\n",
       "      <td>М</td>\n",
       "      <td>2007-09-13</td>\n",
       "      <td>9.0</td>\n",
       "      <td>Город Москва</td>\n",
       "      <td>2023-12-09 17:12:48</td>\n",
       "    </tr>\n",
       "    <tr>\n",
       "      <th>50</th>\n",
       "      <td>51</td>\n",
       "      <td>Ж</td>\n",
       "      <td>2007-09-19</td>\n",
       "      <td>NaN</td>\n",
       "      <td>Город Москва</td>\n",
       "      <td>2023-06-09 22:46:40</td>\n",
       "    </tr>\n",
       "    <tr>\n",
       "      <th>60</th>\n",
       "      <td>61</td>\n",
       "      <td>М</td>\n",
       "      <td>2008-09-04</td>\n",
       "      <td>9.0</td>\n",
       "      <td>Город Санкт-Петербург</td>\n",
       "      <td>2023-08-25 13:42:40</td>\n",
       "    </tr>\n",
       "    <tr>\n",
       "      <th>67</th>\n",
       "      <td>68</td>\n",
       "      <td>Ж</td>\n",
       "      <td>2010-09-05</td>\n",
       "      <td>7.0</td>\n",
       "      <td>Город Москва</td>\n",
       "      <td>2023-02-09 20:15:22</td>\n",
       "    </tr>\n",
       "    <tr>\n",
       "      <th>91</th>\n",
       "      <td>92</td>\n",
       "      <td>Ж</td>\n",
       "      <td>2006-09-27</td>\n",
       "      <td>10.0</td>\n",
       "      <td>Нижегородская область</td>\n",
       "      <td>2023-08-24 16:21:40</td>\n",
       "    </tr>\n",
       "    <tr>\n",
       "      <th>98</th>\n",
       "      <td>99</td>\n",
       "      <td>Ж</td>\n",
       "      <td>2010-09-08</td>\n",
       "      <td>7.0</td>\n",
       "      <td>Город Санкт-Петербург</td>\n",
       "      <td>2023-10-09 05:12:38</td>\n",
       "    </tr>\n",
       "    <tr>\n",
       "      <th>117</th>\n",
       "      <td>118</td>\n",
       "      <td>Ж</td>\n",
       "      <td>2007-09-14</td>\n",
       "      <td>NaN</td>\n",
       "      <td>Город Санкт-Петербург</td>\n",
       "      <td>2023-09-09 17:27:50</td>\n",
       "    </tr>\n",
       "    <tr>\n",
       "      <th>125</th>\n",
       "      <td>126</td>\n",
       "      <td>М</td>\n",
       "      <td>2006-09-29</td>\n",
       "      <td>10.0</td>\n",
       "      <td>Город Москва</td>\n",
       "      <td>2023-08-29 22:04:13</td>\n",
       "    </tr>\n",
       "    <tr>\n",
       "      <th>126</th>\n",
       "      <td>127</td>\n",
       "      <td>М</td>\n",
       "      <td>2009-09-19</td>\n",
       "      <td>NaN</td>\n",
       "      <td>Новосибирская область</td>\n",
       "      <td>2023-06-09 01:27:08</td>\n",
       "    </tr>\n",
       "    <tr>\n",
       "      <th>130</th>\n",
       "      <td>131</td>\n",
       "      <td>М</td>\n",
       "      <td>2010-09-03</td>\n",
       "      <td>7.0</td>\n",
       "      <td>Город Москва</td>\n",
       "      <td>2023-04-09 18:33:53</td>\n",
       "    </tr>\n",
       "    <tr>\n",
       "      <th>160</th>\n",
       "      <td>161</td>\n",
       "      <td>М</td>\n",
       "      <td>2009-09-04</td>\n",
       "      <td>8.0</td>\n",
       "      <td>Новосибирская область</td>\n",
       "      <td>2023-01-09 12:45:41</td>\n",
       "    </tr>\n",
       "    <tr>\n",
       "      <th>174</th>\n",
       "      <td>175</td>\n",
       "      <td>М</td>\n",
       "      <td>2008-09-11</td>\n",
       "      <td>8.0</td>\n",
       "      <td>Город Москва</td>\n",
       "      <td>2023-03-09 07:29:34</td>\n",
       "    </tr>\n",
       "    <tr>\n",
       "      <th>227</th>\n",
       "      <td>228</td>\n",
       "      <td>М</td>\n",
       "      <td>2010-09-09</td>\n",
       "      <td>NaN</td>\n",
       "      <td>Город Москва</td>\n",
       "      <td>2023-08-27 03:11:52</td>\n",
       "    </tr>\n",
       "    <tr>\n",
       "      <th>256</th>\n",
       "      <td>257</td>\n",
       "      <td>Ж</td>\n",
       "      <td>2008-09-12</td>\n",
       "      <td>NaN</td>\n",
       "      <td>Новосибирская область</td>\n",
       "      <td>2023-08-28 08:26:42</td>\n",
       "    </tr>\n",
       "    <tr>\n",
       "      <th>269</th>\n",
       "      <td>270</td>\n",
       "      <td>Ж</td>\n",
       "      <td>2006-09-22</td>\n",
       "      <td>10.0</td>\n",
       "      <td>Город Санкт-Петербург</td>\n",
       "      <td>2023-08-26 04:35:09</td>\n",
       "    </tr>\n",
       "    <tr>\n",
       "      <th>298</th>\n",
       "      <td>299</td>\n",
       "      <td>М</td>\n",
       "      <td>2010-09-03</td>\n",
       "      <td>7.0</td>\n",
       "      <td>Город Москва</td>\n",
       "      <td>2023-08-28 09:05:51</td>\n",
       "    </tr>\n",
       "    <tr>\n",
       "      <th>300</th>\n",
       "      <td>301</td>\n",
       "      <td>Ж</td>\n",
       "      <td>2009-09-29</td>\n",
       "      <td>7.0</td>\n",
       "      <td>Город Москва</td>\n",
       "      <td>2023-02-09 17:23:01</td>\n",
       "    </tr>\n",
       "    <tr>\n",
       "      <th>317</th>\n",
       "      <td>318</td>\n",
       "      <td>М</td>\n",
       "      <td>2006-09-25</td>\n",
       "      <td>10.0</td>\n",
       "      <td>Нижегородская область</td>\n",
       "      <td>2023-08-17 23:18:36</td>\n",
       "    </tr>\n",
       "    <tr>\n",
       "      <th>329</th>\n",
       "      <td>330</td>\n",
       "      <td>М</td>\n",
       "      <td>2009-09-23</td>\n",
       "      <td>7.0</td>\n",
       "      <td>Новосибирская область</td>\n",
       "      <td>2023-08-30 07:39:29</td>\n",
       "    </tr>\n",
       "    <tr>\n",
       "      <th>331</th>\n",
       "      <td>332</td>\n",
       "      <td>Ж</td>\n",
       "      <td>2007-09-23</td>\n",
       "      <td>9.0</td>\n",
       "      <td>Город Москва</td>\n",
       "      <td>2023-08-23 18:02:41</td>\n",
       "    </tr>\n",
       "    <tr>\n",
       "      <th>335</th>\n",
       "      <td>336</td>\n",
       "      <td>Ж</td>\n",
       "      <td>2010-09-14</td>\n",
       "      <td>7.0</td>\n",
       "      <td>Нижегородская область</td>\n",
       "      <td>2023-08-24 06:57:45</td>\n",
       "    </tr>\n",
       "    <tr>\n",
       "      <th>346</th>\n",
       "      <td>347</td>\n",
       "      <td>М</td>\n",
       "      <td>2008-09-29</td>\n",
       "      <td>8.0</td>\n",
       "      <td>Город Москва</td>\n",
       "      <td>2023-08-23 21:15:20</td>\n",
       "    </tr>\n",
       "    <tr>\n",
       "      <th>360</th>\n",
       "      <td>361</td>\n",
       "      <td>М</td>\n",
       "      <td>2009-09-10</td>\n",
       "      <td>7.0</td>\n",
       "      <td>Краснодарский край</td>\n",
       "      <td>2023-05-09 23:20:09</td>\n",
       "    </tr>\n",
       "    <tr>\n",
       "      <th>365</th>\n",
       "      <td>366</td>\n",
       "      <td>М</td>\n",
       "      <td>2007-09-22</td>\n",
       "      <td>9.0</td>\n",
       "      <td>Город Санкт-Петербург</td>\n",
       "      <td>2023-08-22 15:17:53</td>\n",
       "    </tr>\n",
       "    <tr>\n",
       "      <th>367</th>\n",
       "      <td>368</td>\n",
       "      <td>М</td>\n",
       "      <td>2008-09-08</td>\n",
       "      <td>NaN</td>\n",
       "      <td>Нижегородская область</td>\n",
       "      <td>2023-08-17 09:45:11</td>\n",
       "    </tr>\n",
       "    <tr>\n",
       "      <th>368</th>\n",
       "      <td>369</td>\n",
       "      <td>М</td>\n",
       "      <td>2007-09-17</td>\n",
       "      <td>9.0</td>\n",
       "      <td>Город Санкт-Петербург</td>\n",
       "      <td>2023-06-09 14:00:57</td>\n",
       "    </tr>\n",
       "    <tr>\n",
       "      <th>369</th>\n",
       "      <td>370</td>\n",
       "      <td>Ж</td>\n",
       "      <td>2009-09-27</td>\n",
       "      <td>7.0</td>\n",
       "      <td>Новосибирская область</td>\n",
       "      <td>2023-08-16 04:38:46</td>\n",
       "    </tr>\n",
       "    <tr>\n",
       "      <th>373</th>\n",
       "      <td>374</td>\n",
       "      <td>Ж</td>\n",
       "      <td>2009-09-13</td>\n",
       "      <td>7.0</td>\n",
       "      <td>Новосибирская область</td>\n",
       "      <td>2023-06-09 12:38:23</td>\n",
       "    </tr>\n",
       "    <tr>\n",
       "      <th>391</th>\n",
       "      <td>392</td>\n",
       "      <td>М</td>\n",
       "      <td>2008-09-25</td>\n",
       "      <td>8.0</td>\n",
       "      <td>Новосибирская область</td>\n",
       "      <td>2023-04-09 04:00:49</td>\n",
       "    </tr>\n",
       "    <tr>\n",
       "      <th>392</th>\n",
       "      <td>393</td>\n",
       "      <td>М</td>\n",
       "      <td>2007-09-12</td>\n",
       "      <td>9.0</td>\n",
       "      <td>Краснодарский край</td>\n",
       "      <td>2023-08-26 03:52:37</td>\n",
       "    </tr>\n",
       "    <tr>\n",
       "      <th>408</th>\n",
       "      <td>409</td>\n",
       "      <td>М</td>\n",
       "      <td>2009-09-24</td>\n",
       "      <td>7.0</td>\n",
       "      <td>Город Москва</td>\n",
       "      <td>2023-08-16 01:18:36</td>\n",
       "    </tr>\n",
       "    <tr>\n",
       "      <th>422</th>\n",
       "      <td>423</td>\n",
       "      <td>Ж</td>\n",
       "      <td>2007-09-01</td>\n",
       "      <td>10.0</td>\n",
       "      <td>Город Санкт-Петербург</td>\n",
       "      <td>2023-08-28 01:49:12</td>\n",
       "    </tr>\n",
       "    <tr>\n",
       "      <th>435</th>\n",
       "      <td>436</td>\n",
       "      <td>М</td>\n",
       "      <td>2009-09-11</td>\n",
       "      <td>7.0</td>\n",
       "      <td>Город Москва</td>\n",
       "      <td>2023-08-30 01:16:22</td>\n",
       "    </tr>\n",
       "    <tr>\n",
       "      <th>456</th>\n",
       "      <td>457</td>\n",
       "      <td>М</td>\n",
       "      <td>2010-09-09</td>\n",
       "      <td>NaN</td>\n",
       "      <td>Город Санкт-Петербург</td>\n",
       "      <td>2023-08-26 00:30:42</td>\n",
       "    </tr>\n",
       "    <tr>\n",
       "      <th>465</th>\n",
       "      <td>466</td>\n",
       "      <td>Ж</td>\n",
       "      <td>2008-09-15</td>\n",
       "      <td>8.0</td>\n",
       "      <td>Нижегородская область</td>\n",
       "      <td>2023-10-09 03:03:15</td>\n",
       "    </tr>\n",
       "    <tr>\n",
       "      <th>466</th>\n",
       "      <td>467</td>\n",
       "      <td>Ж</td>\n",
       "      <td>2009-09-12</td>\n",
       "      <td>7.0</td>\n",
       "      <td>Новосибирская область</td>\n",
       "      <td>2023-08-21 08:43:13</td>\n",
       "    </tr>\n",
       "    <tr>\n",
       "      <th>472</th>\n",
       "      <td>473</td>\n",
       "      <td>Ж</td>\n",
       "      <td>2008-09-25</td>\n",
       "      <td>8.0</td>\n",
       "      <td>Город Санкт-Петербург</td>\n",
       "      <td>2023-08-15 20:15:58</td>\n",
       "    </tr>\n",
       "    <tr>\n",
       "      <th>473</th>\n",
       "      <td>474</td>\n",
       "      <td>М</td>\n",
       "      <td>2010-09-14</td>\n",
       "      <td>7.0</td>\n",
       "      <td>Город Москва</td>\n",
       "      <td>2023-08-18 11:58:45</td>\n",
       "    </tr>\n",
       "    <tr>\n",
       "      <th>484</th>\n",
       "      <td>485</td>\n",
       "      <td>Ж</td>\n",
       "      <td>2008-09-09</td>\n",
       "      <td>9.0</td>\n",
       "      <td>Город Санкт-Петербург</td>\n",
       "      <td>2023-05-09 06:33:31</td>\n",
       "    </tr>\n",
       "    <tr>\n",
       "      <th>500</th>\n",
       "      <td>501</td>\n",
       "      <td>М</td>\n",
       "      <td>2009-09-27</td>\n",
       "      <td>7.0</td>\n",
       "      <td>Город Санкт-Петербург</td>\n",
       "      <td>2023-10-09 07:49:37</td>\n",
       "    </tr>\n",
       "    <tr>\n",
       "      <th>512</th>\n",
       "      <td>513</td>\n",
       "      <td>Ж</td>\n",
       "      <td>2009-09-22</td>\n",
       "      <td>7.0</td>\n",
       "      <td>Город Москва</td>\n",
       "      <td>2023-06-09 18:26:05</td>\n",
       "    </tr>\n",
       "    <tr>\n",
       "      <th>513</th>\n",
       "      <td>514</td>\n",
       "      <td>Ж</td>\n",
       "      <td>2008-09-29</td>\n",
       "      <td>8.0</td>\n",
       "      <td>Город Москва</td>\n",
       "      <td>2023-08-18 12:23:41</td>\n",
       "    </tr>\n",
       "    <tr>\n",
       "      <th>523</th>\n",
       "      <td>524</td>\n",
       "      <td>М</td>\n",
       "      <td>2010-09-15</td>\n",
       "      <td>7.0</td>\n",
       "      <td>Краснодарский край</td>\n",
       "      <td>2023-08-23 04:09:31</td>\n",
       "    </tr>\n",
       "    <tr>\n",
       "      <th>526</th>\n",
       "      <td>527</td>\n",
       "      <td>Ж</td>\n",
       "      <td>2009-09-26</td>\n",
       "      <td>NaN</td>\n",
       "      <td>Нижегородская область</td>\n",
       "      <td>2023-07-09 21:43:50</td>\n",
       "    </tr>\n",
       "    <tr>\n",
       "      <th>527</th>\n",
       "      <td>528</td>\n",
       "      <td>Ж</td>\n",
       "      <td>2007-09-13</td>\n",
       "      <td>9.0</td>\n",
       "      <td>Краснодарский край</td>\n",
       "      <td>2023-08-21 03:03:02</td>\n",
       "    </tr>\n",
       "    <tr>\n",
       "      <th>542</th>\n",
       "      <td>543</td>\n",
       "      <td>Ж</td>\n",
       "      <td>2008-09-29</td>\n",
       "      <td>8.0</td>\n",
       "      <td>Новосибирская область</td>\n",
       "      <td>2023-08-27 05:19:44</td>\n",
       "    </tr>\n",
       "    <tr>\n",
       "      <th>555</th>\n",
       "      <td>556</td>\n",
       "      <td>М</td>\n",
       "      <td>2009-09-01</td>\n",
       "      <td>8.0</td>\n",
       "      <td>Новосибирская область</td>\n",
       "      <td>2023-08-30 17:49:21</td>\n",
       "    </tr>\n",
       "  </tbody>\n",
       "</table>\n",
       "</div>"
      ],
      "text/plain": [
       "      id gender   birthday  grade                 region        last_visited\n",
       "2      3      М 2007-09-05    NaN  Город Санкт-Петербург 2023-08-23 18:32:18\n",
       "3      4      Ж 2007-09-27    9.0           Город Москва 2023-08-18 07:34:11\n",
       "9     10      Ж 2009-09-28    7.0           Город Москва 2023-10-09 04:36:52\n",
       "19    20      М 2007-09-13    9.0           Город Москва 2023-12-09 17:12:48\n",
       "50    51      Ж 2007-09-19    NaN           Город Москва 2023-06-09 22:46:40\n",
       "60    61      М 2008-09-04    9.0  Город Санкт-Петербург 2023-08-25 13:42:40\n",
       "67    68      Ж 2010-09-05    7.0           Город Москва 2023-02-09 20:15:22\n",
       "91    92      Ж 2006-09-27   10.0  Нижегородская область 2023-08-24 16:21:40\n",
       "98    99      Ж 2010-09-08    7.0  Город Санкт-Петербург 2023-10-09 05:12:38\n",
       "117  118      Ж 2007-09-14    NaN  Город Санкт-Петербург 2023-09-09 17:27:50\n",
       "125  126      М 2006-09-29   10.0           Город Москва 2023-08-29 22:04:13\n",
       "126  127      М 2009-09-19    NaN  Новосибирская область 2023-06-09 01:27:08\n",
       "130  131      М 2010-09-03    7.0           Город Москва 2023-04-09 18:33:53\n",
       "160  161      М 2009-09-04    8.0  Новосибирская область 2023-01-09 12:45:41\n",
       "174  175      М 2008-09-11    8.0           Город Москва 2023-03-09 07:29:34\n",
       "227  228      М 2010-09-09    NaN           Город Москва 2023-08-27 03:11:52\n",
       "256  257      Ж 2008-09-12    NaN  Новосибирская область 2023-08-28 08:26:42\n",
       "269  270      Ж 2006-09-22   10.0  Город Санкт-Петербург 2023-08-26 04:35:09\n",
       "298  299      М 2010-09-03    7.0           Город Москва 2023-08-28 09:05:51\n",
       "300  301      Ж 2009-09-29    7.0           Город Москва 2023-02-09 17:23:01\n",
       "317  318      М 2006-09-25   10.0  Нижегородская область 2023-08-17 23:18:36\n",
       "329  330      М 2009-09-23    7.0  Новосибирская область 2023-08-30 07:39:29\n",
       "331  332      Ж 2007-09-23    9.0           Город Москва 2023-08-23 18:02:41\n",
       "335  336      Ж 2010-09-14    7.0  Нижегородская область 2023-08-24 06:57:45\n",
       "346  347      М 2008-09-29    8.0           Город Москва 2023-08-23 21:15:20\n",
       "360  361      М 2009-09-10    7.0     Краснодарский край 2023-05-09 23:20:09\n",
       "365  366      М 2007-09-22    9.0  Город Санкт-Петербург 2023-08-22 15:17:53\n",
       "367  368      М 2008-09-08    NaN  Нижегородская область 2023-08-17 09:45:11\n",
       "368  369      М 2007-09-17    9.0  Город Санкт-Петербург 2023-06-09 14:00:57\n",
       "369  370      Ж 2009-09-27    7.0  Новосибирская область 2023-08-16 04:38:46\n",
       "373  374      Ж 2009-09-13    7.0  Новосибирская область 2023-06-09 12:38:23\n",
       "391  392      М 2008-09-25    8.0  Новосибирская область 2023-04-09 04:00:49\n",
       "392  393      М 2007-09-12    9.0     Краснодарский край 2023-08-26 03:52:37\n",
       "408  409      М 2009-09-24    7.0           Город Москва 2023-08-16 01:18:36\n",
       "422  423      Ж 2007-09-01   10.0  Город Санкт-Петербург 2023-08-28 01:49:12\n",
       "435  436      М 2009-09-11    7.0           Город Москва 2023-08-30 01:16:22\n",
       "456  457      М 2010-09-09    NaN  Город Санкт-Петербург 2023-08-26 00:30:42\n",
       "465  466      Ж 2008-09-15    8.0  Нижегородская область 2023-10-09 03:03:15\n",
       "466  467      Ж 2009-09-12    7.0  Новосибирская область 2023-08-21 08:43:13\n",
       "472  473      Ж 2008-09-25    8.0  Город Санкт-Петербург 2023-08-15 20:15:58\n",
       "473  474      М 2010-09-14    7.0           Город Москва 2023-08-18 11:58:45\n",
       "484  485      Ж 2008-09-09    9.0  Город Санкт-Петербург 2023-05-09 06:33:31\n",
       "500  501      М 2009-09-27    7.0  Город Санкт-Петербург 2023-10-09 07:49:37\n",
       "512  513      Ж 2009-09-22    7.0           Город Москва 2023-06-09 18:26:05\n",
       "513  514      Ж 2008-09-29    8.0           Город Москва 2023-08-18 12:23:41\n",
       "523  524      М 2010-09-15    7.0     Краснодарский край 2023-08-23 04:09:31\n",
       "526  527      Ж 2009-09-26    NaN  Нижегородская область 2023-07-09 21:43:50\n",
       "527  528      Ж 2007-09-13    9.0     Краснодарский край 2023-08-21 03:03:02\n",
       "542  543      Ж 2008-09-29    8.0  Новосибирская область 2023-08-27 05:19:44\n",
       "555  556      М 2009-09-01    8.0  Новосибирская область 2023-08-30 17:49:21"
      ]
     },
     "execution_count": 13,
     "metadata": {},
     "output_type": "execute_result"
    }
   ],
   "source": [
    "user[user.birthday.dt.month == 9].head(50)"
   ]
  },
  {
   "cell_type": "code",
   "execution_count": null,
   "id": "a836d47c-f38e-4d90-ae1f-f782b256f475",
   "metadata": {},
   "outputs": [],
   "source": []
  },
  {
   "cell_type": "markdown",
   "id": "0f328db0",
   "metadata": {},
   "source": [
    "### Задание 2"
   ]
  },
  {
   "cell_type": "markdown",
   "id": "b5c4a9d8",
   "metadata": {},
   "source": [
    "Какое количество учеников в последний раз посещали платформу в первые $14$ дней сентября?"
   ]
  },
  {
   "cell_type": "markdown",
   "id": "99dc89ce-0824-495d-b0b2-42f0230e112b",
   "metadata": {},
   "source": [
    "## НЕВЕРНО!!!"
   ]
  },
  {
   "cell_type": "code",
   "execution_count": 24,
   "id": "03157ade-280d-4b27-b3d4-7d7370b0521b",
   "metadata": {},
   "outputs": [
    {
     "data": {
      "text/plain": [
       "377"
      ]
     },
     "execution_count": 24,
     "metadata": {},
     "output_type": "execute_result"
    }
   ],
   "source": [
    "((user.last_visited.dt.month == 9) & (user.last_visited.dt.day.between(1, 14))).sum()"
   ]
  },
  {
   "cell_type": "code",
   "execution_count": null,
   "id": "e8870629-0096-4191-919c-8763ad2aaed1",
   "metadata": {},
   "outputs": [],
   "source": []
  },
  {
   "cell_type": "markdown",
   "id": "624a946a",
   "metadata": {},
   "source": [
    "### Задание 3"
   ]
  },
  {
   "cell_type": "markdown",
   "id": "2cb7a2e7",
   "metadata": {},
   "source": [
    "На сколько в данных больше девятиклассников, чем девятиклассниц?"
   ]
  },
  {
   "cell_type": "code",
   "execution_count": 41,
   "id": "685ac6ec-b30c-4c57-b428-2830dc340b3f",
   "metadata": {},
   "outputs": [
    {
     "data": {
      "text/plain": [
       "5"
      ]
     },
     "execution_count": 41,
     "metadata": {},
     "output_type": "execute_result"
    }
   ],
   "source": [
    "((user.gender == 'М') & (user.grade == 9)).sum() - ((user.gender == 'Ж') & (user.grade == 9)).sum()"
   ]
  },
  {
   "cell_type": "code",
   "execution_count": null,
   "id": "03b49f70-22d1-4121-b9c4-8c20e0caec01",
   "metadata": {},
   "outputs": [],
   "source": []
  },
  {
   "cell_type": "markdown",
   "id": "1cf486a9",
   "metadata": {},
   "source": [
    "### Задание 4"
   ]
  },
  {
   "cell_type": "markdown",
   "id": "6eacddf0",
   "metadata": {},
   "source": [
    "Какой процент учеников, у которых указан класс, обучается в $9$-м классе?\n",
    "\n",
    "Ответ округлите до целых."
   ]
  },
  {
   "cell_type": "code",
   "execution_count": 45,
   "id": "d941d65a-8cf8-406c-8af0-a0f8340195b5",
   "metadata": {},
   "outputs": [
    {
     "data": {
      "text/plain": [
       "24.0"
      ]
     },
     "execution_count": 45,
     "metadata": {},
     "output_type": "execute_result"
    }
   ],
   "source": [
    "((user.grade == 9).sum() / user.grade.count() * 100).round()"
   ]
  },
  {
   "cell_type": "code",
   "execution_count": null,
   "id": "308e3f1f-e0a0-489a-9709-b5474bd15820",
   "metadata": {},
   "outputs": [],
   "source": []
  },
  {
   "cell_type": "markdown",
   "id": "07097adb",
   "metadata": {},
   "source": [
    "### Задание 5"
   ]
  },
  {
   "cell_type": "markdown",
   "id": "0906829a",
   "metadata": {},
   "source": [
    "Сколько в данных представлено учеников из регионов, в названиях которых в качестве подстроки содержится слово «город»?\n",
    "\n",
    "При расчёте статистики приведите названия регионов к строчному написанию."
   ]
  },
  {
   "cell_type": "code",
   "execution_count": 72,
   "id": "014e85fd-41a4-40ff-935e-5e5ffc49dcbf",
   "metadata": {},
   "outputs": [
    {
     "data": {
      "text/plain": [
       "765"
      ]
     },
     "execution_count": 72,
     "metadata": {},
     "output_type": "execute_result"
    }
   ],
   "source": [
    "user.region.str.lower().str.contains('город').sum()\n",
    "# user[(user.region.str.contains('город')) & (user.gender == 'М')].shape"
   ]
  },
  {
   "cell_type": "code",
   "execution_count": null,
   "id": "ae92faa3-8be5-40a5-bb23-a953180be71a",
   "metadata": {},
   "outputs": [],
   "source": []
  },
  {
   "cell_type": "markdown",
   "id": "eb7dddb6",
   "metadata": {},
   "source": [
    "## Группировка, агрегация и соединение таблиц"
   ]
  },
  {
   "cell_type": "code",
   "execution_count": null,
   "id": "57f47640",
   "metadata": {},
   "outputs": [],
   "source": [
    "course = pd.read_csv('course.csv')"
   ]
  },
  {
   "cell_type": "code",
   "execution_count": null,
   "id": "1473a0b6",
   "metadata": {},
   "outputs": [],
   "source": [
    "user_course_progress = pd.read_csv('user_course_progress.csv')"
   ]
  },
  {
   "cell_type": "markdown",
   "id": "33916891",
   "metadata": {},
   "source": [
    "**Относительным прогрессом** будем называть отношение суммарного числа баллов, которые ученик набрал за курс (колонка `progress` в таблице `user_course_progress`), к максимальному количеству баллов, которые ученик в принципе мог набрать за данный курс (колонка `max_progress` в таблице `course`).\n",
    "\n",
    "С помощью представленных данных найдите ответ на следующий вопрос: в курсах какого предмета больше всего учеников, чей относительный прогресс не меньше $0.8$?\n",
    "\n",
    "В рамках следующих заданий вам будет предложено, действуя поэтапно, найти ответ на этот вопрос."
   ]
  },
  {
   "cell_type": "markdown",
   "id": "0b282053",
   "metadata": {},
   "source": [
    "### Задание 1"
   ]
  },
  {
   "cell_type": "markdown",
   "id": "56f4ef8c",
   "metadata": {},
   "source": [
    "Произведите соединение таблиц `course` и `user_course_progress`.\n",
    "\n",
    "В качестве ответа укажите количество строчек итоговой таблицы, в которых представлены ученики курсов по химии."
   ]
  },
  {
   "cell_type": "code",
   "execution_count": null,
   "id": "afa159ba-62e3-4c22-949c-d90972c6d8ce",
   "metadata": {},
   "outputs": [],
   "source": []
  },
  {
   "cell_type": "code",
   "execution_count": null,
   "id": "09c79fff-91bd-4b02-9129-bd1cbb588e88",
   "metadata": {},
   "outputs": [],
   "source": []
  },
  {
   "cell_type": "markdown",
   "id": "5f7122c8",
   "metadata": {},
   "source": [
    "### Задание 2"
   ]
  },
  {
   "cell_type": "markdown",
   "id": "6ebe3997",
   "metadata": {},
   "source": [
    "Обратите внимание, что у части курсов нет значения в колонке `max_score`. Уберите из полученной в предыдщуем задании таблицы все строчки, в которых пропущено значение колонки `max_score`.\n",
    "\n",
    "В качестве ответа укажите количество строчек в итоговой таблице."
   ]
  },
  {
   "cell_type": "code",
   "execution_count": null,
   "id": "a8b32fb4-0e7e-4491-b9f8-9f62bbcc7856",
   "metadata": {},
   "outputs": [],
   "source": []
  },
  {
   "cell_type": "code",
   "execution_count": null,
   "id": "434532a9-973c-4a79-a8f1-1b0cde2100f2",
   "metadata": {},
   "outputs": [],
   "source": []
  },
  {
   "cell_type": "markdown",
   "id": "2e7a3487",
   "metadata": {},
   "source": [
    "### Задание 3"
   ]
  },
  {
   "cell_type": "markdown",
   "id": "7b9fe5e3",
   "metadata": {},
   "source": [
    "Добавьте в полученную в предыдущем задании таблицу колонку `relative_progress`, в которой для каждого ученика будет храниться значение его относительного прогресса в конкретном курсе.\n",
    "\n",
    "В качестве ответа укажите среднее значение относительного прогресса в таблице. Ответ округлите до двух знаков после запятой с помощью функции `round`, которая встроена в Series."
   ]
  },
  {
   "cell_type": "code",
   "execution_count": null,
   "id": "49da0871-1afe-421b-a0d8-7a61fa9cce64",
   "metadata": {},
   "outputs": [],
   "source": []
  },
  {
   "cell_type": "code",
   "execution_count": null,
   "id": "e228bb91-277f-4ce8-b8f3-7338c3f1b309",
   "metadata": {},
   "outputs": [],
   "source": []
  },
  {
   "cell_type": "markdown",
   "id": "f2f2e646",
   "metadata": {},
   "source": [
    "### Задание 4"
   ]
  },
  {
   "cell_type": "markdown",
   "id": "f066617d",
   "metadata": {},
   "source": [
    "Оставьте в полученной в предыдущем задании таблице только те строчки, в которых значение относительного прогресса не меньше $0.8$.\n",
    "\n",
    "В качестве ответа укажите число строчек в получившейся таблице."
   ]
  },
  {
   "cell_type": "code",
   "execution_count": null,
   "id": "7f353c32-c6d5-4432-a6bb-861876720782",
   "metadata": {},
   "outputs": [],
   "source": []
  },
  {
   "cell_type": "code",
   "execution_count": null,
   "id": "7c72f8be-7ad0-41d8-ae41-1bb3cd584eb0",
   "metadata": {},
   "outputs": [],
   "source": []
  },
  {
   "cell_type": "markdown",
   "id": "0da39496",
   "metadata": {},
   "source": [
    "### Задание 5"
   ]
  },
  {
   "cell_type": "markdown",
   "id": "e6730f75",
   "metadata": {},
   "source": [
    "Произведите группировку строчек таблицы по предметам и посчитайте, сколько учеников с относительным прогрессом не меньше $0.8$ оказалось в каждом из предметов.\n",
    "\n",
    "В качестве ответа заполните таблицу, в которой каждому предмету сопоставлено число таких учеников.\n",
    "\n",
    "Если один и тот же ученик учился в разных курсах одного и того же предмета и в каждом из этих курсов достиг относительного прогресса не менее $0.8$, при подсчёте учтите его несколько раз."
   ]
  },
  {
   "cell_type": "code",
   "execution_count": null,
   "id": "92ada617-1724-41a2-84e4-4bc5dc87eafd",
   "metadata": {},
   "outputs": [],
   "source": []
  },
  {
   "cell_type": "code",
   "execution_count": null,
   "id": "6efcd84b-ca2d-49e6-ad2e-cd4b3797d4ef",
   "metadata": {},
   "outputs": [],
   "source": []
  },
  {
   "cell_type": "markdown",
   "id": "d87b4850",
   "metadata": {},
   "source": [
    "### Задание 6"
   ]
  },
  {
   "cell_type": "markdown",
   "id": "4500b2c0",
   "metadata": {},
   "source": [
    "В курсах какого предмета больше всего учеников, достигших относительного прогресса не менее $0.8$?"
   ]
  },
  {
   "cell_type": "code",
   "execution_count": null,
   "id": "bab425fd-7a78-4d30-a692-06c1362fd70e",
   "metadata": {},
   "outputs": [],
   "source": []
  },
  {
   "cell_type": "code",
   "execution_count": null,
   "id": "d7372221-bc59-4ee1-803d-b4d2a35d9cf4",
   "metadata": {},
   "outputs": [],
   "source": []
  }
 ],
 "metadata": {
  "kernelspec": {
   "display_name": "Python 3",
   "language": "python",
   "name": "python3"
  },
  "language_info": {
   "codemirror_mode": {
    "name": "ipython",
    "version": 3
   },
   "file_extension": ".py",
   "mimetype": "text/x-python",
   "name": "python",
   "nbconvert_exporter": "python",
   "pygments_lexer": "ipython3",
   "version": "3.8.8"
  }
 },
 "nbformat": 4,
 "nbformat_minor": 5
}
