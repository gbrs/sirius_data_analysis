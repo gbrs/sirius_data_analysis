{
 "cells": [
  {
   "cell_type": "markdown",
   "id": "8b5551e4",
   "metadata": {},
   "source": [
    "## Установка pandas"
   ]
  },
  {
   "cell_type": "code",
   "execution_count": 1,
   "id": "d45712c2",
   "metadata": {},
   "outputs": [],
   "source": [
    "### !pip3 install pandas"
   ]
  },
  {
   "cell_type": "code",
   "execution_count": 1,
   "id": "0f2bde54",
   "metadata": {},
   "outputs": [],
   "source": [
    "import pandas as pd"
   ]
  },
  {
   "cell_type": "markdown",
   "id": "bb177a51",
   "metadata": {},
   "source": [
    "## Чтение данных и фильтрация таблиц"
   ]
  },
  {
   "cell_type": "code",
   "execution_count": 18,
   "id": "df4621ba-4f85-407c-9668-1fe0c0cfd587",
   "metadata": {},
   "outputs": [],
   "source": [
    "user = pd.read_csv('user.csv')"
   ]
  },
  {
   "cell_type": "code",
   "execution_count": 19,
   "id": "ff4c7aab-a780-4484-a5c6-6d6961c3f587",
   "metadata": {},
   "outputs": [],
   "source": [
    "user.birthday = pd.to_datetime(user.birthday, format='%d.%m.%Y')\n",
    "user.last_visited = pd.to_datetime(user.last_visited, format='%d.%m.%Y %H:%M:%S')"
   ]
  },
  {
   "cell_type": "code",
   "execution_count": 20,
   "id": "26fe61ed-6a50-476a-b723-a22fefea5c05",
   "metadata": {},
   "outputs": [
    {
     "data": {
      "text/html": [
       "<div>\n",
       "<style scoped>\n",
       "    .dataframe tbody tr th:only-of-type {\n",
       "        vertical-align: middle;\n",
       "    }\n",
       "\n",
       "    .dataframe tbody tr th {\n",
       "        vertical-align: top;\n",
       "    }\n",
       "\n",
       "    .dataframe thead th {\n",
       "        text-align: right;\n",
       "    }\n",
       "</style>\n",
       "<table border=\"1\" class=\"dataframe\">\n",
       "  <thead>\n",
       "    <tr style=\"text-align: right;\">\n",
       "      <th></th>\n",
       "      <th>id</th>\n",
       "      <th>gender</th>\n",
       "      <th>birthday</th>\n",
       "      <th>grade</th>\n",
       "      <th>region</th>\n",
       "      <th>last_visited</th>\n",
       "    </tr>\n",
       "  </thead>\n",
       "  <tbody>\n",
       "    <tr>\n",
       "      <th>0</th>\n",
       "      <td>1</td>\n",
       "      <td>М</td>\n",
       "      <td>2007-11-02</td>\n",
       "      <td>9.0</td>\n",
       "      <td>Город Санкт-Петербург</td>\n",
       "      <td>2023-08-23 03:04:14</td>\n",
       "    </tr>\n",
       "    <tr>\n",
       "      <th>1</th>\n",
       "      <td>2</td>\n",
       "      <td>Ж</td>\n",
       "      <td>2009-01-29</td>\n",
       "      <td>8.0</td>\n",
       "      <td>Город Москва</td>\n",
       "      <td>2023-09-07 09:21:35</td>\n",
       "    </tr>\n",
       "    <tr>\n",
       "      <th>2</th>\n",
       "      <td>3</td>\n",
       "      <td>М</td>\n",
       "      <td>2007-05-09</td>\n",
       "      <td>NaN</td>\n",
       "      <td>Город Санкт-Петербург</td>\n",
       "      <td>2023-08-23 18:32:18</td>\n",
       "    </tr>\n",
       "    <tr>\n",
       "      <th>3</th>\n",
       "      <td>4</td>\n",
       "      <td>Ж</td>\n",
       "      <td>2007-09-27</td>\n",
       "      <td>9.0</td>\n",
       "      <td>Город Москва</td>\n",
       "      <td>2023-08-18 07:34:11</td>\n",
       "    </tr>\n",
       "    <tr>\n",
       "      <th>4</th>\n",
       "      <td>5</td>\n",
       "      <td>Ж</td>\n",
       "      <td>2007-08-04</td>\n",
       "      <td>NaN</td>\n",
       "      <td>Город Москва</td>\n",
       "      <td>2023-09-02 18:31:30</td>\n",
       "    </tr>\n",
       "  </tbody>\n",
       "</table>\n",
       "</div>"
      ],
      "text/plain": [
       "   id gender   birthday  grade                 region        last_visited\n",
       "0   1      М 2007-11-02    9.0  Город Санкт-Петербург 2023-08-23 03:04:14\n",
       "1   2      Ж 2009-01-29    8.0           Город Москва 2023-09-07 09:21:35\n",
       "2   3      М 2007-05-09    NaN  Город Санкт-Петербург 2023-08-23 18:32:18\n",
       "3   4      Ж 2007-09-27    9.0           Город Москва 2023-08-18 07:34:11\n",
       "4   5      Ж 2007-08-04    NaN           Город Москва 2023-09-02 18:31:30"
      ]
     },
     "execution_count": 20,
     "metadata": {},
     "output_type": "execute_result"
    }
   ],
   "source": [
    "user.head()"
   ]
  },
  {
   "cell_type": "code",
   "execution_count": 21,
   "id": "ef15cda2-29d9-4be8-a317-b68082243d19",
   "metadata": {},
   "outputs": [
    {
     "name": "stdout",
     "output_type": "stream",
     "text": [
      "<class 'pandas.core.frame.DataFrame'>\n",
      "RangeIndex: 1000 entries, 0 to 999\n",
      "Data columns (total 6 columns):\n",
      " #   Column        Non-Null Count  Dtype         \n",
      "---  ------        --------------  -----         \n",
      " 0   id            1000 non-null   int64         \n",
      " 1   gender        1000 non-null   object        \n",
      " 2   birthday      1000 non-null   datetime64[ns]\n",
      " 3   grade         831 non-null    float64       \n",
      " 4   region        1000 non-null   object        \n",
      " 5   last_visited  1000 non-null   datetime64[ns]\n",
      "dtypes: datetime64[ns](2), float64(1), int64(1), object(2)\n",
      "memory usage: 47.0+ KB\n"
     ]
    }
   ],
   "source": [
    "user.info()"
   ]
  },
  {
   "cell_type": "code",
   "execution_count": null,
   "id": "8deacbfb-cd2b-417e-9b81-406f81b421e4",
   "metadata": {},
   "outputs": [],
   "source": []
  },
  {
   "cell_type": "markdown",
   "id": "b5539d87",
   "metadata": {},
   "source": [
    "### Задание 1"
   ]
  },
  {
   "cell_type": "markdown",
   "id": "ae00c5b8",
   "metadata": {},
   "source": [
    "Сколько в таблице `user` представлено учеников, родившихся в сентябре?"
   ]
  },
  {
   "cell_type": "code",
   "execution_count": 22,
   "id": "a9eb3869-dec3-44ee-a0b5-cdedccbd4d6e",
   "metadata": {
    "tags": []
   },
   "outputs": [
    {
     "data": {
      "text/plain": [
       "73"
      ]
     },
     "execution_count": 22,
     "metadata": {},
     "output_type": "execute_result"
    }
   ],
   "source": [
    "(user.birthday.dt.month == 9).sum()"
   ]
  },
  {
   "cell_type": "code",
   "execution_count": null,
   "id": "a836d47c-f38e-4d90-ae1f-f782b256f475",
   "metadata": {},
   "outputs": [],
   "source": []
  },
  {
   "cell_type": "markdown",
   "id": "0f328db0",
   "metadata": {},
   "source": [
    "### Задание 2"
   ]
  },
  {
   "cell_type": "markdown",
   "id": "b5c4a9d8",
   "metadata": {},
   "source": [
    "Какое количество учеников в последний раз посещали платформу в первые $14$ дней сентября?"
   ]
  },
  {
   "cell_type": "code",
   "execution_count": 24,
   "id": "03157ade-280d-4b27-b3d4-7d7370b0521b",
   "metadata": {},
   "outputs": [
    {
     "data": {
      "text/plain": [
       "377"
      ]
     },
     "execution_count": 24,
     "metadata": {},
     "output_type": "execute_result"
    }
   ],
   "source": [
    "((user.last_visited.dt.month == 9) & (user.last_visited.dt.day.between(1, 14))).sum()"
   ]
  },
  {
   "cell_type": "code",
   "execution_count": null,
   "id": "e8870629-0096-4191-919c-8763ad2aaed1",
   "metadata": {},
   "outputs": [],
   "source": []
  },
  {
   "cell_type": "markdown",
   "id": "624a946a",
   "metadata": {},
   "source": [
    "### Задание 3"
   ]
  },
  {
   "cell_type": "markdown",
   "id": "2cb7a2e7",
   "metadata": {},
   "source": [
    "На сколько в данных больше девятиклассников, чем девятиклассниц?"
   ]
  },
  {
   "cell_type": "code",
   "execution_count": 41,
   "id": "685ac6ec-b30c-4c57-b428-2830dc340b3f",
   "metadata": {},
   "outputs": [
    {
     "data": {
      "text/plain": [
       "5"
      ]
     },
     "execution_count": 41,
     "metadata": {},
     "output_type": "execute_result"
    }
   ],
   "source": [
    "((user.gender == 'М') & (user.grade == 9)).sum() - ((user.gender == 'Ж') & (user.grade == 9)).sum()"
   ]
  },
  {
   "cell_type": "code",
   "execution_count": null,
   "id": "03b49f70-22d1-4121-b9c4-8c20e0caec01",
   "metadata": {},
   "outputs": [],
   "source": []
  },
  {
   "cell_type": "markdown",
   "id": "1cf486a9",
   "metadata": {},
   "source": [
    "### Задание 4"
   ]
  },
  {
   "cell_type": "markdown",
   "id": "6eacddf0",
   "metadata": {},
   "source": [
    "Какой процент учеников, у которых указан класс, обучается в $9$-м классе?\n",
    "\n",
    "Ответ округлите до целых."
   ]
  },
  {
   "cell_type": "code",
   "execution_count": 45,
   "id": "d941d65a-8cf8-406c-8af0-a0f8340195b5",
   "metadata": {},
   "outputs": [
    {
     "data": {
      "text/plain": [
       "24.0"
      ]
     },
     "execution_count": 45,
     "metadata": {},
     "output_type": "execute_result"
    }
   ],
   "source": [
    "((user.grade == 9).sum() / user.grade.count() * 100).round()"
   ]
  },
  {
   "cell_type": "code",
   "execution_count": null,
   "id": "308e3f1f-e0a0-489a-9709-b5474bd15820",
   "metadata": {},
   "outputs": [],
   "source": []
  },
  {
   "cell_type": "markdown",
   "id": "07097adb",
   "metadata": {},
   "source": [
    "### Задание 5"
   ]
  },
  {
   "cell_type": "markdown",
   "id": "0906829a",
   "metadata": {},
   "source": [
    "Сколько в данных представлено учеников из регионов, в названиях которых в качестве подстроки содержится слово «город»?\n",
    "\n",
    "При расчёте статистики приведите названия регионов к строчному написанию."
   ]
  },
  {
   "cell_type": "code",
   "execution_count": 72,
   "id": "014e85fd-41a4-40ff-935e-5e5ffc49dcbf",
   "metadata": {},
   "outputs": [
    {
     "data": {
      "text/plain": [
       "765"
      ]
     },
     "execution_count": 72,
     "metadata": {},
     "output_type": "execute_result"
    }
   ],
   "source": [
    "user.region.str.lower().str.contains('город').sum()\n",
    "# user[(user.region.str.contains('город')) & (user.gender == 'М')].shape"
   ]
  },
  {
   "cell_type": "code",
   "execution_count": null,
   "id": "ae92faa3-8be5-40a5-bb23-a953180be71a",
   "metadata": {},
   "outputs": [],
   "source": []
  },
  {
   "cell_type": "markdown",
   "id": "eb7dddb6",
   "metadata": {},
   "source": [
    "## Группировка, агрегация и соединение таблиц"
   ]
  },
  {
   "cell_type": "code",
   "execution_count": 2,
   "id": "57f47640",
   "metadata": {},
   "outputs": [],
   "source": [
    "course = pd.read_csv('course.csv')"
   ]
  },
  {
   "cell_type": "code",
   "execution_count": 3,
   "id": "1473a0b6",
   "metadata": {},
   "outputs": [],
   "source": [
    "user_course_progress = pd.read_csv('user_course_progress.csv')"
   ]
  },
  {
   "cell_type": "markdown",
   "id": "33916891",
   "metadata": {},
   "source": [
    "**Относительным прогрессом** будем называть отношение суммарного числа баллов, которые ученик набрал за курс (колонка `progress` в таблице `user_course_progress`), к максимальному количеству баллов, которые ученик в принципе мог набрать за данный курс (колонка `max_progress` в таблице `course`).\n",
    "\n",
    "С помощью представленных данных найдите ответ на следующий вопрос: в курсах какого предмета больше всего учеников, чей относительный прогресс не меньше $0.8$?\n",
    "\n",
    "В рамках следующих заданий вам будет предложено, действуя поэтапно, найти ответ на этот вопрос."
   ]
  },
  {
   "cell_type": "code",
   "execution_count": 5,
   "id": "5ea6469f-dde4-4759-bcd4-eba4797edd7c",
   "metadata": {},
   "outputs": [
    {
     "data": {
      "text/html": [
       "<div>\n",
       "<style scoped>\n",
       "    .dataframe tbody tr th:only-of-type {\n",
       "        vertical-align: middle;\n",
       "    }\n",
       "\n",
       "    .dataframe tbody tr th {\n",
       "        vertical-align: top;\n",
       "    }\n",
       "\n",
       "    .dataframe thead th {\n",
       "        text-align: right;\n",
       "    }\n",
       "</style>\n",
       "<table border=\"1\" class=\"dataframe\">\n",
       "  <thead>\n",
       "    <tr style=\"text-align: right;\">\n",
       "      <th></th>\n",
       "      <th>id</th>\n",
       "      <th>subject</th>\n",
       "      <th>date_started</th>\n",
       "      <th>max_score</th>\n",
       "    </tr>\n",
       "  </thead>\n",
       "  <tbody>\n",
       "    <tr>\n",
       "      <th>0</th>\n",
       "      <td>1</td>\n",
       "      <td>Химия</td>\n",
       "      <td>2023-04-04</td>\n",
       "      <td>108.0</td>\n",
       "    </tr>\n",
       "    <tr>\n",
       "      <th>1</th>\n",
       "      <td>2</td>\n",
       "      <td>Физика</td>\n",
       "      <td>2023-01-31</td>\n",
       "      <td>137.0</td>\n",
       "    </tr>\n",
       "    <tr>\n",
       "      <th>2</th>\n",
       "      <td>3</td>\n",
       "      <td>Биология</td>\n",
       "      <td>2023-09-14</td>\n",
       "      <td>NaN</td>\n",
       "    </tr>\n",
       "    <tr>\n",
       "      <th>3</th>\n",
       "      <td>4</td>\n",
       "      <td>Химия</td>\n",
       "      <td>2023-03-31</td>\n",
       "      <td>118.0</td>\n",
       "    </tr>\n",
       "    <tr>\n",
       "      <th>4</th>\n",
       "      <td>5</td>\n",
       "      <td>Физика</td>\n",
       "      <td>2023-11-30</td>\n",
       "      <td>NaN</td>\n",
       "    </tr>\n",
       "  </tbody>\n",
       "</table>\n",
       "</div>"
      ],
      "text/plain": [
       "   id   subject date_started  max_score\n",
       "0   1     Химия   2023-04-04      108.0\n",
       "1   2    Физика   2023-01-31      137.0\n",
       "2   3  Биология   2023-09-14        NaN\n",
       "3   4     Химия   2023-03-31      118.0\n",
       "4   5    Физика   2023-11-30        NaN"
      ]
     },
     "execution_count": 5,
     "metadata": {},
     "output_type": "execute_result"
    }
   ],
   "source": [
    "course.head()"
   ]
  },
  {
   "cell_type": "code",
   "execution_count": 7,
   "id": "3d22015d-71e8-4644-8c07-aaa8bd5a9b49",
   "metadata": {},
   "outputs": [
    {
     "data": {
      "text/html": [
       "<div>\n",
       "<style scoped>\n",
       "    .dataframe tbody tr th:only-of-type {\n",
       "        vertical-align: middle;\n",
       "    }\n",
       "\n",
       "    .dataframe tbody tr th {\n",
       "        vertical-align: top;\n",
       "    }\n",
       "\n",
       "    .dataframe thead th {\n",
       "        text-align: right;\n",
       "    }\n",
       "</style>\n",
       "<table border=\"1\" class=\"dataframe\">\n",
       "  <thead>\n",
       "    <tr style=\"text-align: right;\">\n",
       "      <th></th>\n",
       "      <th>user_id</th>\n",
       "      <th>course_id</th>\n",
       "      <th>progress</th>\n",
       "    </tr>\n",
       "  </thead>\n",
       "  <tbody>\n",
       "    <tr>\n",
       "      <th>0</th>\n",
       "      <td>392</td>\n",
       "      <td>1</td>\n",
       "      <td>31.68</td>\n",
       "    </tr>\n",
       "    <tr>\n",
       "      <th>1</th>\n",
       "      <td>217</td>\n",
       "      <td>1</td>\n",
       "      <td>97.53</td>\n",
       "    </tr>\n",
       "    <tr>\n",
       "      <th>2</th>\n",
       "      <td>843</td>\n",
       "      <td>1</td>\n",
       "      <td>81.50</td>\n",
       "    </tr>\n",
       "    <tr>\n",
       "      <th>3</th>\n",
       "      <td>417</td>\n",
       "      <td>1</td>\n",
       "      <td>15.92</td>\n",
       "    </tr>\n",
       "    <tr>\n",
       "      <th>4</th>\n",
       "      <td>605</td>\n",
       "      <td>1</td>\n",
       "      <td>103.31</td>\n",
       "    </tr>\n",
       "  </tbody>\n",
       "</table>\n",
       "</div>"
      ],
      "text/plain": [
       "   user_id  course_id  progress\n",
       "0      392          1     31.68\n",
       "1      217          1     97.53\n",
       "2      843          1     81.50\n",
       "3      417          1     15.92\n",
       "4      605          1    103.31"
      ]
     },
     "execution_count": 7,
     "metadata": {},
     "output_type": "execute_result"
    }
   ],
   "source": [
    "user_course_progress.head()"
   ]
  },
  {
   "cell_type": "code",
   "execution_count": null,
   "id": "b78ab04c-16a0-4de5-b2b3-495a25d97982",
   "metadata": {},
   "outputs": [],
   "source": []
  },
  {
   "cell_type": "markdown",
   "id": "0b282053",
   "metadata": {},
   "source": [
    "### Задание 1"
   ]
  },
  {
   "cell_type": "markdown",
   "id": "56f4ef8c",
   "metadata": {},
   "source": [
    "Произведите соединение таблиц `course` и `user_course_progress`.\n",
    "\n",
    "В качестве ответа укажите количество строчек итоговой таблицы, в которых представлены ученики курсов по химии."
   ]
  },
  {
   "cell_type": "code",
   "execution_count": 25,
   "id": "afa159ba-62e3-4c22-949c-d90972c6d8ce",
   "metadata": {},
   "outputs": [
    {
     "data": {
      "text/html": [
       "<div>\n",
       "<style scoped>\n",
       "    .dataframe tbody tr th:only-of-type {\n",
       "        vertical-align: middle;\n",
       "    }\n",
       "\n",
       "    .dataframe tbody tr th {\n",
       "        vertical-align: top;\n",
       "    }\n",
       "\n",
       "    .dataframe thead th {\n",
       "        text-align: right;\n",
       "    }\n",
       "</style>\n",
       "<table border=\"1\" class=\"dataframe\">\n",
       "  <thead>\n",
       "    <tr style=\"text-align: right;\">\n",
       "      <th></th>\n",
       "      <th>id</th>\n",
       "      <th>subject</th>\n",
       "      <th>date_started</th>\n",
       "      <th>max_score</th>\n",
       "      <th>user_id</th>\n",
       "      <th>course_id</th>\n",
       "      <th>progress</th>\n",
       "    </tr>\n",
       "  </thead>\n",
       "  <tbody>\n",
       "    <tr>\n",
       "      <th>0</th>\n",
       "      <td>1</td>\n",
       "      <td>Химия</td>\n",
       "      <td>2023-04-04</td>\n",
       "      <td>108.0</td>\n",
       "      <td>392</td>\n",
       "      <td>1</td>\n",
       "      <td>31.68</td>\n",
       "    </tr>\n",
       "    <tr>\n",
       "      <th>1</th>\n",
       "      <td>1</td>\n",
       "      <td>Химия</td>\n",
       "      <td>2023-04-04</td>\n",
       "      <td>108.0</td>\n",
       "      <td>217</td>\n",
       "      <td>1</td>\n",
       "      <td>97.53</td>\n",
       "    </tr>\n",
       "    <tr>\n",
       "      <th>2</th>\n",
       "      <td>1</td>\n",
       "      <td>Химия</td>\n",
       "      <td>2023-04-04</td>\n",
       "      <td>108.0</td>\n",
       "      <td>843</td>\n",
       "      <td>1</td>\n",
       "      <td>81.50</td>\n",
       "    </tr>\n",
       "    <tr>\n",
       "      <th>3</th>\n",
       "      <td>1</td>\n",
       "      <td>Химия</td>\n",
       "      <td>2023-04-04</td>\n",
       "      <td>108.0</td>\n",
       "      <td>417</td>\n",
       "      <td>1</td>\n",
       "      <td>15.92</td>\n",
       "    </tr>\n",
       "    <tr>\n",
       "      <th>4</th>\n",
       "      <td>1</td>\n",
       "      <td>Химия</td>\n",
       "      <td>2023-04-04</td>\n",
       "      <td>108.0</td>\n",
       "      <td>605</td>\n",
       "      <td>1</td>\n",
       "      <td>103.31</td>\n",
       "    </tr>\n",
       "  </tbody>\n",
       "</table>\n",
       "</div>"
      ],
      "text/plain": [
       "   id subject date_started  max_score  user_id  course_id  progress\n",
       "0   1   Химия   2023-04-04      108.0      392          1     31.68\n",
       "1   1   Химия   2023-04-04      108.0      217          1     97.53\n",
       "2   1   Химия   2023-04-04      108.0      843          1     81.50\n",
       "3   1   Химия   2023-04-04      108.0      417          1     15.92\n",
       "4   1   Химия   2023-04-04      108.0      605          1    103.31"
      ]
     },
     "execution_count": 25,
     "metadata": {},
     "output_type": "execute_result"
    }
   ],
   "source": [
    "df = pd.merge(course, user_course_progress, left_on='id', right_on='course_id')\n",
    "df.head()"
   ]
  },
  {
   "cell_type": "code",
   "execution_count": 18,
   "id": "73cc4bcf-4291-4214-8c48-1598b1dc4ee7",
   "metadata": {},
   "outputs": [
    {
     "data": {
      "text/plain": [
       "678"
      ]
     },
     "execution_count": 18,
     "metadata": {},
     "output_type": "execute_result"
    }
   ],
   "source": [
    "df[df.subject=='Химия'].subject.count()"
   ]
  },
  {
   "cell_type": "code",
   "execution_count": null,
   "id": "09c79fff-91bd-4b02-9129-bd1cbb588e88",
   "metadata": {},
   "outputs": [],
   "source": []
  },
  {
   "cell_type": "markdown",
   "id": "5f7122c8",
   "metadata": {},
   "source": [
    "### Задание 2"
   ]
  },
  {
   "cell_type": "markdown",
   "id": "6ebe3997",
   "metadata": {},
   "source": [
    "Обратите внимание, что у части курсов нет значения в колонке `max_score`. Уберите из полученной в предыдщуем задании таблицы все строчки, в которых пропущено значение колонки `max_score`.\n",
    "\n",
    "В качестве ответа укажите количество строчек в итоговой таблице."
   ]
  },
  {
   "cell_type": "code",
   "execution_count": 26,
   "id": "04ad509f-9585-4a75-9941-955cdec8aa8c",
   "metadata": {},
   "outputs": [
    {
     "data": {
      "text/plain": [
       "(1711, 7)"
      ]
     },
     "execution_count": 26,
     "metadata": {},
     "output_type": "execute_result"
    }
   ],
   "source": [
    "df.shape"
   ]
  },
  {
   "cell_type": "code",
   "execution_count": 27,
   "id": "a8b32fb4-0e7e-4491-b9f8-9f62bbcc7856",
   "metadata": {},
   "outputs": [],
   "source": [
    "df = df.dropna(subset=['max_score'])"
   ]
  },
  {
   "cell_type": "code",
   "execution_count": 29,
   "id": "e01b6092-6ddf-4f1b-8d16-fc9b1ce70348",
   "metadata": {},
   "outputs": [
    {
     "data": {
      "text/plain": [
       "1031"
      ]
     },
     "execution_count": 29,
     "metadata": {},
     "output_type": "execute_result"
    }
   ],
   "source": [
    "df.shape[0]"
   ]
  },
  {
   "cell_type": "code",
   "execution_count": null,
   "id": "055128ad-37b4-4638-a09c-aae37686ad06",
   "metadata": {},
   "outputs": [],
   "source": []
  },
  {
   "cell_type": "markdown",
   "id": "2e7a3487",
   "metadata": {},
   "source": [
    "### Задание 3"
   ]
  },
  {
   "cell_type": "markdown",
   "id": "7b9fe5e3",
   "metadata": {},
   "source": [
    "Добавьте в полученную в предыдущем задании таблицу колонку `relative_progress`, в которой для каждого ученика будет храниться значение его относительного прогресса в конкретном курсе.\n",
    "\n",
    "В качестве ответа укажите среднее значение относительного прогресса в таблице. Ответ округлите до двух знаков после запятой с помощью функции `round`, которая встроена в Series."
   ]
  },
  {
   "cell_type": "code",
   "execution_count": 33,
   "id": "49da0871-1afe-421b-a0d8-7a61fa9cce64",
   "metadata": {},
   "outputs": [],
   "source": [
    "df['relative_progress'] = (df.progress / df.max_score)"
   ]
  },
  {
   "cell_type": "code",
   "execution_count": 38,
   "id": "d68be38c-a7f0-4e62-88d4-4836450cc68d",
   "metadata": {},
   "outputs": [
    {
     "data": {
      "text/plain": [
       "0.35"
      ]
     },
     "execution_count": 38,
     "metadata": {},
     "output_type": "execute_result"
    }
   ],
   "source": [
    "round(df.relative_progress.mean(), 2)"
   ]
  },
  {
   "cell_type": "code",
   "execution_count": null,
   "id": "e228bb91-277f-4ce8-b8f3-7338c3f1b309",
   "metadata": {},
   "outputs": [],
   "source": []
  },
  {
   "cell_type": "markdown",
   "id": "f2f2e646",
   "metadata": {},
   "source": [
    "### Задание 4"
   ]
  },
  {
   "cell_type": "markdown",
   "id": "f066617d",
   "metadata": {},
   "source": [
    "Оставьте в полученной в предыдущем задании таблице только те строчки, в которых значение относительного прогресса не меньше $0.8$.\n",
    "\n",
    "В качестве ответа укажите число строчек в получившейся таблице."
   ]
  },
  {
   "cell_type": "code",
   "execution_count": 39,
   "id": "7f353c32-c6d5-4432-a6bb-861876720782",
   "metadata": {},
   "outputs": [],
   "source": [
    "df_best = df[df.relative_progress>=0.8]"
   ]
  },
  {
   "cell_type": "code",
   "execution_count": 41,
   "id": "7c72f8be-7ad0-41d8-ae41-1bb3cd584eb0",
   "metadata": {},
   "outputs": [
    {
     "data": {
      "text/plain": [
       "159"
      ]
     },
     "execution_count": 41,
     "metadata": {},
     "output_type": "execute_result"
    }
   ],
   "source": [
    "df_best.shape[0]"
   ]
  },
  {
   "cell_type": "code",
   "execution_count": null,
   "id": "f43354e8-6ae0-4413-baab-9ead9f0c1c6f",
   "metadata": {},
   "outputs": [],
   "source": []
  },
  {
   "cell_type": "markdown",
   "id": "0da39496",
   "metadata": {},
   "source": [
    "### Задание 5"
   ]
  },
  {
   "cell_type": "markdown",
   "id": "e6730f75",
   "metadata": {},
   "source": [
    "Произведите группировку строчек таблицы по предметам и посчитайте, сколько учеников с относительным прогрессом не меньше $0.8$ оказалось в каждом из предметов.\n",
    "\n",
    "В качестве ответа заполните таблицу, в которой каждому предмету сопоставлено число таких учеников.\n",
    "\n",
    "Если один и тот же ученик учился в разных курсах одного и того же предмета и в каждом из этих курсов достиг относительного прогресса не менее $0.8$, при подсчёте учтите его несколько раз."
   ]
  },
  {
   "cell_type": "code",
   "execution_count": 45,
   "id": "92ada617-1724-41a2-84e4-4bc5dc87eafd",
   "metadata": {},
   "outputs": [
    {
     "data": {
      "text/plain": [
       "Химия         105\n",
       "Математика     30\n",
       "Физика         24\n",
       "Name: subject, dtype: int64"
      ]
     },
     "execution_count": 45,
     "metadata": {},
     "output_type": "execute_result"
    }
   ],
   "source": [
    "df_best.subject.value_counts()"
   ]
  },
  {
   "cell_type": "code",
   "execution_count": null,
   "id": "6efcd84b-ca2d-49e6-ad2e-cd4b3797d4ef",
   "metadata": {},
   "outputs": [],
   "source": []
  },
  {
   "cell_type": "markdown",
   "id": "d87b4850",
   "metadata": {},
   "source": [
    "### Задание 6"
   ]
  },
  {
   "cell_type": "markdown",
   "id": "4500b2c0",
   "metadata": {},
   "source": [
    "В курсах какого предмета больше всего учеников, достигших относительного прогресса не менее $0.8$?"
   ]
  },
  {
   "cell_type": "code",
   "execution_count": 46,
   "id": "bab425fd-7a78-4d30-a692-06c1362fd70e",
   "metadata": {},
   "outputs": [
    {
     "data": {
      "text/plain": [
       "'Химия'"
      ]
     },
     "execution_count": 46,
     "metadata": {},
     "output_type": "execute_result"
    }
   ],
   "source": [
    "df_best.subject.value_counts().idxmax()"
   ]
  },
  {
   "cell_type": "code",
   "execution_count": null,
   "id": "d7372221-bc59-4ee1-803d-b4d2a35d9cf4",
   "metadata": {},
   "outputs": [],
   "source": []
  },
  {
   "cell_type": "code",
   "execution_count": 30,
   "id": "8608acd5-16a0-4813-8d11-81ed028903c7",
   "metadata": {},
   "outputs": [
    {
     "data": {
      "text/html": [
       "<div>\n",
       "<style scoped>\n",
       "    .dataframe tbody tr th:only-of-type {\n",
       "        vertical-align: middle;\n",
       "    }\n",
       "\n",
       "    .dataframe tbody tr th {\n",
       "        vertical-align: top;\n",
       "    }\n",
       "\n",
       "    .dataframe thead th {\n",
       "        text-align: right;\n",
       "    }\n",
       "</style>\n",
       "<table border=\"1\" class=\"dataframe\">\n",
       "  <thead>\n",
       "    <tr style=\"text-align: right;\">\n",
       "      <th></th>\n",
       "      <th>id</th>\n",
       "      <th>subject</th>\n",
       "      <th>date_started</th>\n",
       "      <th>max_score</th>\n",
       "      <th>user_id</th>\n",
       "      <th>course_id</th>\n",
       "      <th>progress</th>\n",
       "    </tr>\n",
       "  </thead>\n",
       "  <tbody>\n",
       "    <tr>\n",
       "      <th>0</th>\n",
       "      <td>1</td>\n",
       "      <td>Химия</td>\n",
       "      <td>2023-04-04</td>\n",
       "      <td>108.0</td>\n",
       "      <td>392</td>\n",
       "      <td>1</td>\n",
       "      <td>31.68</td>\n",
       "    </tr>\n",
       "  </tbody>\n",
       "</table>\n",
       "</div>"
      ],
      "text/plain": [
       "   id subject date_started  max_score  user_id  course_id  progress\n",
       "0   1   Химия   2023-04-04      108.0      392          1     31.68"
      ]
     },
     "execution_count": 30,
     "metadata": {},
     "output_type": "execute_result"
    }
   ],
   "source": [
    "df.head(1)"
   ]
  }
 ],
 "metadata": {
  "kernelspec": {
   "display_name": "Python 3 (ipykernel)",
   "language": "python",
   "name": "python3"
  },
  "language_info": {
   "codemirror_mode": {
    "name": "ipython",
    "version": 3
   },
   "file_extension": ".py",
   "mimetype": "text/x-python",
   "name": "python",
   "nbconvert_exporter": "python",
   "pygments_lexer": "ipython3",
   "version": "3.7.15"
  }
 },
 "nbformat": 4,
 "nbformat_minor": 5
}
