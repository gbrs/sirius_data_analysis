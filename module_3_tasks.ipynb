{
 "cells": [
  {
   "cell_type": "markdown",
   "id": "8b5551e4",
   "metadata": {},
   "source": [
    "## Установка pandas"
   ]
  },
  {
   "cell_type": "code",
   "execution_count": 1,
   "id": "d45712c2",
   "metadata": {},
   "outputs": [],
   "source": [
    "### !pip3 install pandas"
   ]
  },
  {
   "cell_type": "code",
   "execution_count": 2,
   "id": "0f2bde54",
   "metadata": {},
   "outputs": [],
   "source": [
    "import pandas as pd"
   ]
  },
  {
   "cell_type": "markdown",
   "id": "bb177a51",
   "metadata": {},
   "source": [
    "## Чтение данных и фильтрация таблиц"
   ]
  },
  {
   "cell_type": "code",
   "execution_count": 26,
   "id": "ab84ff39",
   "metadata": {},
   "outputs": [],
   "source": [
    "user = pd.read_csv('user.csv', parse_dates=['birthday', 'last_visited'])"
   ]
  },
  {
   "cell_type": "code",
   "execution_count": 28,
   "id": "2084bc77-a620-4db7-b380-0c7e44f7eeb9",
   "metadata": {},
   "outputs": [
    {
     "data": {
      "text/html": [
       "<div>\n",
       "<style scoped>\n",
       "    .dataframe tbody tr th:only-of-type {\n",
       "        vertical-align: middle;\n",
       "    }\n",
       "\n",
       "    .dataframe tbody tr th {\n",
       "        vertical-align: top;\n",
       "    }\n",
       "\n",
       "    .dataframe thead th {\n",
       "        text-align: right;\n",
       "    }\n",
       "</style>\n",
       "<table border=\"1\" class=\"dataframe\">\n",
       "  <thead>\n",
       "    <tr style=\"text-align: right;\">\n",
       "      <th></th>\n",
       "      <th>id</th>\n",
       "      <th>gender</th>\n",
       "      <th>birthday</th>\n",
       "      <th>grade</th>\n",
       "      <th>region</th>\n",
       "      <th>last_visited</th>\n",
       "    </tr>\n",
       "  </thead>\n",
       "  <tbody>\n",
       "    <tr>\n",
       "      <th>0</th>\n",
       "      <td>1</td>\n",
       "      <td>М</td>\n",
       "      <td>2007-02-11</td>\n",
       "      <td>9.0</td>\n",
       "      <td>Город Санкт-Петербург</td>\n",
       "      <td>2023-08-23 03:04:14</td>\n",
       "    </tr>\n",
       "    <tr>\n",
       "      <th>1</th>\n",
       "      <td>2</td>\n",
       "      <td>Ж</td>\n",
       "      <td>2009-01-29</td>\n",
       "      <td>8.0</td>\n",
       "      <td>Город Москва</td>\n",
       "      <td>2023-07-09 09:21:35</td>\n",
       "    </tr>\n",
       "    <tr>\n",
       "      <th>2</th>\n",
       "      <td>3</td>\n",
       "      <td>М</td>\n",
       "      <td>2007-09-05</td>\n",
       "      <td>NaN</td>\n",
       "      <td>Город Санкт-Петербург</td>\n",
       "      <td>2023-08-23 18:32:18</td>\n",
       "    </tr>\n",
       "    <tr>\n",
       "      <th>3</th>\n",
       "      <td>4</td>\n",
       "      <td>Ж</td>\n",
       "      <td>2007-09-27</td>\n",
       "      <td>9.0</td>\n",
       "      <td>Город Москва</td>\n",
       "      <td>2023-08-18 07:34:11</td>\n",
       "    </tr>\n",
       "    <tr>\n",
       "      <th>4</th>\n",
       "      <td>5</td>\n",
       "      <td>Ж</td>\n",
       "      <td>2007-04-08</td>\n",
       "      <td>NaN</td>\n",
       "      <td>Город Москва</td>\n",
       "      <td>2023-02-09 18:31:30</td>\n",
       "    </tr>\n",
       "  </tbody>\n",
       "</table>\n",
       "</div>"
      ],
      "text/plain": [
       "   id gender   birthday  grade                 region        last_visited\n",
       "0   1      М 2007-02-11    9.0  Город Санкт-Петербург 2023-08-23 03:04:14\n",
       "1   2      Ж 2009-01-29    8.0           Город Москва 2023-07-09 09:21:35\n",
       "2   3      М 2007-09-05    NaN  Город Санкт-Петербург 2023-08-23 18:32:18\n",
       "3   4      Ж 2007-09-27    9.0           Город Москва 2023-08-18 07:34:11\n",
       "4   5      Ж 2007-04-08    NaN           Город Москва 2023-02-09 18:31:30"
      ]
     },
     "execution_count": 28,
     "metadata": {},
     "output_type": "execute_result"
    }
   ],
   "source": [
    "user.head()"
   ]
  },
  {
   "cell_type": "code",
   "execution_count": 27,
   "id": "ef15cda2-29d9-4be8-a317-b68082243d19",
   "metadata": {},
   "outputs": [
    {
     "name": "stdout",
     "output_type": "stream",
     "text": [
      "<class 'pandas.core.frame.DataFrame'>\n",
      "RangeIndex: 1000 entries, 0 to 999\n",
      "Data columns (total 6 columns):\n",
      " #   Column        Non-Null Count  Dtype         \n",
      "---  ------        --------------  -----         \n",
      " 0   id            1000 non-null   int64         \n",
      " 1   gender        1000 non-null   object        \n",
      " 2   birthday      1000 non-null   datetime64[ns]\n",
      " 3   grade         831 non-null    float64       \n",
      " 4   region        1000 non-null   object        \n",
      " 5   last_visited  1000 non-null   datetime64[ns]\n",
      "dtypes: datetime64[ns](2), float64(1), int64(1), object(2)\n",
      "memory usage: 47.0+ KB\n"
     ]
    }
   ],
   "source": [
    "user.info()"
   ]
  },
  {
   "cell_type": "code",
   "execution_count": null,
   "id": "8deacbfb-cd2b-417e-9b81-406f81b421e4",
   "metadata": {},
   "outputs": [],
   "source": []
  },
  {
   "cell_type": "markdown",
   "id": "b5539d87",
   "metadata": {},
   "source": [
    "### Задание 1"
   ]
  },
  {
   "cell_type": "markdown",
   "id": "ae00c5b8",
   "metadata": {},
   "source": [
    "Сколько в таблице `user` представлено учеников, родившихся в сентябре?"
   ]
  },
  {
   "cell_type": "markdown",
   "id": "0fc16194-bea6-43fd-9989-127016652f9f",
   "metadata": {},
   "source": [
    "## НЕВЕРНО!!!"
   ]
  },
  {
   "cell_type": "code",
   "execution_count": 73,
   "id": "a9eb3869-dec3-44ee-a0b5-cdedccbd4d6e",
   "metadata": {
    "tags": []
   },
   "outputs": [
    {
     "data": {
      "text/plain": [
       "80"
      ]
     },
     "execution_count": 73,
     "metadata": {},
     "output_type": "execute_result"
    }
   ],
   "source": [
    "(user.birthday.dt.month == 9).sum()"
   ]
  },
  {
   "cell_type": "code",
   "execution_count": null,
   "id": "a836d47c-f38e-4d90-ae1f-f782b256f475",
   "metadata": {},
   "outputs": [],
   "source": []
  },
  {
   "cell_type": "markdown",
   "id": "0f328db0",
   "metadata": {},
   "source": [
    "### Задание 2"
   ]
  },
  {
   "cell_type": "markdown",
   "id": "b5c4a9d8",
   "metadata": {},
   "source": [
    "Какое количество учеников в последний раз посещали платформу в первые $14$ дней сентября?"
   ]
  },
  {
   "cell_type": "markdown",
   "id": "99dc89ce-0824-495d-b0b2-42f0230e112b",
   "metadata": {},
   "source": [
    "## НЕВЕРНО!!!"
   ]
  },
  {
   "cell_type": "code",
   "execution_count": 74,
   "id": "03157ade-280d-4b27-b3d4-7d7370b0521b",
   "metadata": {},
   "outputs": [
    {
     "data": {
      "text/plain": [
       "29"
      ]
     },
     "execution_count": 74,
     "metadata": {},
     "output_type": "execute_result"
    }
   ],
   "source": [
    "((user.last_visited.dt.month == 9) & (user.last_visited.dt.day.between(1, 14))).sum()"
   ]
  },
  {
   "cell_type": "code",
   "execution_count": 60,
   "id": "cf316704-b5f4-403c-9235-20cf8fc229ad",
   "metadata": {},
   "outputs": [
    {
     "data": {
      "text/html": [
       "<div>\n",
       "<style scoped>\n",
       "    .dataframe tbody tr th:only-of-type {\n",
       "        vertical-align: middle;\n",
       "    }\n",
       "\n",
       "    .dataframe tbody tr th {\n",
       "        vertical-align: top;\n",
       "    }\n",
       "\n",
       "    .dataframe thead th {\n",
       "        text-align: right;\n",
       "    }\n",
       "</style>\n",
       "<table border=\"1\" class=\"dataframe\">\n",
       "  <thead>\n",
       "    <tr style=\"text-align: right;\">\n",
       "      <th></th>\n",
       "      <th>id</th>\n",
       "      <th>gender</th>\n",
       "      <th>birthday</th>\n",
       "      <th>grade</th>\n",
       "      <th>region</th>\n",
       "      <th>last_visited</th>\n",
       "    </tr>\n",
       "  </thead>\n",
       "  <tbody>\n",
       "    <tr>\n",
       "      <th>47</th>\n",
       "      <td>48</td>\n",
       "      <td>Ж</td>\n",
       "      <td>2007-03-08</td>\n",
       "      <td>NaN</td>\n",
       "      <td>Новосибирская область</td>\n",
       "      <td>2023-09-09 06:29:41</td>\n",
       "    </tr>\n",
       "    <tr>\n",
       "      <th>74</th>\n",
       "      <td>75</td>\n",
       "      <td>М</td>\n",
       "      <td>2009-05-02</td>\n",
       "      <td>8.0</td>\n",
       "      <td>Город Москва</td>\n",
       "      <td>2023-09-09 07:34:33</td>\n",
       "    </tr>\n",
       "    <tr>\n",
       "      <th>92</th>\n",
       "      <td>93</td>\n",
       "      <td>М</td>\n",
       "      <td>2010-01-15</td>\n",
       "      <td>7.0</td>\n",
       "      <td>Город Москва</td>\n",
       "      <td>2023-09-09 18:14:03</td>\n",
       "    </tr>\n",
       "    <tr>\n",
       "      <th>117</th>\n",
       "      <td>118</td>\n",
       "      <td>Ж</td>\n",
       "      <td>2007-09-14</td>\n",
       "      <td>NaN</td>\n",
       "      <td>Город Санкт-Петербург</td>\n",
       "      <td>2023-09-09 17:27:50</td>\n",
       "    </tr>\n",
       "    <tr>\n",
       "      <th>120</th>\n",
       "      <td>121</td>\n",
       "      <td>М</td>\n",
       "      <td>2008-11-06</td>\n",
       "      <td>9.0</td>\n",
       "      <td>Город Санкт-Петербург</td>\n",
       "      <td>2023-09-09 10:02:10</td>\n",
       "    </tr>\n",
       "    <tr>\n",
       "      <th>128</th>\n",
       "      <td>129</td>\n",
       "      <td>М</td>\n",
       "      <td>2010-01-31</td>\n",
       "      <td>7.0</td>\n",
       "      <td>Город Москва</td>\n",
       "      <td>2023-09-09 15:09:37</td>\n",
       "    </tr>\n",
       "    <tr>\n",
       "      <th>131</th>\n",
       "      <td>132</td>\n",
       "      <td>М</td>\n",
       "      <td>2008-07-22</td>\n",
       "      <td>9.0</td>\n",
       "      <td>Новосибирская область</td>\n",
       "      <td>2023-09-09 16:41:39</td>\n",
       "    </tr>\n",
       "    <tr>\n",
       "      <th>205</th>\n",
       "      <td>206</td>\n",
       "      <td>Ж</td>\n",
       "      <td>2008-11-24</td>\n",
       "      <td>8.0</td>\n",
       "      <td>Нижегородская область</td>\n",
       "      <td>2023-09-09 03:13:05</td>\n",
       "    </tr>\n",
       "    <tr>\n",
       "      <th>232</th>\n",
       "      <td>233</td>\n",
       "      <td>М</td>\n",
       "      <td>2009-04-18</td>\n",
       "      <td>8.0</td>\n",
       "      <td>Город Москва</td>\n",
       "      <td>2023-09-09 03:01:12</td>\n",
       "    </tr>\n",
       "    <tr>\n",
       "      <th>279</th>\n",
       "      <td>280</td>\n",
       "      <td>М</td>\n",
       "      <td>2010-01-08</td>\n",
       "      <td>7.0</td>\n",
       "      <td>Город Санкт-Петербург</td>\n",
       "      <td>2023-09-09 13:04:01</td>\n",
       "    </tr>\n",
       "    <tr>\n",
       "      <th>299</th>\n",
       "      <td>300</td>\n",
       "      <td>Ж</td>\n",
       "      <td>2008-07-10</td>\n",
       "      <td>8.0</td>\n",
       "      <td>Город Москва</td>\n",
       "      <td>2023-09-09 14:48:03</td>\n",
       "    </tr>\n",
       "    <tr>\n",
       "      <th>337</th>\n",
       "      <td>338</td>\n",
       "      <td>М</td>\n",
       "      <td>2007-02-14</td>\n",
       "      <td>NaN</td>\n",
       "      <td>Город Санкт-Петербург</td>\n",
       "      <td>2023-09-09 02:59:01</td>\n",
       "    </tr>\n",
       "    <tr>\n",
       "      <th>384</th>\n",
       "      <td>385</td>\n",
       "      <td>Ж</td>\n",
       "      <td>2008-11-10</td>\n",
       "      <td>8.0</td>\n",
       "      <td>Город Санкт-Петербург</td>\n",
       "      <td>2023-09-09 10:00:21</td>\n",
       "    </tr>\n",
       "    <tr>\n",
       "      <th>388</th>\n",
       "      <td>389</td>\n",
       "      <td>Ж</td>\n",
       "      <td>2009-08-19</td>\n",
       "      <td>NaN</td>\n",
       "      <td>Город Москва</td>\n",
       "      <td>2023-09-09 13:25:48</td>\n",
       "    </tr>\n",
       "    <tr>\n",
       "      <th>397</th>\n",
       "      <td>398</td>\n",
       "      <td>М</td>\n",
       "      <td>2010-05-24</td>\n",
       "      <td>NaN</td>\n",
       "      <td>Город Санкт-Петербург</td>\n",
       "      <td>2023-09-09 12:40:01</td>\n",
       "    </tr>\n",
       "    <tr>\n",
       "      <th>411</th>\n",
       "      <td>412</td>\n",
       "      <td>Ж</td>\n",
       "      <td>2008-12-21</td>\n",
       "      <td>NaN</td>\n",
       "      <td>Город Санкт-Петербург</td>\n",
       "      <td>2023-09-09 18:56:59</td>\n",
       "    </tr>\n",
       "    <tr>\n",
       "      <th>423</th>\n",
       "      <td>424</td>\n",
       "      <td>М</td>\n",
       "      <td>2008-05-10</td>\n",
       "      <td>8.0</td>\n",
       "      <td>Город Санкт-Петербург</td>\n",
       "      <td>2023-09-09 00:34:44</td>\n",
       "    </tr>\n",
       "    <tr>\n",
       "      <th>434</th>\n",
       "      <td>435</td>\n",
       "      <td>М</td>\n",
       "      <td>2009-06-24</td>\n",
       "      <td>NaN</td>\n",
       "      <td>Город Москва</td>\n",
       "      <td>2023-09-09 22:08:06</td>\n",
       "    </tr>\n",
       "    <tr>\n",
       "      <th>519</th>\n",
       "      <td>520</td>\n",
       "      <td>Ж</td>\n",
       "      <td>2009-01-08</td>\n",
       "      <td>NaN</td>\n",
       "      <td>Город Санкт-Петербург</td>\n",
       "      <td>2023-09-09 09:25:37</td>\n",
       "    </tr>\n",
       "    <tr>\n",
       "      <th>532</th>\n",
       "      <td>533</td>\n",
       "      <td>Ж</td>\n",
       "      <td>2010-01-06</td>\n",
       "      <td>7.0</td>\n",
       "      <td>Город Москва</td>\n",
       "      <td>2023-09-09 14:51:03</td>\n",
       "    </tr>\n",
       "    <tr>\n",
       "      <th>561</th>\n",
       "      <td>562</td>\n",
       "      <td>Ж</td>\n",
       "      <td>2007-11-10</td>\n",
       "      <td>9.0</td>\n",
       "      <td>Город Москва</td>\n",
       "      <td>2023-09-09 21:22:47</td>\n",
       "    </tr>\n",
       "    <tr>\n",
       "      <th>570</th>\n",
       "      <td>571</td>\n",
       "      <td>М</td>\n",
       "      <td>2006-05-11</td>\n",
       "      <td>10.0</td>\n",
       "      <td>Новосибирская область</td>\n",
       "      <td>2023-09-09 21:23:00</td>\n",
       "    </tr>\n",
       "    <tr>\n",
       "      <th>806</th>\n",
       "      <td>807</td>\n",
       "      <td>М</td>\n",
       "      <td>2009-11-10</td>\n",
       "      <td>7.0</td>\n",
       "      <td>Город Санкт-Петербург</td>\n",
       "      <td>2023-09-09 10:42:54</td>\n",
       "    </tr>\n",
       "    <tr>\n",
       "      <th>824</th>\n",
       "      <td>825</td>\n",
       "      <td>Ж</td>\n",
       "      <td>2008-02-03</td>\n",
       "      <td>9.0</td>\n",
       "      <td>Город Москва</td>\n",
       "      <td>2023-09-09 15:17:26</td>\n",
       "    </tr>\n",
       "    <tr>\n",
       "      <th>832</th>\n",
       "      <td>833</td>\n",
       "      <td>Ж</td>\n",
       "      <td>2009-05-30</td>\n",
       "      <td>8.0</td>\n",
       "      <td>Город Москва</td>\n",
       "      <td>2023-09-09 04:43:28</td>\n",
       "    </tr>\n",
       "    <tr>\n",
       "      <th>868</th>\n",
       "      <td>869</td>\n",
       "      <td>М</td>\n",
       "      <td>2007-01-04</td>\n",
       "      <td>10.0</td>\n",
       "      <td>Город Санкт-Петербург</td>\n",
       "      <td>2023-09-09 18:35:47</td>\n",
       "    </tr>\n",
       "    <tr>\n",
       "      <th>876</th>\n",
       "      <td>877</td>\n",
       "      <td>Ж</td>\n",
       "      <td>2009-12-30</td>\n",
       "      <td>NaN</td>\n",
       "      <td>Краснодарский край</td>\n",
       "      <td>2023-09-09 15:22:05</td>\n",
       "    </tr>\n",
       "    <tr>\n",
       "      <th>877</th>\n",
       "      <td>878</td>\n",
       "      <td>М</td>\n",
       "      <td>2010-01-05</td>\n",
       "      <td>7.0</td>\n",
       "      <td>Город Санкт-Петербург</td>\n",
       "      <td>2023-09-09 10:06:55</td>\n",
       "    </tr>\n",
       "    <tr>\n",
       "      <th>982</th>\n",
       "      <td>983</td>\n",
       "      <td>Ж</td>\n",
       "      <td>2007-12-02</td>\n",
       "      <td>10.0</td>\n",
       "      <td>Город Санкт-Петербург</td>\n",
       "      <td>2023-09-09 03:38:37</td>\n",
       "    </tr>\n",
       "  </tbody>\n",
       "</table>\n",
       "</div>"
      ],
      "text/plain": [
       "      id gender   birthday  grade                 region        last_visited\n",
       "47    48      Ж 2007-03-08    NaN  Новосибирская область 2023-09-09 06:29:41\n",
       "74    75      М 2009-05-02    8.0           Город Москва 2023-09-09 07:34:33\n",
       "92    93      М 2010-01-15    7.0           Город Москва 2023-09-09 18:14:03\n",
       "117  118      Ж 2007-09-14    NaN  Город Санкт-Петербург 2023-09-09 17:27:50\n",
       "120  121      М 2008-11-06    9.0  Город Санкт-Петербург 2023-09-09 10:02:10\n",
       "128  129      М 2010-01-31    7.0           Город Москва 2023-09-09 15:09:37\n",
       "131  132      М 2008-07-22    9.0  Новосибирская область 2023-09-09 16:41:39\n",
       "205  206      Ж 2008-11-24    8.0  Нижегородская область 2023-09-09 03:13:05\n",
       "232  233      М 2009-04-18    8.0           Город Москва 2023-09-09 03:01:12\n",
       "279  280      М 2010-01-08    7.0  Город Санкт-Петербург 2023-09-09 13:04:01\n",
       "299  300      Ж 2008-07-10    8.0           Город Москва 2023-09-09 14:48:03\n",
       "337  338      М 2007-02-14    NaN  Город Санкт-Петербург 2023-09-09 02:59:01\n",
       "384  385      Ж 2008-11-10    8.0  Город Санкт-Петербург 2023-09-09 10:00:21\n",
       "388  389      Ж 2009-08-19    NaN           Город Москва 2023-09-09 13:25:48\n",
       "397  398      М 2010-05-24    NaN  Город Санкт-Петербург 2023-09-09 12:40:01\n",
       "411  412      Ж 2008-12-21    NaN  Город Санкт-Петербург 2023-09-09 18:56:59\n",
       "423  424      М 2008-05-10    8.0  Город Санкт-Петербург 2023-09-09 00:34:44\n",
       "434  435      М 2009-06-24    NaN           Город Москва 2023-09-09 22:08:06\n",
       "519  520      Ж 2009-01-08    NaN  Город Санкт-Петербург 2023-09-09 09:25:37\n",
       "532  533      Ж 2010-01-06    7.0           Город Москва 2023-09-09 14:51:03\n",
       "561  562      Ж 2007-11-10    9.0           Город Москва 2023-09-09 21:22:47\n",
       "570  571      М 2006-05-11   10.0  Новосибирская область 2023-09-09 21:23:00\n",
       "806  807      М 2009-11-10    7.0  Город Санкт-Петербург 2023-09-09 10:42:54\n",
       "824  825      Ж 2008-02-03    9.0           Город Москва 2023-09-09 15:17:26\n",
       "832  833      Ж 2009-05-30    8.0           Город Москва 2023-09-09 04:43:28\n",
       "868  869      М 2007-01-04   10.0  Город Санкт-Петербург 2023-09-09 18:35:47\n",
       "876  877      Ж 2009-12-30    NaN     Краснодарский край 2023-09-09 15:22:05\n",
       "877  878      М 2010-01-05    7.0  Город Санкт-Петербург 2023-09-09 10:06:55\n",
       "982  983      Ж 2007-12-02   10.0  Город Санкт-Петербург 2023-09-09 03:38:37"
      ]
     },
     "execution_count": 60,
     "metadata": {},
     "output_type": "execute_result"
    }
   ],
   "source": [
    "user[(user.last_visited.dt.month == 9) & (user.last_visited.dt.day.between(1, 14))]"
   ]
  },
  {
   "cell_type": "code",
   "execution_count": 70,
   "id": "dce686c0-3057-44f4-9706-91312ceca40d",
   "metadata": {},
   "outputs": [
    {
     "data": {
      "text/html": [
       "<div>\n",
       "<style scoped>\n",
       "    .dataframe tbody tr th:only-of-type {\n",
       "        vertical-align: middle;\n",
       "    }\n",
       "\n",
       "    .dataframe tbody tr th {\n",
       "        vertical-align: top;\n",
       "    }\n",
       "\n",
       "    .dataframe thead th {\n",
       "        text-align: right;\n",
       "    }\n",
       "</style>\n",
       "<table border=\"1\" class=\"dataframe\">\n",
       "  <thead>\n",
       "    <tr style=\"text-align: right;\">\n",
       "      <th></th>\n",
       "      <th>id</th>\n",
       "      <th>gender</th>\n",
       "      <th>birthday</th>\n",
       "      <th>grade</th>\n",
       "      <th>region</th>\n",
       "      <th>last_visited</th>\n",
       "    </tr>\n",
       "  </thead>\n",
       "  <tbody>\n",
       "    <tr>\n",
       "      <th>36</th>\n",
       "      <td>37</td>\n",
       "      <td>Ж</td>\n",
       "      <td>2008-04-10</td>\n",
       "      <td>NaN</td>\n",
       "      <td>Нижегородская область</td>\n",
       "      <td>2023-10-09 02:28:13</td>\n",
       "    </tr>\n",
       "    <tr>\n",
       "      <th>434</th>\n",
       "      <td>435</td>\n",
       "      <td>М</td>\n",
       "      <td>2009-06-24</td>\n",
       "      <td>NaN</td>\n",
       "      <td>Город Москва</td>\n",
       "      <td>2023-09-09 22:08:06</td>\n",
       "    </tr>\n",
       "    <tr>\n",
       "      <th>570</th>\n",
       "      <td>571</td>\n",
       "      <td>М</td>\n",
       "      <td>2006-05-11</td>\n",
       "      <td>10.0</td>\n",
       "      <td>Новосибирская область</td>\n",
       "      <td>2023-09-09 21:23:00</td>\n",
       "    </tr>\n",
       "    <tr>\n",
       "      <th>561</th>\n",
       "      <td>562</td>\n",
       "      <td>Ж</td>\n",
       "      <td>2007-11-10</td>\n",
       "      <td>9.0</td>\n",
       "      <td>Город Москва</td>\n",
       "      <td>2023-09-09 21:22:47</td>\n",
       "    </tr>\n",
       "    <tr>\n",
       "      <th>411</th>\n",
       "      <td>412</td>\n",
       "      <td>Ж</td>\n",
       "      <td>2008-12-21</td>\n",
       "      <td>NaN</td>\n",
       "      <td>Город Санкт-Петербург</td>\n",
       "      <td>2023-09-09 18:56:59</td>\n",
       "    </tr>\n",
       "    <tr>\n",
       "      <th>868</th>\n",
       "      <td>869</td>\n",
       "      <td>М</td>\n",
       "      <td>2007-01-04</td>\n",
       "      <td>10.0</td>\n",
       "      <td>Город Санкт-Петербург</td>\n",
       "      <td>2023-09-09 18:35:47</td>\n",
       "    </tr>\n",
       "    <tr>\n",
       "      <th>92</th>\n",
       "      <td>93</td>\n",
       "      <td>М</td>\n",
       "      <td>2010-01-15</td>\n",
       "      <td>7.0</td>\n",
       "      <td>Город Москва</td>\n",
       "      <td>2023-09-09 18:14:03</td>\n",
       "    </tr>\n",
       "    <tr>\n",
       "      <th>117</th>\n",
       "      <td>118</td>\n",
       "      <td>Ж</td>\n",
       "      <td>2007-09-14</td>\n",
       "      <td>NaN</td>\n",
       "      <td>Город Санкт-Петербург</td>\n",
       "      <td>2023-09-09 17:27:50</td>\n",
       "    </tr>\n",
       "    <tr>\n",
       "      <th>131</th>\n",
       "      <td>132</td>\n",
       "      <td>М</td>\n",
       "      <td>2008-07-22</td>\n",
       "      <td>9.0</td>\n",
       "      <td>Новосибирская область</td>\n",
       "      <td>2023-09-09 16:41:39</td>\n",
       "    </tr>\n",
       "    <tr>\n",
       "      <th>876</th>\n",
       "      <td>877</td>\n",
       "      <td>Ж</td>\n",
       "      <td>2009-12-30</td>\n",
       "      <td>NaN</td>\n",
       "      <td>Краснодарский край</td>\n",
       "      <td>2023-09-09 15:22:05</td>\n",
       "    </tr>\n",
       "    <tr>\n",
       "      <th>824</th>\n",
       "      <td>825</td>\n",
       "      <td>Ж</td>\n",
       "      <td>2008-02-03</td>\n",
       "      <td>9.0</td>\n",
       "      <td>Город Москва</td>\n",
       "      <td>2023-09-09 15:17:26</td>\n",
       "    </tr>\n",
       "    <tr>\n",
       "      <th>128</th>\n",
       "      <td>129</td>\n",
       "      <td>М</td>\n",
       "      <td>2010-01-31</td>\n",
       "      <td>7.0</td>\n",
       "      <td>Город Москва</td>\n",
       "      <td>2023-09-09 15:09:37</td>\n",
       "    </tr>\n",
       "    <tr>\n",
       "      <th>532</th>\n",
       "      <td>533</td>\n",
       "      <td>Ж</td>\n",
       "      <td>2010-01-06</td>\n",
       "      <td>7.0</td>\n",
       "      <td>Город Москва</td>\n",
       "      <td>2023-09-09 14:51:03</td>\n",
       "    </tr>\n",
       "    <tr>\n",
       "      <th>299</th>\n",
       "      <td>300</td>\n",
       "      <td>Ж</td>\n",
       "      <td>2008-07-10</td>\n",
       "      <td>8.0</td>\n",
       "      <td>Город Москва</td>\n",
       "      <td>2023-09-09 14:48:03</td>\n",
       "    </tr>\n",
       "    <tr>\n",
       "      <th>388</th>\n",
       "      <td>389</td>\n",
       "      <td>Ж</td>\n",
       "      <td>2009-08-19</td>\n",
       "      <td>NaN</td>\n",
       "      <td>Город Москва</td>\n",
       "      <td>2023-09-09 13:25:48</td>\n",
       "    </tr>\n",
       "    <tr>\n",
       "      <th>279</th>\n",
       "      <td>280</td>\n",
       "      <td>М</td>\n",
       "      <td>2010-01-08</td>\n",
       "      <td>7.0</td>\n",
       "      <td>Город Санкт-Петербург</td>\n",
       "      <td>2023-09-09 13:04:01</td>\n",
       "    </tr>\n",
       "    <tr>\n",
       "      <th>397</th>\n",
       "      <td>398</td>\n",
       "      <td>М</td>\n",
       "      <td>2010-05-24</td>\n",
       "      <td>NaN</td>\n",
       "      <td>Город Санкт-Петербург</td>\n",
       "      <td>2023-09-09 12:40:01</td>\n",
       "    </tr>\n",
       "    <tr>\n",
       "      <th>806</th>\n",
       "      <td>807</td>\n",
       "      <td>М</td>\n",
       "      <td>2009-11-10</td>\n",
       "      <td>7.0</td>\n",
       "      <td>Город Санкт-Петербург</td>\n",
       "      <td>2023-09-09 10:42:54</td>\n",
       "    </tr>\n",
       "    <tr>\n",
       "      <th>877</th>\n",
       "      <td>878</td>\n",
       "      <td>М</td>\n",
       "      <td>2010-01-05</td>\n",
       "      <td>7.0</td>\n",
       "      <td>Город Санкт-Петербург</td>\n",
       "      <td>2023-09-09 10:06:55</td>\n",
       "    </tr>\n",
       "    <tr>\n",
       "      <th>120</th>\n",
       "      <td>121</td>\n",
       "      <td>М</td>\n",
       "      <td>2008-11-06</td>\n",
       "      <td>9.0</td>\n",
       "      <td>Город Санкт-Петербург</td>\n",
       "      <td>2023-09-09 10:02:10</td>\n",
       "    </tr>\n",
       "    <tr>\n",
       "      <th>384</th>\n",
       "      <td>385</td>\n",
       "      <td>Ж</td>\n",
       "      <td>2008-11-10</td>\n",
       "      <td>8.0</td>\n",
       "      <td>Город Санкт-Петербург</td>\n",
       "      <td>2023-09-09 10:00:21</td>\n",
       "    </tr>\n",
       "    <tr>\n",
       "      <th>519</th>\n",
       "      <td>520</td>\n",
       "      <td>Ж</td>\n",
       "      <td>2009-01-08</td>\n",
       "      <td>NaN</td>\n",
       "      <td>Город Санкт-Петербург</td>\n",
       "      <td>2023-09-09 09:25:37</td>\n",
       "    </tr>\n",
       "    <tr>\n",
       "      <th>74</th>\n",
       "      <td>75</td>\n",
       "      <td>М</td>\n",
       "      <td>2009-05-02</td>\n",
       "      <td>8.0</td>\n",
       "      <td>Город Москва</td>\n",
       "      <td>2023-09-09 07:34:33</td>\n",
       "    </tr>\n",
       "    <tr>\n",
       "      <th>47</th>\n",
       "      <td>48</td>\n",
       "      <td>Ж</td>\n",
       "      <td>2007-03-08</td>\n",
       "      <td>NaN</td>\n",
       "      <td>Новосибирская область</td>\n",
       "      <td>2023-09-09 06:29:41</td>\n",
       "    </tr>\n",
       "    <tr>\n",
       "      <th>832</th>\n",
       "      <td>833</td>\n",
       "      <td>Ж</td>\n",
       "      <td>2009-05-30</td>\n",
       "      <td>8.0</td>\n",
       "      <td>Город Москва</td>\n",
       "      <td>2023-09-09 04:43:28</td>\n",
       "    </tr>\n",
       "    <tr>\n",
       "      <th>982</th>\n",
       "      <td>983</td>\n",
       "      <td>Ж</td>\n",
       "      <td>2007-12-02</td>\n",
       "      <td>10.0</td>\n",
       "      <td>Город Санкт-Петербург</td>\n",
       "      <td>2023-09-09 03:38:37</td>\n",
       "    </tr>\n",
       "    <tr>\n",
       "      <th>205</th>\n",
       "      <td>206</td>\n",
       "      <td>Ж</td>\n",
       "      <td>2008-11-24</td>\n",
       "      <td>8.0</td>\n",
       "      <td>Нижегородская область</td>\n",
       "      <td>2023-09-09 03:13:05</td>\n",
       "    </tr>\n",
       "    <tr>\n",
       "      <th>232</th>\n",
       "      <td>233</td>\n",
       "      <td>М</td>\n",
       "      <td>2009-04-18</td>\n",
       "      <td>8.0</td>\n",
       "      <td>Город Москва</td>\n",
       "      <td>2023-09-09 03:01:12</td>\n",
       "    </tr>\n",
       "    <tr>\n",
       "      <th>337</th>\n",
       "      <td>338</td>\n",
       "      <td>М</td>\n",
       "      <td>2007-02-14</td>\n",
       "      <td>NaN</td>\n",
       "      <td>Город Санкт-Петербург</td>\n",
       "      <td>2023-09-09 02:59:01</td>\n",
       "    </tr>\n",
       "    <tr>\n",
       "      <th>423</th>\n",
       "      <td>424</td>\n",
       "      <td>М</td>\n",
       "      <td>2008-05-10</td>\n",
       "      <td>8.0</td>\n",
       "      <td>Город Санкт-Петербург</td>\n",
       "      <td>2023-09-09 00:34:44</td>\n",
       "    </tr>\n",
       "    <tr>\n",
       "      <th>419</th>\n",
       "      <td>420</td>\n",
       "      <td>М</td>\n",
       "      <td>2009-02-28</td>\n",
       "      <td>8.0</td>\n",
       "      <td>Нижегородская область</td>\n",
       "      <td>2023-08-31 23:43:11</td>\n",
       "    </tr>\n",
       "  </tbody>\n",
       "</table>\n",
       "</div>"
      ],
      "text/plain": [
       "      id gender   birthday  grade                 region        last_visited\n",
       "36    37      Ж 2008-04-10    NaN  Нижегородская область 2023-10-09 02:28:13\n",
       "434  435      М 2009-06-24    NaN           Город Москва 2023-09-09 22:08:06\n",
       "570  571      М 2006-05-11   10.0  Новосибирская область 2023-09-09 21:23:00\n",
       "561  562      Ж 2007-11-10    9.0           Город Москва 2023-09-09 21:22:47\n",
       "411  412      Ж 2008-12-21    NaN  Город Санкт-Петербург 2023-09-09 18:56:59\n",
       "868  869      М 2007-01-04   10.0  Город Санкт-Петербург 2023-09-09 18:35:47\n",
       "92    93      М 2010-01-15    7.0           Город Москва 2023-09-09 18:14:03\n",
       "117  118      Ж 2007-09-14    NaN  Город Санкт-Петербург 2023-09-09 17:27:50\n",
       "131  132      М 2008-07-22    9.0  Новосибирская область 2023-09-09 16:41:39\n",
       "876  877      Ж 2009-12-30    NaN     Краснодарский край 2023-09-09 15:22:05\n",
       "824  825      Ж 2008-02-03    9.0           Город Москва 2023-09-09 15:17:26\n",
       "128  129      М 2010-01-31    7.0           Город Москва 2023-09-09 15:09:37\n",
       "532  533      Ж 2010-01-06    7.0           Город Москва 2023-09-09 14:51:03\n",
       "299  300      Ж 2008-07-10    8.0           Город Москва 2023-09-09 14:48:03\n",
       "388  389      Ж 2009-08-19    NaN           Город Москва 2023-09-09 13:25:48\n",
       "279  280      М 2010-01-08    7.0  Город Санкт-Петербург 2023-09-09 13:04:01\n",
       "397  398      М 2010-05-24    NaN  Город Санкт-Петербург 2023-09-09 12:40:01\n",
       "806  807      М 2009-11-10    7.0  Город Санкт-Петербург 2023-09-09 10:42:54\n",
       "877  878      М 2010-01-05    7.0  Город Санкт-Петербург 2023-09-09 10:06:55\n",
       "120  121      М 2008-11-06    9.0  Город Санкт-Петербург 2023-09-09 10:02:10\n",
       "384  385      Ж 2008-11-10    8.0  Город Санкт-Петербург 2023-09-09 10:00:21\n",
       "519  520      Ж 2009-01-08    NaN  Город Санкт-Петербург 2023-09-09 09:25:37\n",
       "74    75      М 2009-05-02    8.0           Город Москва 2023-09-09 07:34:33\n",
       "47    48      Ж 2007-03-08    NaN  Новосибирская область 2023-09-09 06:29:41\n",
       "832  833      Ж 2009-05-30    8.0           Город Москва 2023-09-09 04:43:28\n",
       "982  983      Ж 2007-12-02   10.0  Город Санкт-Петербург 2023-09-09 03:38:37\n",
       "205  206      Ж 2008-11-24    8.0  Нижегородская область 2023-09-09 03:13:05\n",
       "232  233      М 2009-04-18    8.0           Город Москва 2023-09-09 03:01:12\n",
       "337  338      М 2007-02-14    NaN  Город Санкт-Петербург 2023-09-09 02:59:01\n",
       "423  424      М 2008-05-10    8.0  Город Санкт-Петербург 2023-09-09 00:34:44\n",
       "419  420      М 2009-02-28    8.0  Нижегородская область 2023-08-31 23:43:11"
      ]
     },
     "execution_count": 70,
     "metadata": {},
     "output_type": "execute_result"
    }
   ],
   "source": [
    "user.sort_values('last_visited', ascending=False)[83:114]"
   ]
  },
  {
   "cell_type": "code",
   "execution_count": 77,
   "id": "e0c45de1-0d03-4309-ac21-eab8c47a6590",
   "metadata": {},
   "outputs": [
    {
     "data": {
      "text/plain": [
       "array([datetime.date(2023, 8, 23), datetime.date(2023, 7, 9),\n",
       "       datetime.date(2023, 8, 18), datetime.date(2023, 2, 9),\n",
       "       datetime.date(2023, 3, 9), datetime.date(2023, 8, 22),\n",
       "       datetime.date(2023, 8, 21), datetime.date(2023, 5, 9),\n",
       "       datetime.date(2023, 10, 9), datetime.date(2023, 8, 9),\n",
       "       datetime.date(2023, 4, 9), datetime.date(2023, 11, 9),\n",
       "       datetime.date(2023, 8, 31), datetime.date(2023, 8, 20),\n",
       "       datetime.date(2023, 8, 16), datetime.date(2023, 12, 9),\n",
       "       datetime.date(2023, 8, 14), datetime.date(2023, 1, 9),\n",
       "       datetime.date(2023, 8, 28), datetime.date(2023, 8, 29),\n",
       "       datetime.date(2023, 8, 25), datetime.date(2023, 6, 9),\n",
       "       datetime.date(2023, 8, 30), datetime.date(2023, 8, 26),\n",
       "       datetime.date(2023, 8, 17), datetime.date(2023, 9, 9),\n",
       "       datetime.date(2023, 8, 15), datetime.date(2023, 8, 24),\n",
       "       datetime.date(2023, 8, 19), datetime.date(2023, 8, 27),\n",
       "       datetime.date(2023, 8, 13)], dtype=object)"
      ]
     },
     "execution_count": 77,
     "metadata": {},
     "output_type": "execute_result"
    }
   ],
   "source": [
    "user.last_visited.dt.date.unique()"
   ]
  },
  {
   "cell_type": "code",
   "execution_count": null,
   "id": "e8870629-0096-4191-919c-8763ad2aaed1",
   "metadata": {},
   "outputs": [],
   "source": []
  },
  {
   "cell_type": "markdown",
   "id": "624a946a",
   "metadata": {},
   "source": [
    "### Задание 3"
   ]
  },
  {
   "cell_type": "markdown",
   "id": "2cb7a2e7",
   "metadata": {},
   "source": [
    "На сколько в данных больше девятиклассников, чем девятиклассниц?"
   ]
  },
  {
   "cell_type": "code",
   "execution_count": 41,
   "id": "685ac6ec-b30c-4c57-b428-2830dc340b3f",
   "metadata": {},
   "outputs": [
    {
     "data": {
      "text/plain": [
       "5"
      ]
     },
     "execution_count": 41,
     "metadata": {},
     "output_type": "execute_result"
    }
   ],
   "source": [
    "((user.gender == 'М') & (user.grade == 9)).sum() - ((user.gender == 'Ж') & (user.grade == 9)).sum()"
   ]
  },
  {
   "cell_type": "code",
   "execution_count": null,
   "id": "03b49f70-22d1-4121-b9c4-8c20e0caec01",
   "metadata": {},
   "outputs": [],
   "source": []
  },
  {
   "cell_type": "markdown",
   "id": "1cf486a9",
   "metadata": {},
   "source": [
    "### Задание 4"
   ]
  },
  {
   "cell_type": "markdown",
   "id": "6eacddf0",
   "metadata": {},
   "source": [
    "Какой процент учеников, у которых указан класс, обучается в $9$-м классе?\n",
    "\n",
    "Ответ округлите до целых."
   ]
  },
  {
   "cell_type": "code",
   "execution_count": 45,
   "id": "d941d65a-8cf8-406c-8af0-a0f8340195b5",
   "metadata": {},
   "outputs": [
    {
     "data": {
      "text/plain": [
       "24.0"
      ]
     },
     "execution_count": 45,
     "metadata": {},
     "output_type": "execute_result"
    }
   ],
   "source": [
    "((user.grade == 9).sum() / user.grade.count() * 100).round()"
   ]
  },
  {
   "cell_type": "code",
   "execution_count": null,
   "id": "308e3f1f-e0a0-489a-9709-b5474bd15820",
   "metadata": {},
   "outputs": [],
   "source": []
  },
  {
   "cell_type": "markdown",
   "id": "07097adb",
   "metadata": {},
   "source": [
    "### Задание 5"
   ]
  },
  {
   "cell_type": "markdown",
   "id": "0906829a",
   "metadata": {},
   "source": [
    "Сколько в данных представлено учеников из регионов, в названиях которых в качестве подстроки содержится слово «город»?\n",
    "\n",
    "При расчёте статистики приведите названия регионов к строчному написанию."
   ]
  },
  {
   "cell_type": "code",
   "execution_count": 72,
   "id": "014e85fd-41a4-40ff-935e-5e5ffc49dcbf",
   "metadata": {},
   "outputs": [
    {
     "data": {
      "text/plain": [
       "765"
      ]
     },
     "execution_count": 72,
     "metadata": {},
     "output_type": "execute_result"
    }
   ],
   "source": [
    "user.region.str.lower().str.contains('город').sum()\n",
    "# user[(user.region.str.contains('город')) & (user.gender == 'М')].shape"
   ]
  },
  {
   "cell_type": "code",
   "execution_count": null,
   "id": "ae92faa3-8be5-40a5-bb23-a953180be71a",
   "metadata": {},
   "outputs": [],
   "source": []
  },
  {
   "cell_type": "markdown",
   "id": "eb7dddb6",
   "metadata": {},
   "source": [
    "## Группировка, агрегация и соединение таблиц"
   ]
  },
  {
   "cell_type": "code",
   "execution_count": null,
   "id": "57f47640",
   "metadata": {},
   "outputs": [],
   "source": [
    "course = pd.read_csv('course.csv')"
   ]
  },
  {
   "cell_type": "code",
   "execution_count": null,
   "id": "1473a0b6",
   "metadata": {},
   "outputs": [],
   "source": [
    "user_course_progress = pd.read_csv('user_course_progress.csv')"
   ]
  },
  {
   "cell_type": "markdown",
   "id": "33916891",
   "metadata": {},
   "source": [
    "**Относительным прогрессом** будем называть отношение суммарного числа баллов, которые ученик набрал за курс (колонка `progress` в таблице `user_course_progress`), к максимальному количеству баллов, которые ученик в принципе мог набрать за данный курс (колонка `max_progress` в таблице `course`).\n",
    "\n",
    "С помощью представленных данных найдите ответ на следующий вопрос: в курсах какого предмета больше всего учеников, чей относительный прогресс не меньше $0.8$?\n",
    "\n",
    "В рамках следующих заданий вам будет предложено, действуя поэтапно, найти ответ на этот вопрос."
   ]
  },
  {
   "cell_type": "markdown",
   "id": "0b282053",
   "metadata": {},
   "source": [
    "### Задание 1"
   ]
  },
  {
   "cell_type": "markdown",
   "id": "56f4ef8c",
   "metadata": {},
   "source": [
    "Произведите соединение таблиц `course` и `user_course_progress`.\n",
    "\n",
    "В качестве ответа укажите количество строчек итоговой таблицы, в которых представлены ученики курсов по химии."
   ]
  },
  {
   "cell_type": "code",
   "execution_count": null,
   "id": "afa159ba-62e3-4c22-949c-d90972c6d8ce",
   "metadata": {},
   "outputs": [],
   "source": []
  },
  {
   "cell_type": "code",
   "execution_count": null,
   "id": "09c79fff-91bd-4b02-9129-bd1cbb588e88",
   "metadata": {},
   "outputs": [],
   "source": []
  },
  {
   "cell_type": "markdown",
   "id": "5f7122c8",
   "metadata": {},
   "source": [
    "### Задание 2"
   ]
  },
  {
   "cell_type": "markdown",
   "id": "6ebe3997",
   "metadata": {},
   "source": [
    "Обратите внимание, что у части курсов нет значения в колонке `max_score`. Уберите из полученной в предыдщуем задании таблицы все строчки, в которых пропущено значение колонки `max_score`.\n",
    "\n",
    "В качестве ответа укажите количество строчек в итоговой таблице."
   ]
  },
  {
   "cell_type": "code",
   "execution_count": null,
   "id": "a8b32fb4-0e7e-4491-b9f8-9f62bbcc7856",
   "metadata": {},
   "outputs": [],
   "source": []
  },
  {
   "cell_type": "code",
   "execution_count": null,
   "id": "434532a9-973c-4a79-a8f1-1b0cde2100f2",
   "metadata": {},
   "outputs": [],
   "source": []
  },
  {
   "cell_type": "markdown",
   "id": "2e7a3487",
   "metadata": {},
   "source": [
    "### Задание 3"
   ]
  },
  {
   "cell_type": "markdown",
   "id": "7b9fe5e3",
   "metadata": {},
   "source": [
    "Добавьте в полученную в предыдущем задании таблицу колонку `relative_progress`, в которой для каждого ученика будет храниться значение его относительного прогресса в конкретном курсе.\n",
    "\n",
    "В качестве ответа укажите среднее значение относительного прогресса в таблице. Ответ округлите до двух знаков после запятой с помощью функции `round`, которая встроена в Series."
   ]
  },
  {
   "cell_type": "code",
   "execution_count": null,
   "id": "49da0871-1afe-421b-a0d8-7a61fa9cce64",
   "metadata": {},
   "outputs": [],
   "source": []
  },
  {
   "cell_type": "code",
   "execution_count": null,
   "id": "e228bb91-277f-4ce8-b8f3-7338c3f1b309",
   "metadata": {},
   "outputs": [],
   "source": []
  },
  {
   "cell_type": "markdown",
   "id": "f2f2e646",
   "metadata": {},
   "source": [
    "### Задание 4"
   ]
  },
  {
   "cell_type": "markdown",
   "id": "f066617d",
   "metadata": {},
   "source": [
    "Оставьте в полученной в предыдущем задании таблице только те строчки, в которых значение относительного прогресса не меньше $0.8$.\n",
    "\n",
    "В качестве ответа укажите число строчек в получившейся таблице."
   ]
  },
  {
   "cell_type": "code",
   "execution_count": null,
   "id": "7f353c32-c6d5-4432-a6bb-861876720782",
   "metadata": {},
   "outputs": [],
   "source": []
  },
  {
   "cell_type": "code",
   "execution_count": null,
   "id": "7c72f8be-7ad0-41d8-ae41-1bb3cd584eb0",
   "metadata": {},
   "outputs": [],
   "source": []
  },
  {
   "cell_type": "markdown",
   "id": "0da39496",
   "metadata": {},
   "source": [
    "### Задание 5"
   ]
  },
  {
   "cell_type": "markdown",
   "id": "e6730f75",
   "metadata": {},
   "source": [
    "Произведите группировку строчек таблицы по предметам и посчитайте, сколько учеников с относительным прогрессом не меньше $0.8$ оказалось в каждом из предметов.\n",
    "\n",
    "В качестве ответа заполните таблицу, в которой каждому предмету сопоставлено число таких учеников.\n",
    "\n",
    "Если один и тот же ученик учился в разных курсах одного и того же предмета и в каждом из этих курсов достиг относительного прогресса не менее $0.8$, при подсчёте учтите его несколько раз."
   ]
  },
  {
   "cell_type": "code",
   "execution_count": null,
   "id": "92ada617-1724-41a2-84e4-4bc5dc87eafd",
   "metadata": {},
   "outputs": [],
   "source": []
  },
  {
   "cell_type": "code",
   "execution_count": null,
   "id": "6efcd84b-ca2d-49e6-ad2e-cd4b3797d4ef",
   "metadata": {},
   "outputs": [],
   "source": []
  },
  {
   "cell_type": "markdown",
   "id": "d87b4850",
   "metadata": {},
   "source": [
    "### Задание 6"
   ]
  },
  {
   "cell_type": "markdown",
   "id": "4500b2c0",
   "metadata": {},
   "source": [
    "В курсах какого предмета больше всего учеников, достигших относительного прогресса не менее $0.8$?"
   ]
  },
  {
   "cell_type": "code",
   "execution_count": null,
   "id": "bab425fd-7a78-4d30-a692-06c1362fd70e",
   "metadata": {},
   "outputs": [],
   "source": []
  },
  {
   "cell_type": "code",
   "execution_count": null,
   "id": "d7372221-bc59-4ee1-803d-b4d2a35d9cf4",
   "metadata": {},
   "outputs": [],
   "source": []
  }
 ],
 "metadata": {
  "kernelspec": {
   "display_name": "Python 3 (ipykernel)",
   "language": "python",
   "name": "python3"
  },
  "language_info": {
   "codemirror_mode": {
    "name": "ipython",
    "version": 3
   },
   "file_extension": ".py",
   "mimetype": "text/x-python",
   "name": "python",
   "nbconvert_exporter": "python",
   "pygments_lexer": "ipython3",
   "version": "3.7.15"
  }
 },
 "nbformat": 4,
 "nbformat_minor": 5
}
