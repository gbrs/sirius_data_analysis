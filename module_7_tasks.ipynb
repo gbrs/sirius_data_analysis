{
 "cells": [
  {
   "cell_type": "code",
   "execution_count": 1,
   "id": "9d594175",
   "metadata": {},
   "outputs": [],
   "source": [
    "import pandas as pd"
   ]
  },
  {
   "cell_type": "code",
   "execution_count": 2,
   "id": "d438206c",
   "metadata": {},
   "outputs": [],
   "source": [
    "user = pd.read_csv('user_7.csv')"
   ]
  },
  {
   "cell_type": "code",
   "execution_count": 3,
   "id": "ef9d5731",
   "metadata": {},
   "outputs": [],
   "source": [
    "user_session = pd.read_csv('user_session_7.csv')"
   ]
  },
  {
   "cell_type": "code",
   "execution_count": null,
   "id": "a5eff1df-5a02-4bf4-af9b-d584e1ee401e",
   "metadata": {},
   "outputs": [],
   "source": []
  },
  {
   "cell_type": "markdown",
   "id": "2faac0e3-55d6-4f9a-bdd8-079cb1a74a7f",
   "metadata": {},
   "source": [
    "## Предобработка данных"
   ]
  },
  {
   "cell_type": "code",
   "execution_count": 4,
   "id": "9a0e4655-679c-469d-91b0-807d85937683",
   "metadata": {},
   "outputs": [
    {
     "name": "stdout",
     "output_type": "stream",
     "text": [
      "<class 'pandas.core.frame.DataFrame'>\n",
      "RangeIndex: 1000 entries, 0 to 999\n",
      "Data columns (total 5 columns):\n",
      " #   Column        Non-Null Count  Dtype \n",
      "---  ------        --------------  ----- \n",
      " 0   id            1000 non-null   int64 \n",
      " 1   gender        1000 non-null   object\n",
      " 2   birthday      1000 non-null   object\n",
      " 3   region        1000 non-null   object\n",
      " 4   last_visited  1000 non-null   object\n",
      "dtypes: int64(1), object(4)\n",
      "memory usage: 39.2+ KB\n"
     ]
    }
   ],
   "source": [
    "user.info()"
   ]
  },
  {
   "cell_type": "code",
   "execution_count": 5,
   "id": "754c30e3-b82b-48c1-b43c-02fd13c6561c",
   "metadata": {},
   "outputs": [
    {
     "data": {
      "text/html": [
       "<div>\n",
       "<style scoped>\n",
       "    .dataframe tbody tr th:only-of-type {\n",
       "        vertical-align: middle;\n",
       "    }\n",
       "\n",
       "    .dataframe tbody tr th {\n",
       "        vertical-align: top;\n",
       "    }\n",
       "\n",
       "    .dataframe thead th {\n",
       "        text-align: right;\n",
       "    }\n",
       "</style>\n",
       "<table border=\"1\" class=\"dataframe\">\n",
       "  <thead>\n",
       "    <tr style=\"text-align: right;\">\n",
       "      <th></th>\n",
       "      <th>gender</th>\n",
       "      <th>birthday</th>\n",
       "      <th>region</th>\n",
       "      <th>last_visited</th>\n",
       "    </tr>\n",
       "  </thead>\n",
       "  <tbody>\n",
       "    <tr>\n",
       "      <th>count</th>\n",
       "      <td>1000</td>\n",
       "      <td>1000</td>\n",
       "      <td>1000</td>\n",
       "      <td>1000</td>\n",
       "    </tr>\n",
       "    <tr>\n",
       "      <th>unique</th>\n",
       "      <td>2</td>\n",
       "      <td>1000</td>\n",
       "      <td>5</td>\n",
       "      <td>1000</td>\n",
       "    </tr>\n",
       "    <tr>\n",
       "      <th>top</th>\n",
       "      <td>Ж</td>\n",
       "      <td>2007-07-15 18:53:02</td>\n",
       "      <td>Город Москва</td>\n",
       "      <td>2023-09-20 18:00:34.464576</td>\n",
       "    </tr>\n",
       "    <tr>\n",
       "      <th>freq</th>\n",
       "      <td>575</td>\n",
       "      <td>1</td>\n",
       "      <td>451</td>\n",
       "      <td>1</td>\n",
       "    </tr>\n",
       "  </tbody>\n",
       "</table>\n",
       "</div>"
      ],
      "text/plain": [
       "       gender             birthday        region                last_visited\n",
       "count    1000                 1000          1000                        1000\n",
       "unique      2                 1000             5                        1000\n",
       "top         Ж  2007-07-15 18:53:02  Город Москва  2023-09-20 18:00:34.464576\n",
       "freq      575                    1           451                           1"
      ]
     },
     "execution_count": 5,
     "metadata": {},
     "output_type": "execute_result"
    }
   ],
   "source": [
    "user.describe(include='object')"
   ]
  },
  {
   "cell_type": "code",
   "execution_count": 6,
   "id": "079b5aa3-7cae-44f6-ab35-cff3693c2b51",
   "metadata": {},
   "outputs": [],
   "source": [
    "user.gender = user.gender.astype('category')\n",
    "user.region\t= user.region.astype('category')"
   ]
  },
  {
   "cell_type": "code",
   "execution_count": 7,
   "id": "6a4b7991-4994-4e99-a56c-709de48e5c95",
   "metadata": {},
   "outputs": [],
   "source": [
    "user.birthday = pd.to_datetime(user.birthday)\n",
    "user.last_visited = pd.to_datetime(user.last_visited)"
   ]
  },
  {
   "cell_type": "code",
   "execution_count": 8,
   "id": "0df3a9bd-847d-4f1d-8e4f-577b30f8d981",
   "metadata": {},
   "outputs": [
    {
     "name": "stdout",
     "output_type": "stream",
     "text": [
      "<class 'pandas.core.frame.DataFrame'>\n",
      "RangeIndex: 1000 entries, 0 to 999\n",
      "Data columns (total 5 columns):\n",
      " #   Column        Non-Null Count  Dtype         \n",
      "---  ------        --------------  -----         \n",
      " 0   id            1000 non-null   int64         \n",
      " 1   gender        1000 non-null   category      \n",
      " 2   birthday      1000 non-null   datetime64[ns]\n",
      " 3   region        1000 non-null   category      \n",
      " 4   last_visited  1000 non-null   datetime64[ns]\n",
      "dtypes: category(2), datetime64[ns](2), int64(1)\n",
      "memory usage: 25.8 KB\n"
     ]
    }
   ],
   "source": [
    "user.info()"
   ]
  },
  {
   "cell_type": "code",
   "execution_count": null,
   "id": "962f91ce-e575-4563-8657-ee9d8dba16d9",
   "metadata": {},
   "outputs": [],
   "source": []
  },
  {
   "cell_type": "code",
   "execution_count": 9,
   "id": "ef5ce8c9-05bf-41f4-a1e5-66e85ad4a532",
   "metadata": {},
   "outputs": [
    {
     "name": "stdout",
     "output_type": "stream",
     "text": [
      "<class 'pandas.core.frame.DataFrame'>\n",
      "RangeIndex: 52612 entries, 0 to 52611\n",
      "Data columns (total 4 columns):\n",
      " #   Column        Non-Null Count  Dtype \n",
      "---  ------        --------------  ----- \n",
      " 0   session_id    52612 non-null  int64 \n",
      " 1   user_id       52612 non-null  int64 \n",
      " 2   date          52612 non-null  object\n",
      " 3   time_watched  52612 non-null  int64 \n",
      "dtypes: int64(3), object(1)\n",
      "memory usage: 1.6+ MB\n"
     ]
    }
   ],
   "source": [
    "user_session.info()"
   ]
  },
  {
   "cell_type": "code",
   "execution_count": 10,
   "id": "f080e539-22e3-48cc-8410-0aa9dc97e140",
   "metadata": {},
   "outputs": [],
   "source": [
    "user_session.date = pd.to_datetime(user_session.date)"
   ]
  },
  {
   "cell_type": "code",
   "execution_count": 11,
   "id": "2fb6efe7-ec2a-4f5a-9218-a9dc597c1f3f",
   "metadata": {},
   "outputs": [
    {
     "name": "stdout",
     "output_type": "stream",
     "text": [
      "<class 'pandas.core.frame.DataFrame'>\n",
      "RangeIndex: 52612 entries, 0 to 52611\n",
      "Data columns (total 4 columns):\n",
      " #   Column        Non-Null Count  Dtype         \n",
      "---  ------        --------------  -----         \n",
      " 0   session_id    52612 non-null  int64         \n",
      " 1   user_id       52612 non-null  int64         \n",
      " 2   date          52612 non-null  datetime64[ns]\n",
      " 3   time_watched  52612 non-null  int64         \n",
      "dtypes: datetime64[ns](1), int64(3)\n",
      "memory usage: 1.6 MB\n"
     ]
    }
   ],
   "source": [
    "user_session.info()"
   ]
  },
  {
   "cell_type": "code",
   "execution_count": null,
   "id": "6712cc2a-85f5-44e9-92b8-396449fee074",
   "metadata": {},
   "outputs": [],
   "source": []
  },
  {
   "cell_type": "code",
   "execution_count": 12,
   "id": "7a1fc11f-0a05-4744-8f38-a5557ee07a92",
   "metadata": {},
   "outputs": [],
   "source": [
    "df = pd.merge(\n",
    "        user,\n",
    "        user_session,\n",
    "        left_on='id',\n",
    "        right_on='user_id',\n",
    "        validate='1:m'\n",
    ")"
   ]
  },
  {
   "cell_type": "code",
   "execution_count": 13,
   "id": "a655d52e-3ffc-4b32-ba9e-a6c34587fdc1",
   "metadata": {},
   "outputs": [],
   "source": [
    "df = df.drop('user_id', axis=1)\n",
    "df = df.rename(columns={'id': 'user_id'})"
   ]
  },
  {
   "cell_type": "code",
   "execution_count": 14,
   "id": "795df272-7f9c-489f-897b-715e7f63298c",
   "metadata": {},
   "outputs": [
    {
     "name": "stdout",
     "output_type": "stream",
     "text": [
      "<class 'pandas.core.frame.DataFrame'>\n",
      "Int64Index: 52612 entries, 0 to 52611\n",
      "Data columns (total 8 columns):\n",
      " #   Column        Non-Null Count  Dtype         \n",
      "---  ------        --------------  -----         \n",
      " 0   user_id       52612 non-null  int64         \n",
      " 1   gender        52612 non-null  category      \n",
      " 2   birthday      52612 non-null  datetime64[ns]\n",
      " 3   region        52612 non-null  category      \n",
      " 4   last_visited  52612 non-null  datetime64[ns]\n",
      " 5   session_id    52612 non-null  int64         \n",
      " 6   date          52612 non-null  datetime64[ns]\n",
      " 7   time_watched  52612 non-null  int64         \n",
      "dtypes: category(2), datetime64[ns](3), int64(3)\n",
      "memory usage: 2.9 MB\n"
     ]
    }
   ],
   "source": [
    "df.info()"
   ]
  },
  {
   "cell_type": "code",
   "execution_count": null,
   "id": "d1fc055e-0640-4e66-9f14-871c3b93dc6a",
   "metadata": {},
   "outputs": [],
   "source": []
  },
  {
   "cell_type": "markdown",
   "id": "c33d42c2",
   "metadata": {},
   "source": [
    "## Задача 1"
   ]
  },
  {
   "cell_type": "markdown",
   "id": "613f7ffa",
   "metadata": {},
   "source": [
    "Посчитайте долю пользователей мужского пола в таблице `users`.\n",
    "\n",
    "Ответ округлите до $2$-х знаков после запятой.\n",
    "\n",
    "**Рекомендации по решению**\n",
    "\n",
    "Для подсчёта доли объектов, удовлетворяющих заданному условию, удобно использовать функцию `mean`, вызвав её от колонки-фильтра со значениями булевого типа. В данном случае каждое знаечние `True` будет приведено к $1$, а каждое значение `False` — к $0$. Усреднение этих значений как раз и даст долю объектов, удволетворяющих заданному условию."
   ]
  },
  {
   "cell_type": "code",
   "execution_count": 9,
   "id": "a808fee0-45d5-4469-b932-632a1a64567a",
   "metadata": {},
   "outputs": [
    {
     "data": {
      "text/plain": [
       "0.42"
      ]
     },
     "execution_count": 9,
     "metadata": {},
     "output_type": "execute_result"
    }
   ],
   "source": [
    "(user.gender == 'М').mean().round(2)"
   ]
  },
  {
   "cell_type": "code",
   "execution_count": 12,
   "id": "4ea0e470-6b1b-4d2e-8bf0-b06c5d3ebd1a",
   "metadata": {},
   "outputs": [
    {
     "data": {
      "text/plain": [
       "Ж    575\n",
       "М    425\n",
       "Name: gender, dtype: int64"
      ]
     },
     "execution_count": 12,
     "metadata": {},
     "output_type": "execute_result"
    }
   ],
   "source": [
    "user.gender.value_counts()"
   ]
  },
  {
   "cell_type": "code",
   "execution_count": 13,
   "id": "c3c41091-75a8-4c02-9d0a-3b60da2f3d65",
   "metadata": {},
   "outputs": [],
   "source": [
    "## чертово питоновское банковское округление :)))"
   ]
  },
  {
   "cell_type": "code",
   "execution_count": null,
   "id": "258bbb2a-93c4-44b7-a78e-f6cf406ee25e",
   "metadata": {},
   "outputs": [],
   "source": []
  },
  {
   "cell_type": "markdown",
   "id": "a0d3b116",
   "metadata": {},
   "source": [
    "## Задача 2"
   ]
  },
  {
   "cell_type": "markdown",
   "id": "b421674f",
   "metadata": {},
   "source": [
    "Посчитайте долю пользователей из Краснодарского края, которые заходили на платформу в сентябре $2023$-го года.\n",
    "\n",
    "Ответ округлите до $2$-х знаков после запятой."
   ]
  },
  {
   "cell_type": "code",
   "execution_count": 32,
   "id": "88671ce4-8b40-49a7-9281-8f080dcef33a",
   "metadata": {},
   "outputs": [
    {
     "data": {
      "text/plain": [
       "0.41"
      ]
     },
     "execution_count": 32,
     "metadata": {},
     "output_type": "execute_result"
    }
   ],
   "source": [
    "round(user[\n",
    "            (user.region == 'Краснодарский край') \n",
    "            & (user.last_visited.dt.to_period('m') == '2023-09')\n",
    "      ].id.nunique() \n",
    "      / user[user.region == 'Краснодарский край'].id.nunique()\n",
    "     , 2)"
   ]
  },
  {
   "cell_type": "code",
   "execution_count": null,
   "id": "be3d46b9-2439-4d68-b6a6-a77d1dae2912",
   "metadata": {},
   "outputs": [],
   "source": []
  },
  {
   "cell_type": "markdown",
   "id": "9ede3010",
   "metadata": {},
   "source": [
    "## Задача 3"
   ]
  },
  {
   "cell_type": "markdown",
   "id": "b4137474",
   "metadata": {},
   "source": [
    "По таблице `user_session` рассчитайте долю активных пользователей в мае $2023$-го года относительно общего числа пользователей платформы из таблицы `users`.\n",
    "\n",
    "Активными считайте пользователей, у которых в этот месяц была хотя бы одна сессия.\n",
    "\n",
    "Ответ округлите до $2$-х знаков после запятой."
   ]
  },
  {
   "cell_type": "code",
   "execution_count": 36,
   "id": "86e1ecdc-cd31-4fe5-837d-50c4e2b9ac17",
   "metadata": {},
   "outputs": [
    {
     "data": {
      "text/plain": [
       "0.6"
      ]
     },
     "execution_count": 36,
     "metadata": {},
     "output_type": "execute_result"
    }
   ],
   "source": [
    "round(\n",
    "        user_session[user_session.date.dt.to_period('m') == '2023-05'].user_id.nunique() \n",
    "                / user.id.nunique()\n",
    "        , 2\n",
    ")"
   ]
  },
  {
   "cell_type": "code",
   "execution_count": null,
   "id": "36bce5dc-ca71-4d73-a2ef-89305664de9c",
   "metadata": {},
   "outputs": [],
   "source": []
  },
  {
   "cell_type": "markdown",
   "id": "a8e18d2e",
   "metadata": {},
   "source": [
    "## Задача 4"
   ]
  },
  {
   "cell_type": "markdown",
   "id": "99d1c5d9",
   "metadata": {},
   "source": [
    "Дадим другое определение активным пользователям. Будем считать активными в конкретном месяце тех, кто посмотрел хотя бы $60$ минут видеоконтента в этом месяце.\n",
    "\n",
    "Рассчитайте долю активных пользователей среди тех, у кого была хотя бы одна сессия в марте $2023$-го года.\n",
    "\n",
    "Ответ округлите до $2$-х знаков после запятой."
   ]
  },
  {
   "cell_type": "code",
   "execution_count": 45,
   "id": "c9237e77-df68-47bf-9ef2-19a17f46efe8",
   "metadata": {},
   "outputs": [],
   "source": [
    "user_time = user_session[user_session.date.dt.to_period('m') == '2023-03'].groupby('user_id').time_watched.sum()"
   ]
  },
  {
   "cell_type": "code",
   "execution_count": 49,
   "id": "7ddd5354-70ff-4fcc-83c4-6d6c7733ffe6",
   "metadata": {},
   "outputs": [
    {
     "data": {
      "text/plain": [
       "0.92"
      ]
     },
     "execution_count": 49,
     "metadata": {},
     "output_type": "execute_result"
    }
   ],
   "source": [
    "(user_time > 60).mean().round(2)"
   ]
  },
  {
   "cell_type": "code",
   "execution_count": null,
   "id": "4ae94e14-dfac-430e-ba50-ff44aa6ed1aa",
   "metadata": {},
   "outputs": [],
   "source": []
  },
  {
   "cell_type": "markdown",
   "id": "d09e49c0",
   "metadata": {},
   "source": [
    "# Задачи 5-9"
   ]
  },
  {
   "cell_type": "markdown",
   "id": "5d4bf7dd",
   "metadata": {},
   "source": [
    "Рассчитайте, сколько в среднем смотрят видеоконтента пользователи за один день активности. Днём активности называем день, в который у пользователя была сессия."
   ]
  },
  {
   "cell_type": "markdown",
   "id": "ffe1f121",
   "metadata": {},
   "source": [
    "## Задача 5"
   ]
  },
  {
   "cell_type": "markdown",
   "id": "9f6ca13f",
   "metadata": {},
   "source": [
    "Для этого сначала вычислите суммарное число дней, когда пользователи смотрели видеоконтент.\n",
    "\n",
    "Обратите внимание, что хараткеристику можно посчитать двумя способами. Рассчитатйте её как число уникальных пар вида (пользователь; день, когда у него была сессия)."
   ]
  },
  {
   "cell_type": "code",
   "execution_count": null,
   "id": "29265ca4-5b38-4342-88af-98b8959a9d46",
   "metadata": {},
   "outputs": [],
   "source": []
  },
  {
   "cell_type": "code",
   "execution_count": null,
   "id": "1183becb-a01f-445b-8ab2-9e34e2928328",
   "metadata": {},
   "outputs": [],
   "source": []
  },
  {
   "cell_type": "code",
   "execution_count": 15,
   "id": "27c21475-2bc5-434f-9987-912c8a1e9455",
   "metadata": {},
   "outputs": [
    {
     "data": {
      "text/html": [
       "<div>\n",
       "<style scoped>\n",
       "    .dataframe tbody tr th:only-of-type {\n",
       "        vertical-align: middle;\n",
       "    }\n",
       "\n",
       "    .dataframe tbody tr th {\n",
       "        vertical-align: top;\n",
       "    }\n",
       "\n",
       "    .dataframe thead th {\n",
       "        text-align: right;\n",
       "    }\n",
       "</style>\n",
       "<table border=\"1\" class=\"dataframe\">\n",
       "  <thead>\n",
       "    <tr style=\"text-align: right;\">\n",
       "      <th></th>\n",
       "      <th>id</th>\n",
       "      <th>gender</th>\n",
       "      <th>birthday</th>\n",
       "      <th>region</th>\n",
       "      <th>last_visited</th>\n",
       "    </tr>\n",
       "  </thead>\n",
       "  <tbody>\n",
       "    <tr>\n",
       "      <th>0</th>\n",
       "      <td>1</td>\n",
       "      <td>М</td>\n",
       "      <td>2007-07-15 18:53:02</td>\n",
       "      <td>Город Москва</td>\n",
       "      <td>2023-09-20 18:00:34.464576</td>\n",
       "    </tr>\n",
       "  </tbody>\n",
       "</table>\n",
       "</div>"
      ],
      "text/plain": [
       "   id gender            birthday        region               last_visited\n",
       "0   1      М 2007-07-15 18:53:02  Город Москва 2023-09-20 18:00:34.464576"
      ]
     },
     "execution_count": 15,
     "metadata": {},
     "output_type": "execute_result"
    }
   ],
   "source": [
    "user.head(1)"
   ]
  },
  {
   "cell_type": "code",
   "execution_count": 16,
   "id": "a505ccdb-5a74-4c30-9845-96ef20117f49",
   "metadata": {},
   "outputs": [
    {
     "data": {
      "text/html": [
       "<div>\n",
       "<style scoped>\n",
       "    .dataframe tbody tr th:only-of-type {\n",
       "        vertical-align: middle;\n",
       "    }\n",
       "\n",
       "    .dataframe tbody tr th {\n",
       "        vertical-align: top;\n",
       "    }\n",
       "\n",
       "    .dataframe thead th {\n",
       "        text-align: right;\n",
       "    }\n",
       "</style>\n",
       "<table border=\"1\" class=\"dataframe\">\n",
       "  <thead>\n",
       "    <tr style=\"text-align: right;\">\n",
       "      <th></th>\n",
       "      <th>session_id</th>\n",
       "      <th>user_id</th>\n",
       "      <th>date</th>\n",
       "      <th>time_watched</th>\n",
       "    </tr>\n",
       "  </thead>\n",
       "  <tbody>\n",
       "    <tr>\n",
       "      <th>0</th>\n",
       "      <td>1</td>\n",
       "      <td>558</td>\n",
       "      <td>2023-01-23 00:52:14</td>\n",
       "      <td>10</td>\n",
       "    </tr>\n",
       "  </tbody>\n",
       "</table>\n",
       "</div>"
      ],
      "text/plain": [
       "   session_id  user_id                date  time_watched\n",
       "0           1      558 2023-01-23 00:52:14            10"
      ]
     },
     "execution_count": 16,
     "metadata": {},
     "output_type": "execute_result"
    }
   ],
   "source": [
    "user_session.head(1)"
   ]
  },
  {
   "cell_type": "code",
   "execution_count": 17,
   "id": "488f34cd-ceb4-4508-8d8c-99c51da4e867",
   "metadata": {},
   "outputs": [
    {
     "data": {
      "text/html": [
       "<div>\n",
       "<style scoped>\n",
       "    .dataframe tbody tr th:only-of-type {\n",
       "        vertical-align: middle;\n",
       "    }\n",
       "\n",
       "    .dataframe tbody tr th {\n",
       "        vertical-align: top;\n",
       "    }\n",
       "\n",
       "    .dataframe thead th {\n",
       "        text-align: right;\n",
       "    }\n",
       "</style>\n",
       "<table border=\"1\" class=\"dataframe\">\n",
       "  <thead>\n",
       "    <tr style=\"text-align: right;\">\n",
       "      <th></th>\n",
       "      <th>user_id</th>\n",
       "      <th>gender</th>\n",
       "      <th>birthday</th>\n",
       "      <th>region</th>\n",
       "      <th>last_visited</th>\n",
       "      <th>session_id</th>\n",
       "      <th>date</th>\n",
       "      <th>time_watched</th>\n",
       "    </tr>\n",
       "  </thead>\n",
       "  <tbody>\n",
       "    <tr>\n",
       "      <th>0</th>\n",
       "      <td>1</td>\n",
       "      <td>М</td>\n",
       "      <td>2007-07-15 18:53:02</td>\n",
       "      <td>Город Москва</td>\n",
       "      <td>2023-09-20 18:00:34.464576</td>\n",
       "      <td>4021</td>\n",
       "      <td>2023-02-05 16:28:36</td>\n",
       "      <td>31</td>\n",
       "    </tr>\n",
       "  </tbody>\n",
       "</table>\n",
       "</div>"
      ],
      "text/plain": [
       "   user_id gender            birthday        region  \\\n",
       "0        1      М 2007-07-15 18:53:02  Город Москва   \n",
       "\n",
       "                last_visited  session_id                date  time_watched  \n",
       "0 2023-09-20 18:00:34.464576        4021 2023-02-05 16:28:36            31  "
      ]
     },
     "execution_count": 17,
     "metadata": {},
     "output_type": "execute_result"
    }
   ],
   "source": [
    "df.head(1)"
   ]
  },
  {
   "cell_type": "markdown",
   "id": "5e986c53",
   "metadata": {},
   "source": [
    "## Задача 6"
   ]
  },
  {
   "cell_type": "markdown",
   "id": "4ec007d0",
   "metadata": {},
   "source": [
    "Теперь вычислите суммарное время просмотра видеоконтента пользователями."
   ]
  },
  {
   "cell_type": "markdown",
   "id": "1fca81c6",
   "metadata": {},
   "source": [
    "## Задача 7"
   ]
  },
  {
   "cell_type": "markdown",
   "id": "62709645",
   "metadata": {},
   "source": [
    "Вычислите среднее количество просмотренного пользователями видеоконтента за день активности, как отношение суммарного времени просмотра к суммарному числу дней просмотра.\n",
    "\n",
    "Ответ округлите до $2$-х знаков после запятой."
   ]
  },
  {
   "cell_type": "markdown",
   "id": "1e1834e4",
   "metadata": {},
   "source": [
    "## Задача 8"
   ]
  },
  {
   "cell_type": "markdown",
   "id": "23cd1b77",
   "metadata": {},
   "source": [
    "Обратите внимание, что есть альтернативный способ рассчитать, сколько в среднем видеоконтента смотрят пользователи за один день активности.\n",
    "\n",
    "Во-первых, рассчитайте для каждого из пользователей среднее количество просмотренного им видеоконтента. Принцип вычисления метрики для конкретного пользователя такой же, как был для всех пользователей вместе: нужно взять суммарное время просмотра контента и разделить на суммарное количество уникальных дней активности.\n",
    "\n",
    "В качестве ответа укажите среднее количество просмотренного видеоконтента пользователем с `id`, равным $738$. Ответ округлите до $2$-х знаков после запятой.\n",
    "\n",
    "**Рекомендации по решению**\n",
    "\n",
    "Для того чтобы вычислить среднее количество видеоконтента, просмотренного конкретным пользователем, удобно провести группировку по пользователям и произвести агрегацию по двум колонкам отдельно: по колонке `time_watched`, просуммировав значения в ней , и по колонке `date`, посчитав количество уникальных дней активности для каждого из пользователей.\n",
    "\n",
    "Для того чтобы произвести агрегацию по колонке `date`, удобно воспользоваться лямбда-функцией, которая сначала произведёт округление моментов времени из колонке `date` _вниз_ до дней, а потом посчитает количество полученных уникальных дней."
   ]
  },
  {
   "cell_type": "markdown",
   "id": "419edbe1",
   "metadata": {},
   "source": [
    "## Задача 9"
   ]
  },
  {
   "cell_type": "markdown",
   "id": "9f80964b",
   "metadata": {},
   "source": [
    "Для того чтобы вычислить среднее время просмотра видеоконтента за день активности, посчитайте среднее арифметическое данной характеристики по всем пользователям. Для этого используйте данные, полученные в предыдущем упражнении.\n",
    "\n",
    "Ответ округлите до $2$-х знаков после запятой."
   ]
  }
 ],
 "metadata": {
  "kernelspec": {
   "display_name": "Python 3 (ipykernel)",
   "language": "python",
   "name": "python3"
  },
  "language_info": {
   "codemirror_mode": {
    "name": "ipython",
    "version": 3
   },
   "file_extension": ".py",
   "mimetype": "text/x-python",
   "name": "python",
   "nbconvert_exporter": "python",
   "pygments_lexer": "ipython3",
   "version": "3.7.15"
  }
 },
 "nbformat": 4,
 "nbformat_minor": 5
}
